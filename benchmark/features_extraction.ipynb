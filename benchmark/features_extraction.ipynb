{
 "cells": [
  {
   "cell_type": "markdown",
   "metadata": {},
   "source": [
    "##### For later: DON'T FORGET PARALLEL PARSER!"
   ]
  },
  {
   "cell_type": "markdown",
   "metadata": {},
   "source": [
    "```\n",
    "[ ] POS tag density based features - TODO\n",
    "[ ] Lexical Richness Features from SLA research - ?\n",
    "[ ] Syntactic Complexity Features\n",
    "    [ ] Non-parse tree based features - TODO!!!\n",
    "    [ ] General parse tree features - TODO!!!\n",
    "    [ ] Features from SLA research (Lu, 2010) - ?\n",
    "[ ] Word Characteristic Features\n",
    "    [ ] Morpho-Syntactic properties of Words [CELEX] - ?\n",
    "    [ ] Psycholinguistic Features [MRC] - ?\n",
    "[ ] Semantic Features [Wordnet] - TODO\n",
    "```"
   ]
  },
  {
   "cell_type": "markdown",
   "metadata": {},
   "source": [
    "Syntax Parser doc: https://github.com/nikitakit/self-attentive-parser#usage-with-spacy"
   ]
  },
  {
   "cell_type": "code",
   "execution_count": 1,
   "metadata": {},
   "outputs": [],
   "source": [
    "%load_ext autoreload\n",
    "%autoreload 2"
   ]
  },
  {
   "cell_type": "code",
   "execution_count": 54,
   "metadata": {},
   "outputs": [],
   "source": [
    "import features"
   ]
  },
  {
   "cell_type": "code",
   "execution_count": 55,
   "metadata": {},
   "outputs": [],
   "source": [
    "import pandas as pd\n",
    "\n",
    "text_df = pd.read_hdf('../data/weebit/weebit.h5')\n",
    "# text = text_df['text'][2:3]\n",
    "text = [\"Before we play again, we should do our homework in the park.\"]"
   ]
  },
  {
   "cell_type": "code",
   "execution_count": 56,
   "metadata": {},
   "outputs": [
    {
     "name": "stderr",
     "output_type": "stream",
     "text": [
      "100%|██████████| 1/1 [00:00<00:00, 521.87it/s]\n"
     ]
    },
    {
     "name": "stdout",
     "output_type": "stream",
     "text": [
      "CPU times: user 4.4 s, sys: 3.67 s, total: 8.07 s\n",
      "Wall time: 9.32 s\n"
     ]
    }
   ],
   "source": [
    "%%time\n",
    "docs = features.docify_text(text)"
   ]
  },
  {
   "cell_type": "code",
   "execution_count": 57,
   "metadata": {},
   "outputs": [
    {
     "data": {
      "text/plain": [
       "[Before we play again, we should do our homework in the park.]"
      ]
     },
     "execution_count": 57,
     "metadata": {},
     "output_type": "execute_result"
    }
   ],
   "source": [
    "docs"
   ]
  },
  {
   "cell_type": "code",
   "execution_count": 58,
   "metadata": {},
   "outputs": [
    {
     "data": {
      "text/plain": [
       "{'avgparsetreeheight': 5.0,\n",
       " 'senlen': 14.0,\n",
       " 'numnp': 4.0,\n",
       " 'numpp': 1.0,\n",
       " 'numclauses': 1.0,\n",
       " 'numprep': 1,\n",
       " 'num_-LRB-': 0,\n",
       " 'num_-RRB-': 0,\n",
       " 'num_,': 1,\n",
       " 'num_:': 0,\n",
       " 'num_.': 1,\n",
       " 'num_': 0,\n",
       " 'num_\"\"': 0,\n",
       " 'num_#': 0,\n",
       " 'num_``': 0,\n",
       " 'num_$': 0,\n",
       " 'num_ADD': 0,\n",
       " 'num_AFX': 0,\n",
       " 'num_BES': 0,\n",
       " 'num_CC': 0,\n",
       " 'num_CD': 0,\n",
       " 'num_DT': 1,\n",
       " 'num_EX': 0,\n",
       " 'num_FW': 0,\n",
       " 'num_GW': 0,\n",
       " 'num_HVS': 0,\n",
       " 'num_HYPH': 0,\n",
       " 'num_IN': 2,\n",
       " 'num_JJ': 0,\n",
       " 'num_JJR': 0,\n",
       " 'num_JJS': 0,\n",
       " 'num_LS': 0,\n",
       " 'num_MD': 1,\n",
       " 'num_NFP': 0,\n",
       " 'num_NIL': 0,\n",
       " 'num_NN': 2,\n",
       " 'num_NNP': 0,\n",
       " 'num_NNPS': 0,\n",
       " 'num_NNS': 0,\n",
       " 'num_PDT': 0,\n",
       " 'num_POS': 0,\n",
       " 'num_PRP': 2,\n",
       " 'num_PRP$': 1,\n",
       " 'num_RB': 1,\n",
       " 'num_RBR': 0,\n",
       " 'num_RBS': 0,\n",
       " 'num_RP': 0,\n",
       " 'num__SP': 0,\n",
       " 'num_SYM': 0,\n",
       " 'num_TO': 0,\n",
       " 'num_UH': 0,\n",
       " 'num_VB': 1,\n",
       " 'num_VBD': 0,\n",
       " 'num_VBG': 0,\n",
       " 'num_VBN': 0,\n",
       " 'num_VBP': 1,\n",
       " 'num_VBZ': 0,\n",
       " 'num_WDT': 0,\n",
       " 'num_WP': 0,\n",
       " 'num_WP$': 0,\n",
       " 'num_WRB': 0,\n",
       " 'num_XX': 0}"
      ]
     },
     "execution_count": 58,
     "metadata": {},
     "output_type": "execute_result"
    }
   ],
   "source": [
    "docs[0]._.features"
   ]
  },
  {
   "cell_type": "code",
   "execution_count": 46,
   "metadata": {},
   "outputs": [
    {
     "name": "stderr",
     "output_type": "stream",
     "text": [
      "/Users/Max/Coding/Conda/lib/python3.6/runpy.py:193: DeprecationWarning: [W003] Positional arguments to Doc.merge are deprecated. Instead, use the keyword arguments, for example tag=, lemma= or ent_type=.\n",
      "  \"__main__\", mod_spec)\n"
     ]
    },
    {
     "data": {
      "text/plain": [
       "[{'word': 'go',\n",
       "  'lemma': 'go',\n",
       "  'NE': '',\n",
       "  'POS_fine': 'VBP',\n",
       "  'POS_coarse': 'VERB',\n",
       "  'arc': 'ROOT',\n",
       "  'modifiers': [{'word': 'I',\n",
       "    'lemma': '-PRON-',\n",
       "    'NE': '',\n",
       "    'POS_fine': 'PRP',\n",
       "    'POS_coarse': 'PRON',\n",
       "    'arc': 'nsubj',\n",
       "    'modifiers': []},\n",
       "   {'word': 'to',\n",
       "    'lemma': 'to',\n",
       "    'NE': '',\n",
       "    'POS_fine': 'IN',\n",
       "    'POS_coarse': 'ADP',\n",
       "    'arc': 'prep',\n",
       "    'modifiers': [{'word': 'park',\n",
       "      'lemma': 'park',\n",
       "      'NE': '',\n",
       "      'POS_fine': 'NN',\n",
       "      'POS_coarse': 'NOUN',\n",
       "      'arc': 'pobj',\n",
       "      'modifiers': [{'word': 'the',\n",
       "        'lemma': 'the',\n",
       "        'NE': '',\n",
       "        'POS_fine': 'DT',\n",
       "        'POS_coarse': 'DET',\n",
       "        'arc': 'det',\n",
       "        'modifiers': []}]}]},\n",
       "   {'word': 'at',\n",
       "    'lemma': 'at',\n",
       "    'NE': '',\n",
       "    'POS_fine': 'IN',\n",
       "    'POS_coarse': 'ADP',\n",
       "    'arc': 'prep',\n",
       "    'modifiers': [{'word': '9 a.m.',\n",
       "      'lemma': '9 a.m.',\n",
       "      'NE': 'TIME',\n",
       "      'POS_fine': 'NN',\n",
       "      'POS_coarse': 'NOUN',\n",
       "      'arc': 'pobj',\n",
       "      'modifiers': []}]}]}]"
      ]
     },
     "execution_count": 46,
     "metadata": {},
     "output_type": "execute_result"
    }
   ],
   "source": [
    "docs[0].print_tree()"
   ]
  },
  {
   "cell_type": "code",
   "execution_count": null,
   "metadata": {},
   "outputs": [],
   "source": []
  }
 ],
 "metadata": {
  "kernelspec": {
   "display_name": "Python 3",
   "language": "python",
   "name": "python3"
  },
  "language_info": {
   "codemirror_mode": {
    "name": "ipython",
    "version": 3
   },
   "file_extension": ".py",
   "mimetype": "text/x-python",
   "name": "python",
   "nbconvert_exporter": "python",
   "pygments_lexer": "ipython3",
   "version": "3.6.6"
  }
 },
 "nbformat": 4,
 "nbformat_minor": 2
}
