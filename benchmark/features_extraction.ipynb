{
 "cells": [
  {
   "cell_type": "markdown",
   "metadata": {},
   "source": [
    "##### For later: DON'T FORGET PARALLEL PARSER!"
   ]
  },
  {
   "cell_type": "markdown",
   "metadata": {},
   "source": [
    "```\n",
    "[ ] POS tag density based features - TODO\n",
    "[ ] Lexical Richness Features from SLA research - ?\n",
    "[ ] Syntactic Complexity Features\n",
    "    [ ] Non-parse tree based features - TODO!!!\n",
    "    [ ] General parse tree features - TODO!!!\n",
    "    [ ] Features from SLA research (Lu, 2010) - ?\n",
    "[ ] Word Characteristic Features\n",
    "    [ ] Morpho-Syntactic properties of Words [CELEX] - ?\n",
    "    [ ] Psycholinguistic Features [MRC] - ?\n",
    "[ ] Semantic Features [Wordnet] - TODO\n",
    "```"
   ]
  },
  {
   "cell_type": "markdown",
   "metadata": {},
   "source": [
    "Syntax Parser doc: https://github.com/nikitakit/self-attentive-parser#usage-with-spacy"
   ]
  },
  {
   "cell_type": "code",
   "execution_count": 1,
   "metadata": {},
   "outputs": [],
   "source": [
    "%load_ext autoreload\n",
    "%autoreload 2"
   ]
  },
  {
   "cell_type": "code",
   "execution_count": 2,
   "metadata": {},
   "outputs": [],
   "source": [
    "import features"
   ]
  },
  {
   "cell_type": "code",
   "execution_count": 3,
   "metadata": {},
   "outputs": [],
   "source": [
    "import pandas as pd\n",
    "\n",
    "#text_df = pd.read_hdf('../data/weebit/weebit.h5')\n",
    "# text = text_df['text'][2:3]\n",
    "text = [\"\"\"I think Andre said () the Jamaica Observer reported that Usain Bolt broke the 100m record.\n",
    "The man is in the park and he has a telescope, through which he sees a boy somewhere.\n",
    "\"\"\"]"
   ]
  },
  {
   "cell_type": "code",
   "execution_count": 4,
   "metadata": {},
   "outputs": [
    {
     "name": "stderr",
     "output_type": "stream",
     "text": [
      "100%|██████████| 1/1 [00:00<00:00, 336.57it/s]\n"
     ]
    },
    {
     "name": "stdout",
     "output_type": "stream",
     "text": [
      "CPU times: user 4.64 s, sys: 3.29 s, total: 7.93 s\n",
      "Wall time: 7.96 s\n"
     ]
    }
   ],
   "source": [
    "%%time\n",
    "docs = features.docify_text(text)"
   ]
  },
  {
   "cell_type": "code",
   "execution_count": 5,
   "metadata": {},
   "outputs": [
    {
     "data": {
      "text/plain": [
       "{'senlen': 20.5,\n",
       " 'numnp': 6.0,\n",
       " 'numpp': 0.5,\n",
       " 'numvp': 3.5,\n",
       " 'numsbar': 2.0,\n",
       " 'numsbarq': 0.0,\n",
       " 'numwh': 1.0,\n",
       " 'avgnpsize': 2.5833333333333335,\n",
       " 'avgvpsize': 9.285714285714286,\n",
       " 'avgppsize': 3.0,\n",
       " 'avgparsetreeheight': 10.0,\n",
       " 'numconstituents': 19.0,\n",
       " 'numprep': 1,\n",
       " 'num_comma': 0.5,\n",
       " 'nouns': 0.2682926829268293,\n",
       " 'propernouns': 0.12195121951219512,\n",
       " 'pronouns': 0.0,\n",
       " 'conj': 0.07317073170731707,\n",
       " 'adj': 0.024390243902439025,\n",
       " 'ver': 0.17073170731707318,\n",
       " 'interj': 0.0,\n",
       " 'adverbs': 0.5,\n",
       " 'modals': 0.0,\n",
       " 'perpro': 0.0,\n",
       " 'whpro': 0.0,\n",
       " 'numfuncwords': 6.5,\n",
       " 'numdet': 3.0,\n",
       " 'numvb': 0.0,\n",
       " 'numvbd': 1.5,\n",
       " 'numvbg': 0.0,\n",
       " 'numvbn': 0.0,\n",
       " 'numvbp': 0.5}"
      ]
     },
     "execution_count": 5,
     "metadata": {},
     "output_type": "execute_result"
    }
   ],
   "source": [
    "docs[0]._.features"
   ]
  },
  {
   "cell_type": "code",
   "execution_count": 6,
   "metadata": {},
   "outputs": [
    {
     "data": {
      "text/plain": [
       "{'senlen': 20.5,\n",
       " 'numnp': 6.0,\n",
       " 'numpp': 0.5,\n",
       " 'numvp': 3.5,\n",
       " 'numsbar': 2.0,\n",
       " 'numsbarq': 0.0,\n",
       " 'numwh': 1.0,\n",
       " 'avgnpsize': 2.5833333333333335,\n",
       " 'avgvpsize': 9.285714285714286,\n",
       " 'avgppsize': 3.0,\n",
       " 'avgparsetreeheight': 10.0,\n",
       " 'numconstituents': 19.0}"
      ]
     },
     "execution_count": 6,
     "metadata": {},
     "output_type": "execute_result"
    }
   ],
   "source": [
    "features.syntactic_complexity(docs[0])"
   ]
  },
  {
   "cell_type": "code",
   "execution_count": 7,
   "metadata": {},
   "outputs": [
    {
     "data": {
      "text/plain": [
       "{'num_comma': 0.5,\n",
       " 'nouns': 0.2682926829268293,\n",
       " 'propernouns': 0.12195121951219512,\n",
       " 'pronouns': 0.0,\n",
       " 'conj': 0.07317073170731707,\n",
       " 'adj': 0.024390243902439025,\n",
       " 'ver': 0.17073170731707318,\n",
       " 'interj': 0.0,\n",
       " 'adverbs': 0.5,\n",
       " 'modals': 0.0,\n",
       " 'perpro': 0.0,\n",
       " 'whpro': 0.0,\n",
       " 'numfuncwords': 6.5,\n",
       " 'numdet': 3.0,\n",
       " 'numvb': 0.0,\n",
       " 'numvbd': 1.5,\n",
       " 'numvbg': 0.0,\n",
       " 'numvbn': 0.0,\n",
       " 'numvbp': 0.5}"
      ]
     },
     "execution_count": 7,
     "metadata": {},
     "output_type": "execute_result"
    }
   ],
   "source": [
    "features.pos_density(docs[0])"
   ]
  }
 ],
 "metadata": {
  "kernelspec": {
   "display_name": "Python 3",
   "language": "python",
   "name": "python3"
  },
  "language_info": {
   "codemirror_mode": {
    "name": "ipython",
    "version": 3
   },
   "file_extension": ".py",
   "mimetype": "text/x-python",
   "name": "python",
   "nbconvert_exporter": "python",
   "pygments_lexer": "ipython3",
   "version": "3.6.6"
  }
 },
 "nbformat": 4,
 "nbformat_minor": 2
}
