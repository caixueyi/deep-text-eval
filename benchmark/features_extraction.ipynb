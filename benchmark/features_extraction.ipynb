{
 "cells": [
  {
   "cell_type": "markdown",
   "metadata": {},
   "source": [
    "##### For later: DONT FORGAT PARALLEL PARSER!"
   ]
  },
  {
   "cell_type": "markdown",
   "metadata": {},
   "source": [
    "```\n",
    "[ ] POS tag density based features - TODO\n",
    "[ ] Lexical Richness Features from SLA research - ?\n",
    "[ ] Syntactic Complexity Features\n",
    "    [ ] Non-parse tree based features - TODO!!!\n",
    "    [ ] General parse tree features - TODO!!!\n",
    "    [ ] Features from SLA research (Lu, 2010) - ?\n",
    "[ ] Word Characteristic Features\n",
    "    [ ] Morpho-Syntactic properties of Words [CELEX] - ?\n",
    "    [ ] Psycholinguistic Features [MRC] - ?\n",
    "[ ] Semantic Features [Wordnet] - TODO\n",
    "```"
   ]
  },
  {
   "cell_type": "markdown",
   "metadata": {},
   "source": [
    "Syntax Parser doc: https://github.com/nikitakit/self-attentive-parser#usage-with-spacy"
   ]
  },
  {
   "cell_type": "code",
   "execution_count": 60,
   "metadata": {},
   "outputs": [
    {
     "name": "stdout",
     "output_type": "stream",
     "text": [
      "The autoreload extension is already loaded. To reload it, use:\n",
      "  %reload_ext autoreload\n"
     ]
    }
   ],
   "source": [
    "%load_ext autoreload\n",
    "%autoreload 2"
   ]
  },
  {
   "cell_type": "code",
   "execution_count": 64,
   "metadata": {},
   "outputs": [],
   "source": [
    "import spacy\n",
    "from spacy import displacy\n",
    "from benepar.spacy_plugin import BeneparComponent"
   ]
  },
  {
   "cell_type": "code",
   "execution_count": 65,
   "metadata": {},
   "outputs": [],
   "source": [
    "import features"
   ]
  },
  {
   "cell_type": "code",
   "execution_count": 14,
   "metadata": {},
   "outputs": [],
   "source": [
    "nlp = spacy.load('en', disable=['nre'])\n",
    "nlp.add_pipe(BeneparComponent(\"benepar_en_small\"))"
   ]
  },
  {
   "cell_type": "code",
   "execution_count": 140,
   "metadata": {},
   "outputs": [
    {
     "name": "stdout",
     "output_type": "stream",
     "text": [
      "I -PRON- PRON PRP nsubj X True False\n",
      "got get VERB VBD ROOT xxx True False\n",
      "the the DET DT det xxx True True\n",
      "kid kid NOUN NN dobj xxx True False\n",
      "who who NOUN WP nsubj xxx True True\n",
      "found find VERB VBD relcl xxxx True False\n",
      "his -PRON- ADJ PRP$ poss xxx True True\n",
      "father father NOUN NN dobj xxxx True False\n",
      ". . PUNCT . punct . False False\n",
      "I -PRON- PRON PRP nsubj X True False\n",
      "want want VERB VBP ROOT xxxx True False\n",
      "to to PART TO aux xx True True\n",
      "eat eat VERB VB xcomp xxx True False\n",
      "right right ADV RB advmod xxxx True False\n",
      "now now ADV RB advmod xxx True True\n",
      "! ! PUNCT . punct ! False False\n"
     ]
    }
   ],
   "source": [
    "doc = nlp(u'I got the kid who found his father. I want to eat right now!')\n",
    "\n",
    "for token in doc:\n",
    "    print(token.text, token.lemma_, token.pos_, token.tag_, token.dep_,\n",
    "          token.shape_, token.is_alpha, token.is_stop)"
   ]
  },
  {
   "cell_type": "code",
   "execution_count": 141,
   "metadata": {},
   "outputs": [
    {
     "data": {
      "text/plain": [
       "{'avgparsetreeheight': 5.5}"
      ]
     },
     "execution_count": 141,
     "metadata": {},
     "output_type": "execute_result"
    }
   ],
   "source": [
    "features.syntactic_complexity(doc)"
   ]
  },
  {
   "cell_type": "code",
   "execution_count": 142,
   "metadata": {},
   "outputs": [
    {
     "data": {
      "text/plain": [
       "{'num_-LRB-': 0,\n",
       " 'num_-RRB-': 0,\n",
       " 'num_,': 0,\n",
       " 'num_:': 0,\n",
       " 'num_.': 2,\n",
       " 'num_': 0,\n",
       " 'num_\"\"': 0,\n",
       " 'num_#': 0,\n",
       " 'num_``': 0,\n",
       " 'num_$': 0,\n",
       " 'num_ADD': 0,\n",
       " 'num_AFX': 0,\n",
       " 'num_BES': 0,\n",
       " 'num_CC': 0,\n",
       " 'num_CD': 0,\n",
       " 'num_DT': 1,\n",
       " 'num_EX': 0,\n",
       " 'num_FW': 0,\n",
       " 'num_GW': 0,\n",
       " 'num_HVS': 0,\n",
       " 'num_HYPH': 0,\n",
       " 'num_IN': 0,\n",
       " 'num_JJ': 0,\n",
       " 'num_JJR': 0,\n",
       " 'num_JJS': 0,\n",
       " 'num_LS': 0,\n",
       " 'num_MD': 0,\n",
       " 'num_NFP': 0,\n",
       " 'num_NIL': 0,\n",
       " 'num_NN': 2,\n",
       " 'num_NNP': 0,\n",
       " 'num_NNPS': 0,\n",
       " 'num_NNS': 0,\n",
       " 'num_PDT': 0,\n",
       " 'num_POS': 0,\n",
       " 'num_PRP': 2,\n",
       " 'num_PRP$': 1,\n",
       " 'num_RB': 2,\n",
       " 'num_RBR': 0,\n",
       " 'num_RBS': 0,\n",
       " 'num_RP': 0,\n",
       " 'num__SP': 0,\n",
       " 'num_SYM': 0,\n",
       " 'num_TO': 1,\n",
       " 'num_UH': 0,\n",
       " 'num_VB': 1,\n",
       " 'num_VBD': 2,\n",
       " 'num_VBG': 0,\n",
       " 'num_VBN': 0,\n",
       " 'num_VBP': 1,\n",
       " 'num_VBZ': 0,\n",
       " 'num_WDT': 0,\n",
       " 'num_WP': 1,\n",
       " 'num_WP$': 0,\n",
       " 'num_WRB': 0,\n",
       " 'num_XX': 0}"
      ]
     },
     "execution_count": 142,
     "metadata": {},
     "output_type": "execute_result"
    }
   ],
   "source": [
    "features.tag_counts(doc)"
   ]
  }
 ],
 "metadata": {
  "kernelspec": {
   "display_name": "Python 3",
   "language": "python",
   "name": "python3"
  },
  "language_info": {
   "codemirror_mode": {
    "name": "ipython",
    "version": 3
   },
   "file_extension": ".py",
   "mimetype": "text/x-python",
   "name": "python",
   "nbconvert_exporter": "python",
   "pygments_lexer": "ipython3",
   "version": "3.6.6"
  }
 },
 "nbformat": 4,
 "nbformat_minor": 2
}
