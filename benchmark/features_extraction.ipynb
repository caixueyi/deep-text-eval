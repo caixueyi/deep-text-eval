{
 "cells": [
  {
   "cell_type": "markdown",
   "metadata": {},
   "source": [
    "##### For later: DON'T FORGET PARALLEL PARSER!"
   ]
  },
  {
   "cell_type": "markdown",
   "metadata": {},
   "source": [
    "```\n",
    "[ ] POS tag density based features - TODO\n",
    "[ ] Lexical Richness Features from SLA research - ?\n",
    "[ ] Syntactic Complexity Features\n",
    "    [ ] Non-parse tree based features - TODO!!!\n",
    "    [ ] General parse tree features - TODO!!!\n",
    "    [ ] Features from SLA research (Lu, 2010) - ?\n",
    "[ ] Word Characteristic Features\n",
    "    [ ] Morpho-Syntactic properties of Words [CELEX] - ?\n",
    "    [ ] Psycholinguistic Features [MRC] - ?\n",
    "[ ] Semantic Features [Wordnet] - TODO\n",
    "```"
   ]
  },
  {
   "cell_type": "markdown",
   "metadata": {},
   "source": [
    "Syntax Parser doc: https://github.com/nikitakit/self-attentive-parser#usage-with-spacy"
   ]
  },
  {
   "cell_type": "code",
   "execution_count": 1,
   "metadata": {},
   "outputs": [],
   "source": [
    "%load_ext autoreload\n",
    "%autoreload 2"
   ]
  },
  {
   "cell_type": "code",
   "execution_count": 23,
   "metadata": {},
   "outputs": [],
   "source": [
    "import features"
   ]
  },
  {
   "cell_type": "code",
   "execution_count": 82,
   "metadata": {},
   "outputs": [],
   "source": [
    "import pandas as pd\n",
    "text_df = pd.read_hdf('../data/weebit/weebit.h5')"
   ]
  },
  {
   "cell_type": "code",
   "execution_count": 87,
   "metadata": {},
   "outputs": [
    {
     "data": {
      "text/plain": [
       "7349"
      ]
     },
     "execution_count": 87,
     "metadata": {},
     "output_type": "execute_result"
    }
   ],
   "source": [
    "len(text_df)"
   ]
  },
  {
   "cell_type": "code",
   "execution_count": 86,
   "metadata": {},
   "outputs": [
    {
     "name": "stdout",
     "output_type": "stream",
     "text": [
      "[{'avgparsetreeheight': 7.333333333333333, 'senlen': 17.666666666666668, 'numnp': 4.777777777777778, 'numpp': 1.3333333333333333, 'numclauses': 0.5555555555555556}, {'avgparsetreeheight': 6.545454545454546, 'senlen': 18.90909090909091, 'numnp': 5.545454545454546, 'numpp': 1.5454545454545454, 'numclauses': 0.18181818181818182}, {'avgparsetreeheight': 9.64, 'senlen': 25.28, 'numnp': 8.44, 'numpp': 2.04, 'numclauses': 0.88}, {'avgparsetreeheight': 6.4, 'senlen': 15.166666666666666, 'numnp': 4.4, 'numpp': 1.3333333333333333, 'numclauses': 0.43333333333333335}, {'avgparsetreeheight': 6.352941176470588, 'senlen': 16.764705882352942, 'numnp': 4.529411764705882, 'numpp': 1.5294117647058822, 'numclauses': 0.2647058823529412}, {'avgparsetreeheight': 9.125, 'senlen': 23.75, 'numnp': 6.25, 'numpp': 2.0, 'numclauses': 0.625}, {'avgparsetreeheight': 7.615384615384615, 'senlen': 21.46153846153846, 'numnp': 5.923076923076923, 'numpp': 1.5384615384615385, 'numclauses': 0.8461538461538461}, {'avgparsetreeheight': 7.461538461538462, 'senlen': 17.23076923076923, 'numnp': 4.384615384615385, 'numpp': 1.3846153846153846, 'numclauses': 0.5384615384615384}, {'avgparsetreeheight': 6.846153846153846, 'senlen': 17.615384615384617, 'numnp': 4.923076923076923, 'numpp': 1.6153846153846154, 'numclauses': 0.46153846153846156}, {'avgparsetreeheight': 7.352941176470588, 'senlen': 20.823529411764707, 'numnp': 7.882352941176471, 'numpp': 2.235294117647059, 'numclauses': 0.23529411764705882}, {'avgparsetreeheight': 8.2, 'senlen': 18.3, 'numnp': 4.5, 'numpp': 1.0, 'numclauses': 0.7}, {'avgparsetreeheight': 8.666666666666666, 'senlen': 18.666666666666668, 'numnp': 6.333333333333333, 'numpp': 1.6666666666666667, 'numclauses': 0.6666666666666666}, {'avgparsetreeheight': 8.777777777777779, 'senlen': 21.22222222222222, 'numnp': 6.0, 'numpp': 1.7777777777777777, 'numclauses': 1.0}, {'avgparsetreeheight': 7.5625, 'senlen': 18.125, 'numnp': 5.4375, 'numpp': 1.8125, 'numclauses': 0.5}, {'avgparsetreeheight': 6.7272727272727275, 'senlen': 19.90909090909091, 'numnp': 5.090909090909091, 'numpp': 1.1818181818181819, 'numclauses': 0.36363636363636365}, {'avgparsetreeheight': 7.833333333333333, 'senlen': 19.944444444444443, 'numnp': 6.166666666666667, 'numpp': 1.5555555555555556, 'numclauses': 0.8333333333333334}, {'avgparsetreeheight': 8.4, 'senlen': 21.466666666666665, 'numnp': 6.6, 'numpp': 2.1333333333333333, 'numclauses': 0.6}, {'avgparsetreeheight': 8.631578947368421, 'senlen': 22.263157894736842, 'numnp': 7.0, 'numpp': 1.9473684210526316, 'numclauses': 1.131578947368421}, {'avgparsetreeheight': 6.888888888888889, 'senlen': 16.22222222222222, 'numnp': 4.111111111111111, 'numpp': 1.3333333333333333, 'numclauses': 0.4444444444444444}, {'avgparsetreeheight': 7.111111111111111, 'senlen': 17.666666666666668, 'numnp': 4.666666666666667, 'numpp': 1.1111111111111112, 'numclauses': 0.4444444444444444}, {'avgparsetreeheight': 8.533333333333333, 'senlen': 23.6, 'numnp': 6.333333333333333, 'numpp': 2.6, 'numclauses': 0.9333333333333333}, {'avgparsetreeheight': 7.166666666666667, 'senlen': 16.7, 'numnp': 4.5, 'numpp': 1.3333333333333333, 'numclauses': 0.6333333333333333}, {'avgparsetreeheight': 5.894736842105263, 'senlen': 13.578947368421053, 'numnp': 4.052631578947368, 'numpp': 1.4736842105263157, 'numclauses': 0.21052631578947367}, {'avgparsetreeheight': 7.25, 'senlen': 15.55, 'numnp': 4.55, 'numpp': 1.25, 'numclauses': 0.4}, {'avgparsetreeheight': 6.933333333333334, 'senlen': 16.9, 'numnp': 5.0, 'numpp': 1.5333333333333334, 'numclauses': 0.7}, {'avgparsetreeheight': 6.35, 'senlen': 16.85, 'numnp': 5.3, 'numpp': 1.35, 'numclauses': 0.45}, {'avgparsetreeheight': 7.0, 'senlen': 16.444444444444443, 'numnp': 4.111111111111111, 'numpp': 1.2222222222222223, 'numclauses': 0.4444444444444444}, {'avgparsetreeheight': 6.333333333333333, 'senlen': 15.0, 'numnp': 5.555555555555555, 'numpp': 1.8888888888888888, 'numclauses': 0.2222222222222222}, {'avgparsetreeheight': 8.333333333333334, 'senlen': 18.333333333333332, 'numnp': 6.333333333333333, 'numpp': 2.0, 'numclauses': 0.6666666666666666}, {'avgparsetreeheight': 6.75, 'senlen': 17.0, 'numnp': 5.083333333333333, 'numpp': 1.4166666666666667, 'numclauses': 0.4166666666666667}, {'avgparsetreeheight': 6.923076923076923, 'senlen': 18.384615384615383, 'numnp': 5.769230769230769, 'numpp': 1.3846153846153846, 'numclauses': 0.38461538461538464}, {'avgparsetreeheight': 7.0588235294117645, 'senlen': 16.58823529411765, 'numnp': 5.0588235294117645, 'numpp': 1.411764705882353, 'numclauses': 0.47058823529411764}, {'avgparsetreeheight': 7.625, 'senlen': 29.0, 'numnp': 9.25, 'numpp': 1.875, 'numclauses': 0.625}, {'avgparsetreeheight': 7.631578947368421, 'senlen': 17.94736842105263, 'numnp': 5.473684210526316, 'numpp': 1.8421052631578947, 'numclauses': 0.5263157894736842}, {'avgparsetreeheight': 7.0, 'senlen': 17.08, 'numnp': 5.44, 'numpp': 1.4, 'numclauses': 0.72}, {'avgparsetreeheight': 6.833333333333333, 'senlen': 16.77777777777778, 'numnp': 5.611111111111111, 'numpp': 1.5, 'numclauses': 0.2777777777777778}, {'avgparsetreeheight': 7.117647058823529, 'senlen': 23.0, 'numnp': 6.352941176470588, 'numpp': 1.7058823529411764, 'numclauses': 1.0}, {'avgparsetreeheight': 6.916666666666667, 'senlen': 18.416666666666668, 'numnp': 5.333333333333333, 'numpp': 1.25, 'numclauses': 0.5}, {'avgparsetreeheight': 4.190476190476191, 'senlen': 14.571428571428571, 'numnp': 3.6666666666666665, 'numpp': 0.9523809523809523, 'numclauses': 0.2857142857142857}, {'avgparsetreeheight': 8.0, 'senlen': 19.125, 'numnp': 5.125, 'numpp': 1.5, 'numclauses': 0.625}, {'avgparsetreeheight': 6.375, 'senlen': 17.0, 'numnp': 4.625, 'numpp': 1.125, 'numclauses': 0.25}, {'avgparsetreeheight': 5.0, 'senlen': 8.0, 'numnp': 3.0, 'numpp': 2.0, 'numclauses': 0.0}, {'avgparsetreeheight': 6.5, 'senlen': 16.0, 'numnp': 5.0, 'numpp': 1.9, 'numclauses': 0.25}, {'avgparsetreeheight': 6.894736842105263, 'senlen': 17.63157894736842, 'numnp': 6.368421052631579, 'numpp': 1.368421052631579, 'numclauses': 0.42105263157894735}, {'avgparsetreeheight': 8.148148148148149, 'senlen': 19.51851851851852, 'numnp': 5.962962962962963, 'numpp': 1.7037037037037037, 'numclauses': 0.4074074074074074}, {'avgparsetreeheight': 8.217391304347826, 'senlen': 20.956521739130434, 'numnp': 6.043478260869565, 'numpp': 2.217391304347826, 'numclauses': 1.173913043478261}, {'avgparsetreeheight': 7.25, 'senlen': 21.9375, 'numnp': 6.875, 'numpp': 2.125, 'numclauses': 0.3125}, {'avgparsetreeheight': 6.714285714285714, 'senlen': 18.642857142857142, 'numnp': 5.571428571428571, 'numpp': 1.5714285714285714, 'numclauses': 0.5}, {'avgparsetreeheight': 8.11111111111111, 'senlen': 20.666666666666668, 'numnp': 6.888888888888889, 'numpp': 1.8888888888888888, 'numclauses': 0.4444444444444444}, {'avgparsetreeheight': 7.181818181818182, 'senlen': 20.636363636363637, 'numnp': 6.363636363636363, 'numpp': 2.4545454545454546, 'numclauses': 0.6363636363636364}, {'avgparsetreeheight': 7.285714285714286, 'senlen': 15.095238095238095, 'numnp': 4.285714285714286, 'numpp': 1.4761904761904763, 'numclauses': 0.2857142857142857}, {'avgparsetreeheight': 8.0, 'senlen': 19.625, 'numnp': 5.125, 'numpp': 1.75, 'numclauses': 0.625}, {'avgparsetreeheight': 8.727272727272727, 'senlen': 20.818181818181817, 'numnp': 6.636363636363637, 'numpp': 1.9090909090909092, 'numclauses': 0.8181818181818182}, {'avgparsetreeheight': 8.45, 'senlen': 20.55, 'numnp': 6.65, 'numpp': 2.05, 'numclauses': 0.85}, {'avgparsetreeheight': 7.153846153846154, 'senlen': 16.53846153846154, 'numnp': 4.8076923076923075, 'numpp': 1.1538461538461537, 'numclauses': 0.5769230769230769}, {'avgparsetreeheight': 7.166666666666667, 'senlen': 15.916666666666666, 'numnp': 4.166666666666667, 'numpp': 1.0, 'numclauses': 0.5833333333333334}, {'avgparsetreeheight': 8.444444444444445, 'senlen': 20.27777777777778, 'numnp': 6.777777777777778, 'numpp': 2.3333333333333335, 'numclauses': 0.6666666666666666}, {'avgparsetreeheight': 8.166666666666666, 'senlen': 22.333333333333332, 'numnp': 6.75, 'numpp': 2.3333333333333335, 'numclauses': 0.75}, {'avgparsetreeheight': 5.9655172413793105, 'senlen': 14.551724137931034, 'numnp': 4.551724137931035, 'numpp': 1.0689655172413792, 'numclauses': 0.4482758620689655}, {'avgparsetreeheight': 7.538461538461538, 'senlen': 21.76923076923077, 'numnp': 7.115384615384615, 'numpp': 1.8461538461538463, 'numclauses': 0.8076923076923077}, {'avgparsetreeheight': 4.826086956521739, 'senlen': 11.956521739130435, 'numnp': 3.3043478260869565, 'numpp': 1.391304347826087, 'numclauses': 0.2608695652173913}, {'avgparsetreeheight': 8.266666666666667, 'senlen': 20.066666666666666, 'numnp': 6.6, 'numpp': 1.4666666666666666, 'numclauses': 0.6}, {'avgparsetreeheight': 6.588235294117647, 'senlen': 16.235294117647058, 'numnp': 3.8823529411764706, 'numpp': 1.1176470588235294, 'numclauses': 0.4117647058823529}, {'avgparsetreeheight': 5.954545454545454, 'senlen': 17.90909090909091, 'numnp': 4.136363636363637, 'numpp': 0.8636363636363636, 'numclauses': 0.4090909090909091}, {'avgparsetreeheight': 6.5, 'senlen': 16.88888888888889, 'numnp': 4.777777777777778, 'numpp': 1.3333333333333333, 'numclauses': 0.5555555555555556}, {'avgparsetreeheight': 6.228571428571429, 'senlen': 15.885714285714286, 'numnp': 4.371428571428571, 'numpp': 0.9714285714285714, 'numclauses': 0.37142857142857144}, {'avgparsetreeheight': 7.6, 'senlen': 15.4, 'numnp': 4.6, 'numpp': 0.6, 'numclauses': 0.9}, {'avgparsetreeheight': 7.117647058823529, 'senlen': 18.58823529411765, 'numnp': 5.764705882352941, 'numpp': 1.588235294117647, 'numclauses': 0.5294117647058824}, {'avgparsetreeheight': 8.461538461538462, 'senlen': 27.923076923076923, 'numnp': 9.461538461538462, 'numpp': 2.923076923076923, 'numclauses': 0.9230769230769231}, {'avgparsetreeheight': 8.1, 'senlen': 22.7, 'numnp': 7.2, 'numpp': 2.6, 'numclauses': 0.4}, {'avgparsetreeheight': 8.0, 'senlen': 16.5, 'numnp': 5.5, 'numpp': 1.75, 'numclauses': 0.5}, {'avgparsetreeheight': 6.805555555555555, 'senlen': 16.944444444444443, 'numnp': 4.944444444444445, 'numpp': 1.7222222222222223, 'numclauses': 0.5277777777777778}, {'avgparsetreeheight': 6.777777777777778, 'senlen': 16.22222222222222, 'numnp': 4.222222222222222, 'numpp': 1.2222222222222223, 'numclauses': 0.3333333333333333}, {'avgparsetreeheight': 6.631578947368421, 'senlen': 17.157894736842106, 'numnp': 5.315789473684211, 'numpp': 1.8421052631578947, 'numclauses': 0.5263157894736842}, {'avgparsetreeheight': 7.2, 'senlen': 18.8, 'numnp': 5.8, 'numpp': 1.6, 'numclauses': 0.6}, {'avgparsetreeheight': 10.0, 'senlen': 23.46153846153846, 'numnp': 6.846153846153846, 'numpp': 1.5384615384615385, 'numclauses': 1.2307692307692308}, {'avgparsetreeheight': 7.6, 'senlen': 19.0, 'numnp': 5.8, 'numpp': 1.9, 'numclauses': 0.4}, {'avgparsetreeheight': 7.444444444444445, 'senlen': 16.666666666666668, 'numnp': 4.444444444444445, 'numpp': 1.3333333333333333, 'numclauses': 0.4444444444444444}, {'avgparsetreeheight': 7.416666666666667, 'senlen': 16.0, 'numnp': 5.416666666666667, 'numpp': 1.75, 'numclauses': 0.3333333333333333}, {'avgparsetreeheight': 6.0, 'senlen': 16.833333333333332, 'numnp': 5.033333333333333, 'numpp': 1.6666666666666667, 'numclauses': 0.4}, {'avgparsetreeheight': 9.461538461538462, 'senlen': 28.46153846153846, 'numnp': 8.846153846153847, 'numpp': 3.0, 'numclauses': 0.7692307692307693}, {'avgparsetreeheight': 7.571428571428571, 'senlen': 20.428571428571427, 'numnp': 5.928571428571429, 'numpp': 1.6428571428571428, 'numclauses': 1.2142857142857142}, {'avgparsetreeheight': 7.7407407407407405, 'senlen': 18.444444444444443, 'numnp': 5.518518518518518, 'numpp': 1.9259259259259258, 'numclauses': 0.6666666666666666}, {'avgparsetreeheight': 7.666666666666667, 'senlen': 21.333333333333332, 'numnp': 6.222222222222222, 'numpp': 1.8888888888888888, 'numclauses': 0.3333333333333333}, {'avgparsetreeheight': 7.538461538461538, 'senlen': 20.76923076923077, 'numnp': 6.153846153846154, 'numpp': 2.230769230769231, 'numclauses': 0.6153846153846154}, {'avgparsetreeheight': 7.235294117647059, 'senlen': 17.235294117647058, 'numnp': 4.823529411764706, 'numpp': 1.2941176470588236, 'numclauses': 0.4117647058823529}, {'avgparsetreeheight': 6.315789473684211, 'senlen': 16.63157894736842, 'numnp': 5.7631578947368425, 'numpp': 1.6578947368421053, 'numclauses': 0.21052631578947367}, {'avgparsetreeheight': 7.0, 'senlen': 17.3, 'numnp': 5.0, 'numpp': 1.5, 'numclauses': 0.4}, {'avgparsetreeheight': 7.416666666666667, 'senlen': 17.625, 'numnp': 5.416666666666667, 'numpp': 1.5416666666666667, 'numclauses': 0.8333333333333334}, {'avgparsetreeheight': 8.318181818181818, 'senlen': 23.09090909090909, 'numnp': 6.454545454545454, 'numpp': 1.3636363636363635, 'numclauses': 1.0909090909090908}, {'avgparsetreeheight': 8.058823529411764, 'senlen': 19.823529411764707, 'numnp': 6.176470588235294, 'numpp': 1.4705882352941178, 'numclauses': 0.7647058823529411}, {'avgparsetreeheight': 8.8, 'senlen': 19.7, 'numnp': 5.9, 'numpp': 1.9, 'numclauses': 0.9}, {'avgparsetreeheight': 7.0, 'senlen': 18.166666666666668, 'numnp': 6.0, 'numpp': 1.75, 'numclauses': 0.4166666666666667}, {'avgparsetreeheight': 7.90625, 'senlen': 21.375, 'numnp': 6.0625, 'numpp': 2.125, 'numclauses': 0.65625}, {'avgparsetreeheight': 8.11111111111111, 'senlen': 25.333333333333332, 'numnp': 7.777777777777778, 'numpp': 3.2222222222222223, 'numclauses': 0.7777777777777778}, {'avgparsetreeheight': 6.794117647058823, 'senlen': 17.264705882352942, 'numnp': 4.794117647058823, 'numpp': 1.5294117647058822, 'numclauses': 0.3235294117647059}, {'avgparsetreeheight': 10.0, 'senlen': 22.5625, 'numnp': 6.25, 'numpp': 1.875, 'numclauses': 1.5625}, {'avgparsetreeheight': 7.0, 'senlen': 16.923076923076923, 'numnp': 5.384615384615385, 'numpp': 2.0, 'numclauses': 0.5384615384615384}, {'avgparsetreeheight': 7.0, 'senlen': 18.77777777777778, 'numnp': 4.888888888888889, 'numpp': 1.6666666666666667, 'numclauses': 0.7777777777777778}, {'avgparsetreeheight': 6.75, 'senlen': 18.125, 'numnp': 4.625, 'numpp': 1.5, 'numclauses': 0.25}]\n",
      "CPU times: user 5min 37s, sys: 1min 3s, total: 6min 41s\n",
      "Wall time: 2min 2s\n"
     ]
    }
   ],
   "source": [
    "%%time\n",
    "feature_list = []\n",
    "for doc in nlp.pipe(text_df[\"text\"][:100], batch_size=10000, n_threads=3):\n",
    "    feature_list.append(features.syntactic_complexity(doc))\n",
    "\n",
    "print(feature_list)"
   ]
  },
  {
   "cell_type": "code",
   "execution_count": 75,
   "metadata": {},
   "outputs": [
    {
     "data": {
      "text/plain": [
       "{'num_-LRB-': 0,\n",
       " 'num_-RRB-': 0,\n",
       " 'num_,': 0,\n",
       " 'num_:': 0,\n",
       " 'num_.': 2,\n",
       " 'num_': 0,\n",
       " 'num_\"\"': 0,\n",
       " 'num_#': 0,\n",
       " 'num_``': 0,\n",
       " 'num_$': 0,\n",
       " 'num_ADD': 0,\n",
       " 'num_AFX': 0,\n",
       " 'num_BES': 0,\n",
       " 'num_CC': 0,\n",
       " 'num_CD': 0,\n",
       " 'num_DT': 2,\n",
       " 'num_EX': 0,\n",
       " 'num_FW': 0,\n",
       " 'num_GW': 0,\n",
       " 'num_HVS': 0,\n",
       " 'num_HYPH': 0,\n",
       " 'num_IN': 1,\n",
       " 'num_JJ': 0,\n",
       " 'num_JJR': 0,\n",
       " 'num_JJS': 0,\n",
       " 'num_LS': 0,\n",
       " 'num_MD': 0,\n",
       " 'num_NFP': 0,\n",
       " 'num_NIL': 0,\n",
       " 'num_NN': 3,\n",
       " 'num_NNP': 0,\n",
       " 'num_NNPS': 0,\n",
       " 'num_NNS': 0,\n",
       " 'num_PDT': 0,\n",
       " 'num_POS': 0,\n",
       " 'num_PRP': 2,\n",
       " 'num_PRP$': 1,\n",
       " 'num_RB': 2,\n",
       " 'num_RBR': 0,\n",
       " 'num_RBS': 0,\n",
       " 'num_RP': 0,\n",
       " 'num__SP': 0,\n",
       " 'num_SYM': 0,\n",
       " 'num_TO': 1,\n",
       " 'num_UH': 0,\n",
       " 'num_VB': 1,\n",
       " 'num_VBD': 2,\n",
       " 'num_VBG': 0,\n",
       " 'num_VBN': 0,\n",
       " 'num_VBP': 1,\n",
       " 'num_VBZ': 0,\n",
       " 'num_WDT': 0,\n",
       " 'num_WP': 1,\n",
       " 'num_WP$': 0,\n",
       " 'num_WRB': 0,\n",
       " 'num_XX': 0}"
      ]
     },
     "execution_count": 75,
     "metadata": {},
     "output_type": "execute_result"
    }
   ],
   "source": [
    "features.tag_counts(doc)"
   ]
  },
  {
   "cell_type": "code",
   "execution_count": 64,
   "metadata": {},
   "outputs": [],
   "source": [
    "from collections import Counter\n",
    "\n",
    "def constituents_counter(doc):\n",
    "    \"\"\"Counts the constituents in a given document.\"\"\"\n",
    "    constituent_counter = Counter()\n",
    "    for sent in doc.sents:\n",
    "        for const in sent._.constituents:\n",
    "            constituent_counter.update(Counter(const._.labels))\n",
    "\n",
    "    return constituent_counter\n"
   ]
  },
  {
   "cell_type": "code",
   "execution_count": 70,
   "metadata": {},
   "outputs": [
    {
     "name": "stderr",
     "output_type": "stream",
     "text": [
      "[autoreload of features failed: Traceback (most recent call last):\n",
      "  File \"/Users/Max/Coding/Conda/lib/python3.6/site-packages/IPython/extensions/autoreload.py\", line 245, in check\n",
      "    superreload(m, reload, self.old_objects)\n",
      "  File \"/Users/Max/Coding/Conda/lib/python3.6/site-packages/IPython/extensions/autoreload.py\", line 368, in superreload\n",
      "    module = reload(module)\n",
      "  File \"/Users/Max/Coding/Conda/lib/python3.6/imp.py\", line 315, in reload\n",
      "    return importlib.reload(module)\n",
      "  File \"/Users/Max/Coding/Conda/lib/python3.6/importlib/__init__.py\", line 166, in reload\n",
      "    _bootstrap._exec(spec, module)\n",
      "  File \"<frozen importlib._bootstrap>\", line 618, in _exec\n",
      "  File \"<frozen importlib._bootstrap_external>\", line 674, in exec_module\n",
      "  File \"<frozen importlib._bootstrap_external>\", line 781, in get_code\n",
      "  File \"<frozen importlib._bootstrap_external>\", line 741, in source_to_code\n",
      "  File \"<frozen importlib._bootstrap>\", line 219, in _call_with_frames_removed\n",
      "  File \"/Users/Max/Coding/Deep-Text-Eval/benchmark/features.py\", line 42\n",
      "    'numpp': constituent_counter[\"PP\"] / n_sentences\n",
      "          ^\n",
      "SyntaxError: invalid syntax\n",
      "]\n"
     ]
    },
    {
     "data": {
      "text/plain": [
       "Counter({'S': 4, 'NP': 5, 'VP': 5, 'SBAR': 1, 'WHNP': 1, 'ADVP': 1})"
      ]
     },
     "execution_count": 70,
     "metadata": {},
     "output_type": "execute_result"
    }
   ],
   "source": [
    "constituents_counter(doc)"
   ]
  },
  {
   "cell_type": "code",
   "execution_count": null,
   "metadata": {},
   "outputs": [],
   "source": []
  }
 ],
 "metadata": {
  "kernelspec": {
   "display_name": "Python 3",
   "language": "python",
   "name": "python3"
  },
  "language_info": {
   "codemirror_mode": {
    "name": "ipython",
    "version": 3
   },
   "file_extension": ".py",
   "mimetype": "text/x-python",
   "name": "python",
   "nbconvert_exporter": "python",
   "pygments_lexer": "ipython3",
   "version": "3.6.6"
  }
 },
 "nbformat": 4,
 "nbformat_minor": 2
}
