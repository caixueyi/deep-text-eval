{
 "cells": [
  {
   "cell_type": "markdown",
   "metadata": {},
   "source": [
    "##### For later: DON'T FORGET PARALLEL PARSER!"
   ]
  },
  {
   "cell_type": "markdown",
   "metadata": {},
   "source": [
    "```\n",
    "[ ] POS tag density based features - TODO\n",
    "[ ] Lexical Richness Features from SLA research - ?\n",
    "[ ] Syntactic Complexity Features\n",
    "    [ ] Non-parse tree based features - TODO!!!\n",
    "    [ ] General parse tree features - TODO!!!\n",
    "    [ ] Features from SLA research (Lu, 2010) - ?\n",
    "[ ] Word Characteristic Features\n",
    "    [ ] Morpho-Syntactic properties of Words [CELEX] - ?\n",
    "    [ ] Psycholinguistic Features [MRC] - ?\n",
    "[ ] Semantic Features [Wordnet] - TODO\n",
    "```"
   ]
  },
  {
   "cell_type": "markdown",
   "metadata": {},
   "source": [
    "Syntax Parser doc: https://github.com/nikitakit/self-attentive-parser#usage-with-spacy"
   ]
  },
  {
   "cell_type": "code",
   "execution_count": 1,
   "metadata": {},
   "outputs": [],
   "source": [
    "%load_ext autoreload\n",
    "%autoreload 2"
   ]
  },
  {
   "cell_type": "code",
   "execution_count": 30,
   "metadata": {},
   "outputs": [],
   "source": [
    "import features"
   ]
  },
  {
   "cell_type": "code",
   "execution_count": 4,
   "metadata": {},
   "outputs": [],
   "source": [
    "import pandas as pd\n",
    "\n",
    "#text_df = pd.read_hdf('../data/weebit/weebit.h5')\n",
    "# text = text_df['text'][2:3]\n",
    "text = [\"Before we play again, we should do our homework in the park.\"]"
   ]
  },
  {
   "cell_type": "code",
   "execution_count": 31,
   "metadata": {},
   "outputs": [
    {
     "name": "stderr",
     "output_type": "stream",
     "text": [
      "100%|██████████| 1/1 [00:00<00:00, 632.91it/s]\n"
     ]
    },
    {
     "ename": "NameError",
     "evalue": "name '_count_constituent' is not defined",
     "output_type": "error",
     "traceback": [
      "\u001b[0;31m---------------------------------------------------------------------------\u001b[0m",
      "\u001b[0;31mNameError\u001b[0m                                 Traceback (most recent call last)",
      "\u001b[0;32m<timed exec>\u001b[0m in \u001b[0;36m<module>\u001b[0;34m()\u001b[0m\n",
      "\u001b[0;32m~/projects/deep-text-eval/benchmark/features.py\u001b[0m in \u001b[0;36mdocify_text\u001b[0;34m(texts, batch_size, n_threads)\u001b[0m\n\u001b[1;32m    154\u001b[0m \u001b[0;34m\u001b[0m\u001b[0m\n\u001b[1;32m    155\u001b[0m \u001b[0;32mdef\u001b[0m \u001b[0mdocify_text\u001b[0m\u001b[0;34m(\u001b[0m\u001b[0mtexts\u001b[0m\u001b[0;34m,\u001b[0m \u001b[0mbatch_size\u001b[0m\u001b[0;34m=\u001b[0m\u001b[0;36m100\u001b[0m\u001b[0;34m,\u001b[0m \u001b[0mn_threads\u001b[0m\u001b[0;34m=\u001b[0m\u001b[0;36m4\u001b[0m\u001b[0;34m)\u001b[0m\u001b[0;34m:\u001b[0m\u001b[0;34m\u001b[0m\u001b[0m\n\u001b[0;32m--> 156\u001b[0;31m     \u001b[0;32mreturn\u001b[0m \u001b[0;34m[\u001b[0m\u001b[0mdoc\u001b[0m \u001b[0;32mfor\u001b[0m \u001b[0mdoc\u001b[0m \u001b[0;32min\u001b[0m \u001b[0mnlp\u001b[0m\u001b[0;34m.\u001b[0m\u001b[0mpipe\u001b[0m\u001b[0;34m(\u001b[0m\u001b[0mtqdm\u001b[0m\u001b[0;34m(\u001b[0m\u001b[0mtexts\u001b[0m\u001b[0;34m)\u001b[0m\u001b[0;34m,\u001b[0m \u001b[0mbatch_size\u001b[0m\u001b[0;34m=\u001b[0m\u001b[0mbatch_size\u001b[0m\u001b[0;34m,\u001b[0m \u001b[0mn_threads\u001b[0m\u001b[0;34m=\u001b[0m\u001b[0mn_threads\u001b[0m\u001b[0;34m)\u001b[0m\u001b[0;34m]\u001b[0m\u001b[0;34m\u001b[0m\u001b[0m\n\u001b[0m",
      "\u001b[0;32m~/projects/deep-text-eval/benchmark/features.py\u001b[0m in \u001b[0;36m<listcomp>\u001b[0;34m(.0)\u001b[0m\n\u001b[1;32m    154\u001b[0m \u001b[0;34m\u001b[0m\u001b[0m\n\u001b[1;32m    155\u001b[0m \u001b[0;32mdef\u001b[0m \u001b[0mdocify_text\u001b[0m\u001b[0;34m(\u001b[0m\u001b[0mtexts\u001b[0m\u001b[0;34m,\u001b[0m \u001b[0mbatch_size\u001b[0m\u001b[0;34m=\u001b[0m\u001b[0;36m100\u001b[0m\u001b[0;34m,\u001b[0m \u001b[0mn_threads\u001b[0m\u001b[0;34m=\u001b[0m\u001b[0;36m4\u001b[0m\u001b[0;34m)\u001b[0m\u001b[0;34m:\u001b[0m\u001b[0;34m\u001b[0m\u001b[0m\n\u001b[0;32m--> 156\u001b[0;31m     \u001b[0;32mreturn\u001b[0m \u001b[0;34m[\u001b[0m\u001b[0mdoc\u001b[0m \u001b[0;32mfor\u001b[0m \u001b[0mdoc\u001b[0m \u001b[0;32min\u001b[0m \u001b[0mnlp\u001b[0m\u001b[0;34m.\u001b[0m\u001b[0mpipe\u001b[0m\u001b[0;34m(\u001b[0m\u001b[0mtqdm\u001b[0m\u001b[0;34m(\u001b[0m\u001b[0mtexts\u001b[0m\u001b[0;34m)\u001b[0m\u001b[0;34m,\u001b[0m \u001b[0mbatch_size\u001b[0m\u001b[0;34m=\u001b[0m\u001b[0mbatch_size\u001b[0m\u001b[0;34m,\u001b[0m \u001b[0mn_threads\u001b[0m\u001b[0;34m=\u001b[0m\u001b[0mn_threads\u001b[0m\u001b[0;34m)\u001b[0m\u001b[0;34m]\u001b[0m\u001b[0;34m\u001b[0m\u001b[0m\n\u001b[0m",
      "\u001b[0;32m~/miniconda3/lib/python3.6/site-packages/spacy/language.py\u001b[0m in \u001b[0;36mpipe\u001b[0;34m(self, texts, as_tuples, n_threads, batch_size, disable, cleanup)\u001b[0m\n\u001b[1;32m    576\u001b[0m         \u001b[0moriginal_strings_data\u001b[0m \u001b[0;34m=\u001b[0m \u001b[0;32mNone\u001b[0m\u001b[0;34m\u001b[0m\u001b[0m\n\u001b[1;32m    577\u001b[0m         \u001b[0mnr_seen\u001b[0m \u001b[0;34m=\u001b[0m \u001b[0;36m0\u001b[0m\u001b[0;34m\u001b[0m\u001b[0m\n\u001b[0;32m--> 578\u001b[0;31m         \u001b[0;32mfor\u001b[0m \u001b[0mdoc\u001b[0m \u001b[0;32min\u001b[0m \u001b[0mdocs\u001b[0m\u001b[0;34m:\u001b[0m\u001b[0;34m\u001b[0m\u001b[0m\n\u001b[0m\u001b[1;32m    579\u001b[0m             \u001b[0;32myield\u001b[0m \u001b[0mdoc\u001b[0m\u001b[0;34m\u001b[0m\u001b[0m\n\u001b[1;32m    580\u001b[0m             \u001b[0;32mif\u001b[0m \u001b[0mcleanup\u001b[0m\u001b[0;34m:\u001b[0m\u001b[0;34m\u001b[0m\u001b[0m\n",
      "\u001b[0;32m~/miniconda3/lib/python3.6/site-packages/spacy/language.py\u001b[0m in \u001b[0;36m_pipe\u001b[0;34m(func, docs)\u001b[0m\n\u001b[1;32m    751\u001b[0m \u001b[0;32mdef\u001b[0m \u001b[0m_pipe\u001b[0m\u001b[0;34m(\u001b[0m\u001b[0mfunc\u001b[0m\u001b[0;34m,\u001b[0m \u001b[0mdocs\u001b[0m\u001b[0;34m)\u001b[0m\u001b[0;34m:\u001b[0m\u001b[0;34m\u001b[0m\u001b[0m\n\u001b[1;32m    752\u001b[0m     \u001b[0;32mfor\u001b[0m \u001b[0mdoc\u001b[0m \u001b[0;32min\u001b[0m \u001b[0mdocs\u001b[0m\u001b[0;34m:\u001b[0m\u001b[0;34m\u001b[0m\u001b[0m\n\u001b[0;32m--> 753\u001b[0;31m         \u001b[0mdoc\u001b[0m \u001b[0;34m=\u001b[0m \u001b[0mfunc\u001b[0m\u001b[0;34m(\u001b[0m\u001b[0mdoc\u001b[0m\u001b[0;34m)\u001b[0m\u001b[0;34m\u001b[0m\u001b[0m\n\u001b[0m\u001b[1;32m    754\u001b[0m         \u001b[0;32myield\u001b[0m \u001b[0mdoc\u001b[0m\u001b[0;34m\u001b[0m\u001b[0m\n",
      "\u001b[0;32m~/projects/deep-text-eval/benchmark/features.py\u001b[0m in \u001b[0;36mextract_doc_features\u001b[0;34m(doc)\u001b[0m\n\u001b[1;32m    143\u001b[0m     \u001b[0mfeatures\u001b[0m \u001b[0;34m=\u001b[0m \u001b[0;34m{\u001b[0m\u001b[0;34m}\u001b[0m\u001b[0;34m\u001b[0m\u001b[0m\n\u001b[1;32m    144\u001b[0m     \u001b[0;32mfor\u001b[0m \u001b[0mextractor\u001b[0m \u001b[0;32min\u001b[0m \u001b[0mEXTRACTORS\u001b[0m\u001b[0;34m:\u001b[0m\u001b[0;34m\u001b[0m\u001b[0m\n\u001b[0;32m--> 145\u001b[0;31m         \u001b[0mfeatures\u001b[0m\u001b[0;34m.\u001b[0m\u001b[0mupdate\u001b[0m\u001b[0;34m(\u001b[0m\u001b[0mextractor\u001b[0m\u001b[0;34m(\u001b[0m\u001b[0mdoc\u001b[0m\u001b[0;34m)\u001b[0m\u001b[0;34m)\u001b[0m\u001b[0;34m\u001b[0m\u001b[0m\n\u001b[0m\u001b[1;32m    146\u001b[0m     \u001b[0mdoc\u001b[0m\u001b[0;34m.\u001b[0m\u001b[0m_\u001b[0m\u001b[0;34m.\u001b[0m\u001b[0mfeatures\u001b[0m \u001b[0;34m=\u001b[0m \u001b[0mfeatures\u001b[0m\u001b[0;34m\u001b[0m\u001b[0m\n\u001b[1;32m    147\u001b[0m     \u001b[0;32mreturn\u001b[0m \u001b[0mdoc\u001b[0m\u001b[0;34m\u001b[0m\u001b[0m\n",
      "\u001b[0;32m~/projects/deep-text-eval/benchmark/features.py\u001b[0m in \u001b[0;36mcelex_complexity\u001b[0;34m(doc)\u001b[0m\n\u001b[1;32m     64\u001b[0m \u001b[0;34m\u001b[0m\u001b[0m\n\u001b[1;32m     65\u001b[0m \u001b[0;32mdef\u001b[0m \u001b[0mcelex_complexity\u001b[0m\u001b[0;34m(\u001b[0m\u001b[0mdoc\u001b[0m\u001b[0;34m)\u001b[0m\u001b[0;34m:\u001b[0m\u001b[0;34m\u001b[0m\u001b[0m\n\u001b[0;32m---> 66\u001b[0;31m     \u001b[0mconstituent_counter\u001b[0m \u001b[0;34m=\u001b[0m \u001b[0m_count_constituent\u001b[0m\u001b[0;34m(\u001b[0m\u001b[0mdoc\u001b[0m\u001b[0;34m)\u001b[0m\u001b[0;34m\u001b[0m\u001b[0m\n\u001b[0m\u001b[1;32m     67\u001b[0m     return {\n\u001b[1;32m     68\u001b[0m         \u001b[0;34m'numprep'\u001b[0m\u001b[0;34m:\u001b[0m \u001b[0mconstituent_counter\u001b[0m\u001b[0;34m[\u001b[0m\u001b[0;34m\"PP\"\u001b[0m\u001b[0;34m]\u001b[0m\u001b[0;34m,\u001b[0m  \u001b[0;31m# for every PP, there is exactly one preposition\u001b[0m\u001b[0;34m\u001b[0m\u001b[0m\n",
      "\u001b[0;31mNameError\u001b[0m: name '_count_constituent' is not defined"
     ]
    }
   ],
   "source": [
    "%%time\n",
    "docs = features.docify_text(text)"
   ]
  },
  {
   "cell_type": "code",
   "execution_count": null,
   "metadata": {},
   "outputs": [],
   "source": []
  },
  {
   "cell_type": "code",
   "execution_count": 17,
   "metadata": {},
   "outputs": [
    {
     "data": {
      "text/plain": [
       "3"
      ]
     },
     "execution_count": 17,
     "metadata": {},
     "output_type": "execute_result"
    }
   ],
   "source": [
    "len(list(s._.constituents)[3])"
   ]
  },
  {
   "cell_type": "code",
   "execution_count": 29,
   "metadata": {},
   "outputs": [
    {
     "data": {
      "text/plain": [
       "{'avgparsetreeheight': 5.0,\n",
       " 'senlen': 14.0,\n",
       " 'numnp': 4.0,\n",
       " 'numpp': 1.0,\n",
       " 'numvp': 3.0,\n",
       " 'numsbar': 1.0,\n",
       " 'numprep': 1,\n",
       " 'num_-LRB-': 0,\n",
       " 'num_-RRB-': 0,\n",
       " 'num_,': 1,\n",
       " 'num_:': 0,\n",
       " 'num_.': 1,\n",
       " 'num_': 0,\n",
       " 'num_\"\"': 0,\n",
       " 'num_#': 0,\n",
       " 'num_``': 0,\n",
       " 'num_$': 0,\n",
       " 'num_ADD': 0,\n",
       " 'num_AFX': 0,\n",
       " 'num_BES': 0,\n",
       " 'num_CC': 0,\n",
       " 'num_CD': 0,\n",
       " 'num_DT': 1,\n",
       " 'num_EX': 0,\n",
       " 'num_FW': 0,\n",
       " 'num_GW': 0,\n",
       " 'num_HVS': 0,\n",
       " 'num_HYPH': 0,\n",
       " 'num_IN': 2,\n",
       " 'num_JJ': 0,\n",
       " 'num_JJR': 0,\n",
       " 'num_JJS': 0,\n",
       " 'num_LS': 0,\n",
       " 'num_MD': 1,\n",
       " 'num_NFP': 0,\n",
       " 'num_NIL': 0,\n",
       " 'num_NN': 2,\n",
       " 'num_NNP': 0,\n",
       " 'num_NNPS': 0,\n",
       " 'num_NNS': 0,\n",
       " 'num_PDT': 0,\n",
       " 'num_POS': 0,\n",
       " 'num_PRP': 2,\n",
       " 'num_PRP$': 1,\n",
       " 'num_RB': 1,\n",
       " 'num_RBR': 0,\n",
       " 'num_RBS': 0,\n",
       " 'num_RP': 0,\n",
       " 'num__SP': 0,\n",
       " 'num_SYM': 0,\n",
       " 'num_TO': 0,\n",
       " 'num_UH': 0,\n",
       " 'num_VB': 1,\n",
       " 'num_VBD': 0,\n",
       " 'num_VBG': 0,\n",
       " 'num_VBN': 0,\n",
       " 'num_VBP': 1,\n",
       " 'num_VBZ': 0,\n",
       " 'num_WDT': 0,\n",
       " 'num_WP': 0,\n",
       " 'num_WP$': 0,\n",
       " 'num_WRB': 0,\n",
       " 'num_XX': 0}"
      ]
     },
     "execution_count": 29,
     "metadata": {},
     "output_type": "execute_result"
    }
   ],
   "source": [
    "docs[0]._.features"
   ]
  },
  {
   "cell_type": "code",
   "execution_count": 46,
   "metadata": {},
   "outputs": [
    {
     "name": "stderr",
     "output_type": "stream",
     "text": [
      "/Users/Max/Coding/Conda/lib/python3.6/runpy.py:193: DeprecationWarning: [W003] Positional arguments to Doc.merge are deprecated. Instead, use the keyword arguments, for example tag=, lemma= or ent_type=.\n",
      "  \"__main__\", mod_spec)\n"
     ]
    },
    {
     "data": {
      "text/plain": [
       "[{'word': 'go',\n",
       "  'lemma': 'go',\n",
       "  'NE': '',\n",
       "  'POS_fine': 'VBP',\n",
       "  'POS_coarse': 'VERB',\n",
       "  'arc': 'ROOT',\n",
       "  'modifiers': [{'word': 'I',\n",
       "    'lemma': '-PRON-',\n",
       "    'NE': '',\n",
       "    'POS_fine': 'PRP',\n",
       "    'POS_coarse': 'PRON',\n",
       "    'arc': 'nsubj',\n",
       "    'modifiers': []},\n",
       "   {'word': 'to',\n",
       "    'lemma': 'to',\n",
       "    'NE': '',\n",
       "    'POS_fine': 'IN',\n",
       "    'POS_coarse': 'ADP',\n",
       "    'arc': 'prep',\n",
       "    'modifiers': [{'word': 'park',\n",
       "      'lemma': 'park',\n",
       "      'NE': '',\n",
       "      'POS_fine': 'NN',\n",
       "      'POS_coarse': 'NOUN',\n",
       "      'arc': 'pobj',\n",
       "      'modifiers': [{'word': 'the',\n",
       "        'lemma': 'the',\n",
       "        'NE': '',\n",
       "        'POS_fine': 'DT',\n",
       "        'POS_coarse': 'DET',\n",
       "        'arc': 'det',\n",
       "        'modifiers': []}]}]},\n",
       "   {'word': 'at',\n",
       "    'lemma': 'at',\n",
       "    'NE': '',\n",
       "    'POS_fine': 'IN',\n",
       "    'POS_coarse': 'ADP',\n",
       "    'arc': 'prep',\n",
       "    'modifiers': [{'word': '9 a.m.',\n",
       "      'lemma': '9 a.m.',\n",
       "      'NE': 'TIME',\n",
       "      'POS_fine': 'NN',\n",
       "      'POS_coarse': 'NOUN',\n",
       "      'arc': 'pobj',\n",
       "      'modifiers': []}]}]}]"
      ]
     },
     "execution_count": 46,
     "metadata": {},
     "output_type": "execute_result"
    }
   ],
   "source": [
    "docs[0].print_tree()"
   ]
  },
  {
   "cell_type": "code",
   "execution_count": null,
   "metadata": {},
   "outputs": [],
   "source": []
  }
 ],
 "metadata": {
  "kernelspec": {
   "display_name": "Python 3",
   "language": "python",
   "name": "python3"
  },
  "language_info": {
   "codemirror_mode": {
    "name": "ipython",
    "version": 3
   },
   "file_extension": ".py",
   "mimetype": "text/x-python",
   "name": "python",
   "nbconvert_exporter": "python",
   "pygments_lexer": "ipython3",
   "version": "3.6.6"
  }
 },
 "nbformat": 4,
 "nbformat_minor": 2
}
