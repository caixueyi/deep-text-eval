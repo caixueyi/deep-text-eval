{
 "cells": [
  {
   "cell_type": "markdown",
   "metadata": {},
   "source": [
    "##### For later: DON'T FORGET PARALLEL PARSER!"
   ]
  },
  {
   "cell_type": "markdown",
   "metadata": {},
   "source": [
    "```\n",
    "[ ] POS tag density based features - TODO\n",
    "[ ] Lexical Richness Features from SLA research - ?\n",
    "[ ] Syntactic Complexity Features\n",
    "    [ ] Non-parse tree based features - TODO!!!\n",
    "    [ ] General parse tree features - TODO!!!\n",
    "    [ ] Features from SLA research (Lu, 2010) - ?\n",
    "[ ] Word Characteristic Features\n",
    "    [ ] Morpho-Syntactic properties of Words [CELEX] - ?\n",
    "    [ ] Psycholinguistic Features [MRC] - ?\n",
    "[ ] Semantic Features [Wordnet] - TODO\n",
    "```"
   ]
  },
  {
   "cell_type": "markdown",
   "metadata": {},
   "source": [
    "Syntax Parser doc: https://github.com/nikitakit/self-attentive-parser#usage-with-spacy"
   ]
  },
  {
   "cell_type": "code",
   "execution_count": 1,
   "metadata": {},
   "outputs": [],
   "source": [
    "%load_ext autoreload\n",
    "%autoreload 2"
   ]
  },
  {
   "cell_type": "code",
   "execution_count": 2,
   "metadata": {},
   "outputs": [
    {
     "name": "stdout",
     "output_type": "stream",
     "text": [
      "CPU times: user 12.5 s, sys: 6.5 s, total: 19 s\n",
      "Wall time: 36.6 s\n"
     ]
    }
   ],
   "source": [
    "%%time\n",
    "import features"
   ]
  },
  {
   "cell_type": "code",
   "execution_count": 3,
   "metadata": {},
   "outputs": [],
   "source": [
    "import pandas as pd\n",
    "\n",
    "text_df = pd.read_hdf('../data/weebit/weebit.h5', 'text_df')\n",
    "text = text_df['text'][2:3]"
   ]
  },
  {
   "cell_type": "code",
   "execution_count": 4,
   "metadata": {},
   "outputs": [
    {
     "name": "stderr",
     "output_type": "stream",
     "text": [
      "100%|██████████| 1/1 [00:00<00:00,  9.55it/s]\n"
     ]
    },
    {
     "name": "stdout",
     "output_type": "stream",
     "text": [
      "CPU times: user 8.96 s, sys: 1.19 s, total: 10.1 s\n",
      "Wall time: 6.96 s\n"
     ]
    }
   ],
   "source": [
    "%%time\n",
    "docs = features.docify_text(text)"
   ]
  },
  {
   "cell_type": "code",
   "execution_count": 5,
   "metadata": {},
   "outputs": [
    {
     "data": {
      "text/plain": [
       "{'senlen': 11.384615384615385,\n",
       " 'numnp': 3.4615384615384617,\n",
       " 'numpp': 1.358974358974359,\n",
       " 'numvp': 2.128205128205128,\n",
       " 'numsbar': 0.2564102564102564,\n",
       " 'numsbarq': 0.07692307692307693,\n",
       " 'numwh': 0.1282051282051282,\n",
       " 'avgnpsize': 2.140740740740741,\n",
       " 'avgvpsize': 6.578313253012048,\n",
       " 'avgppsize': 2.9056603773584904,\n",
       " 'avgparsetreeheight': 4.6923076923076925,\n",
       " 'numconstituents': 9.871794871794872,\n",
       " 'numprep': 53,\n",
       " 'num_comma': 0.6153846153846154,\n",
       " 'nouns': 0.25225225225225223,\n",
       " 'propernouns': 0.06306306306306306,\n",
       " 'pronouns': 0.0,\n",
       " 'conj': 0.13513513513513514,\n",
       " 'adj': 0.02252252252252252,\n",
       " 'ver': 0.16216216216216217,\n",
       " 'interj': 0.02564102564102564,\n",
       " 'adverbs': 0.5128205128205128,\n",
       " 'modals': 0.05128205128205128,\n",
       " 'perpro': 0.0,\n",
       " 'whpro': 0.10256410256410256,\n",
       " 'numfuncwords': 3.5128205128205128,\n",
       " 'numdet': 0.6410256410256411,\n",
       " 'numvb': 0.38461538461538464,\n",
       " 'numvbd': 0.5384615384615384,\n",
       " 'numvbg': 0.3076923076923077,\n",
       " 'numvbn': 0.23076923076923078,\n",
       " 'numvbp': 0.20512820512820512}"
      ]
     },
     "execution_count": 5,
     "metadata": {},
     "output_type": "execute_result"
    }
   ],
   "source": [
    "docs[0]._.features"
   ]
  }
 ],
 "metadata": {
  "kernelspec": {
   "display_name": "Python 3",
   "language": "python",
   "name": "python3"
  },
  "language_info": {
   "codemirror_mode": {
    "name": "ipython",
    "version": 3
   },
   "file_extension": ".py",
   "mimetype": "text/x-python",
   "name": "python",
   "nbconvert_exporter": "python",
   "pygments_lexer": "ipython3",
   "version": "3.6.6"
  }
 },
 "nbformat": 4,
 "nbformat_minor": 2
}
