{
 "cells": [
  {
   "cell_type": "markdown",
   "metadata": {},
   "source": [
    "# Softmax for probabilities - OvO vs. OvR - ALL features"
   ]
  },
  {
   "cell_type": "code",
   "execution_count": 1,
   "metadata": {},
   "outputs": [],
   "source": [
    "import numpy as np\n",
    "import matplotlib.pylab as plt\n",
    "\n",
    "plt.ion()"
   ]
  },
  {
   "cell_type": "code",
   "execution_count": 2,
   "metadata": {},
   "outputs": [
    {
     "name": "stderr",
     "output_type": "stream",
     "text": [
      "Using TensorFlow backend.\n"
     ]
    }
   ],
   "source": [
    "import sys\n",
    "sys.path.append('../../data')\n",
    "from corpus import load_corpus\n",
    "data = load_corpus('weebit')\n",
    "\n",
    "X_train = data['X_train']\n",
    "y_train = data['y_train']\n",
    "y_train_onehot = data['y_train_onehot']\n",
    "X_test = data['X_test']\n",
    "y_test = data['y_test']\n",
    "y_test_onehot = data['y_test_onehot']"
   ]
  },
  {
   "cell_type": "code",
   "execution_count": 3,
   "metadata": {},
   "outputs": [],
   "source": [
    "from sklearn.metrics import accuracy_score, make_scorer\n",
    "from sklearn.model_selection import cross_val_score\n",
    "\n",
    "def threshold_socre(y_true, y_pred):\n",
    "    return np.sum(np.abs(y_true - y_pred) <= 1) / len(y_true)\n",
    "\n",
    "def calc_scores(y_true, y_pred_probs):\n",
    "    y_pred_avg = (y_pred_probs * np.arange(5)).sum(axis=1)\n",
    "    y_pred_avg_classes = y_pred_avg.round().clip(0, 4).astype(int)\n",
    "    return {'accuracy': accuracy_score(y_true, y_pred_avg_classes),\n",
    "            'threshold': threshold_socre(y_true, y_pred_avg_classes)}\n",
    "\n",
    "threshold_scorer = make_scorer(threshold_socre)\n",
    "accuracy_scorer = make_scorer(accuracy_score)\n",
    "\n",
    "def calc_scores_with_cv(model, X, y, cv=5):\n",
    "    return {'accuracy': np.mean(cross_val_score(model, X, y, scoring=accuracy_scorer, cv=cv)),\n",
    "            'threshold': np.mean(cross_val_score(model, X, y, scoring=threshold_scorer, cv=cv))}"
   ]
  },
  {
   "cell_type": "markdown",
   "metadata": {},
   "source": [
    "## OvO model - First SVM probabilities and then Softmax ones"
   ]
  },
  {
   "cell_type": "code",
   "execution_count": 4,
   "metadata": {},
   "outputs": [
    {
     "name": "stdout",
     "output_type": "stream",
     "text": [
      "CV: {'threshold': 0.9143854547111088, 'accuracy': 0.708029635958036}\n",
      "Test: {'threshold': 0.9436813186813187, 'accuracy': 0.6442307692307693}\n"
     ]
    }
   ],
   "source": [
    "from sklearn.svm import SVC\n",
    "\n",
    "model_ovo = SVC(kernel='rbf', C=1, probability=True, decision_function_shape='ovo')\n",
    "\n",
    "print('CV:', calc_scores_with_cv(model_ovo, X_train, y_train))\n",
    "\n",
    "model_ovo.fit(X_train, y_train)\n",
    "\n",
    "y_pred = model_ovo.predict(X_test)\n",
    "y_pred_probs = model_ovo.predict_proba(X_test)\n",
    "print('Test:', calc_scores(y_test, y_pred_probs))"
   ]
  },
  {
   "cell_type": "code",
   "execution_count": 5,
   "metadata": {},
   "outputs": [
    {
     "name": "stdout",
     "output_type": "stream",
     "text": [
      "CV: {'threshold': 0.9425744213969279, 'accuracy': 0.7895434462444773}\n",
      "Test: {'threshold': 0.9326923076923077, 'accuracy': 0.6346153846153846}\n"
     ]
    }
   ],
   "source": [
    "from keras.models import Sequential\n",
    "from keras.layers import Dense\n",
    "from keras.wrappers.scikit_learn import KerasClassifier\n",
    "\n",
    "\n",
    "def create_prob_calculator_ovo():\n",
    "    prob_calculator_ovo = Sequential()\n",
    "    prob_calculator_ovo.add(Dense(5, input_dim=10, activation='softmax'))\n",
    "\n",
    "    prob_calculator_ovo.compile(optimizer='rmsprop',\n",
    "                        loss='categorical_crossentropy',\n",
    "                        metrics=['accuracy'])\n",
    "\n",
    "    return prob_calculator_ovo\n",
    "\n",
    "\n",
    "prob_calculator_ovo = KerasClassifier(build_fn=create_prob_calculator_ovo,\n",
    "                                      epochs=10, \n",
    "                                      verbose=0)\n",
    "\n",
    "\n",
    "X_dist_ovo_train = model_ovo.decision_function(X_train)\n",
    "X_dist_ovo_test = model_ovo.decision_function(X_test)\n",
    "\n",
    "print('CV:', calc_scores_with_cv(prob_calculator_ovo, X_dist_ovo_train, y_train))\n",
    "\n",
    "\n",
    "prob_calculator_ovo.fit(X_dist_ovo_train, y_train_onehot)\n",
    "\n",
    "y_pred_probs = prob_calculator_ovo.predict_proba(X_dist_ovo_test)\n",
    "print('Test:', calc_scores(y_test, y_pred_probs))"
   ]
  },
  {
   "cell_type": "markdown",
   "metadata": {},
   "source": [
    "## OvR model - First SVM probabilities and then Softmax ones"
   ]
  },
  {
   "cell_type": "code",
   "execution_count": 6,
   "metadata": {},
   "outputs": [
    {
     "name": "stdout",
     "output_type": "stream",
     "text": [
      "CV: {'threshold': 0.9078503243165768, 'accuracy': 0.7042424757382629}\n",
      "Test: {'threshold': 0.929945054945055, 'accuracy': 0.5755494505494505}\n"
     ]
    }
   ],
   "source": [
    "from sklearn.multiclass import OneVsRestClassifier\n",
    "\n",
    "model_ovr = OneVsRestClassifier(SVC(kernel='rbf', C=1, probability=True))\n",
    "\n",
    "print('CV:', calc_scores_with_cv(model_ovr, X_train, y_train))\n",
    "\n",
    "model_ovr.fit(X_train, y_train)\n",
    "\n",
    "y_pred = model_ovo.predict(X_test)\n",
    "y_pred_probs = model_ovr.predict_proba(X_test)\n",
    "print('Test:', calc_scores(y_test, y_pred_probs))"
   ]
  },
  {
   "cell_type": "code",
   "execution_count": 7,
   "metadata": {},
   "outputs": [
    {
     "name": "stdout",
     "output_type": "stream",
     "text": [
      "CV: {'threshold': 0.9356731787237316, 'accuracy': 0.8101673261529181}\n",
      "Test: {'threshold': 0.9326923076923077, 'accuracy': 0.5343406593406593}\n"
     ]
    }
   ],
   "source": [
    "from keras.models import Sequential\n",
    "from keras.layers import Dense\n",
    "from keras.wrappers.scikit_learn import KerasClassifier\n",
    "\n",
    "\n",
    "def create_prob_calculator_ovr():\n",
    "    prob_calculator_ovr = Sequential()\n",
    "    prob_calculator_ovr.add(Dense(5, input_dim=5, activation='softmax'))\n",
    "\n",
    "    prob_calculator_ovr.compile(optimizer='rmsprop',\n",
    "                        loss='categorical_crossentropy',\n",
    "                        metrics=['accuracy'])\n",
    "\n",
    "    return prob_calculator_ovr\n",
    "\n",
    "\n",
    "prob_calculator_ovr = KerasClassifier(build_fn=create_prob_calculator_ovr,\n",
    "                                      epochs=10, \n",
    "                                      verbose=0)\n",
    "\n",
    "\n",
    "X_dist_ovr_train = model_ovr.decision_function(X_train)\n",
    "X_dist_ovr_test = model_ovr.decision_function(X_test)\n",
    "\n",
    "print('CV:', calc_scores_with_cv(prob_calculator_ovr, X_dist_ovr_train, y_train))\n",
    "\n",
    "\n",
    "prob_calculator_ovr.fit(X_dist_ovr_train, y_train_onehot)\n",
    "\n",
    "y_pred_probs = prob_calculator_ovr.predict_proba(X_dist_ovr_test)\n",
    "print('Test:', calc_scores(y_test, y_pred_probs))"
   ]
  }
 ],
 "metadata": {
  "kernelspec": {
   "display_name": "Python 3",
   "language": "python",
   "name": "python3"
  },
  "language_info": {
   "codemirror_mode": {
    "name": "ipython",
    "version": 3
   },
   "file_extension": ".py",
   "mimetype": "text/x-python",
   "name": "python",
   "nbconvert_exporter": "python",
   "pygments_lexer": "ipython3",
   "version": "3.5.2"
  }
 },
 "nbformat": 4,
 "nbformat_minor": 2
}
