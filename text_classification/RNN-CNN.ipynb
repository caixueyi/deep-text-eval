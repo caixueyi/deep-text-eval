{
 "cells": [
  {
   "cell_type": "code",
   "execution_count": 1,
   "metadata": {},
   "outputs": [
    {
     "data": {
      "text/plain": [
       "'\\n! pip install numpy\\n! pip install pandas\\n! pip install nltk\\n! pip install keras\\n! pip install matplotlib\\n! pip install sklearn\\n! pip install plotly\\n! pip install gensim\\n'"
      ]
     },
     "execution_count": 1,
     "metadata": {},
     "output_type": "execute_result"
    }
   ],
   "source": [
    "# Installing dependencies\n",
    "\"\"\"\n",
    "! pip install numpy\n",
    "! pip install pandas\n",
    "! pip install nltk\n",
    "! pip install keras\n",
    "! pip install matplotlib\n",
    "! pip install sklearn\n",
    "! pip install plotly\n",
    "! pip install gensim\n",
    "\"\"\""
   ]
  },
  {
   "cell_type": "code",
   "execution_count": 75,
   "metadata": {},
   "outputs": [
    {
     "data": {
      "text/html": [
       "<script>requirejs.config({paths: { 'plotly': ['https://cdn.plot.ly/plotly-latest.min']},});if(!window.Plotly) {{require(['plotly'],function(plotly) {window.Plotly=plotly;});}}</script>"
      ],
      "text/vnd.plotly.v1+html": [
       "<script>requirejs.config({paths: { 'plotly': ['https://cdn.plot.ly/plotly-latest.min']},});if(!window.Plotly) {{require(['plotly'],function(plotly) {window.Plotly=plotly;});}}</script>"
      ]
     },
     "metadata": {},
     "output_type": "display_data"
    },
    {
     "name": "stdout",
     "output_type": "stream",
     "text": [
      "[nltk_data] Downloading package punkt to /home/vageesh/nltk_data...\n",
      "[nltk_data]   Package punkt is already up-to-date!\n"
     ]
    }
   ],
   "source": [
    "# Importing libraries\n",
    "import re\n",
    "import string\n",
    "import numpy as np\n",
    "import pandas as pd\n",
    "from sklearn.manifold import TSNE\n",
    "\n",
    "import nltk\n",
    "from nltk.corpus import stopwords\n",
    "from nltk.stem import SnowballStemmer\n",
    "\n",
    "import plotly.offline as py\n",
    "import plotly.graph_objs as go\n",
    "py.init_notebook_mode(connected=True)\n",
    "import matplotlib.pyplot as plt\n",
    "from matplotlib import pyplot\n",
    "%matplotlib inline \n",
    "\n",
    "from scipy import stats\n",
    "\n",
    "from keras.preprocessing.text import Tokenizer\n",
    "from keras.preprocessing.sequence import pad_sequences\n",
    "from keras.models import Sequential\n",
    "from keras.layers import Dense, Flatten, LSTM, Conv1D, MaxPooling1D, Dropout, Activation, Input, merge, concatenate\n",
    "from keras.layers.embeddings import Embedding\n",
    "from keras.utils.np_utils import to_categorical\n",
    "from keras.models import Model,load_model\n",
    "\n",
    "from scipy.stats.kde import gaussian_kde\n",
    "from numpy import linspace\n",
    "import inspect\n",
    "\n",
    "import seaborn as sns\n",
    "\n",
    "from gensim.models import Word2Vec\n",
    "import nltk\n",
    "nltk.download('punkt')\n",
    "\n",
    "import warnings\n",
    "warnings.filterwarnings(\"ignore\")"
   ]
  },
  {
   "cell_type": "markdown",
   "metadata": {},
   "source": [
    "# Pre-processing of data"
   ]
  },
  {
   "cell_type": "code",
   "execution_count": 3,
   "metadata": {},
   "outputs": [
    {
     "name": "stdout",
     "output_type": "stream",
     "text": [
      "Shape of the dataset: (3636, 2)\n"
     ]
    }
   ],
   "source": [
    "# Loading dataset\n",
    "df = pd.read_hdf(\"weebit.h5\",\"text_df\")[['text','y']]\n",
    "# Dropping null values\n",
    "df.dropna(inplace=True)\n",
    "# Converting class labels to int dtype\n",
    "df['y'] = df['y'].astype(int)\n",
    "print(\"Shape of the dataset:\",df.shape)"
   ]
  },
  {
   "cell_type": "code",
   "execution_count": 6,
   "metadata": {},
   "outputs": [],
   "source": [
    "# Cleaning the text data\n",
    "def clean_text(text):\n",
    "    \n",
    "    ## Remove puncuation\n",
    "    text = text.translate(string.punctuation)\n",
    "    \n",
    "    ## Convert words to lower case and split them\n",
    "    text = text.lower().split()\n",
    "    \n",
    "    ## Remove stop words\n",
    "    stops = set(stopwords.words(\"german\"))\n",
    "    text = [w for w in text if not w in stops and len(w) >= 3]\n",
    "    text = \" \".join(text)\n",
    "\n",
    "    # Clean the text\n",
    "    text = re.sub(r\"[^A-Za-z0-9^,!.\\/'+-=]\", \" \", text)  \n",
    "    text = text.split()\n",
    "    stemmer = SnowballStemmer('german')\n",
    "    stemmed_words = [stemmer.stem(word) for word in text]\n",
    "    text = \" \".join(stemmed_words)\n",
    "\n",
    "    return text"
   ]
  },
  {
   "cell_type": "code",
   "execution_count": 7,
   "metadata": {},
   "outputs": [
    {
     "data": {
      "text/html": [
       "<div>\n",
       "<style scoped>\n",
       "    .dataframe tbody tr th:only-of-type {\n",
       "        vertical-align: middle;\n",
       "    }\n",
       "\n",
       "    .dataframe tbody tr th {\n",
       "        vertical-align: top;\n",
       "    }\n",
       "\n",
       "    .dataframe thead th {\n",
       "        text-align: right;\n",
       "    }\n",
       "</style>\n",
       "<table border=\"1\" class=\"dataframe\">\n",
       "  <thead>\n",
       "    <tr style=\"text-align: right;\">\n",
       "      <th></th>\n",
       "      <th>text</th>\n",
       "      <th>y</th>\n",
       "    </tr>\n",
       "  </thead>\n",
       "  <tbody>\n",
       "    <tr>\n",
       "      <th>0</th>\n",
       "      <td>very strict and 'old-fashioned'. would hit his...</td>\n",
       "      <td>4</td>\n",
       "    </tr>\n",
       "    <tr>\n",
       "      <th>1</th>\n",
       "      <td>the formula for finding the circumferenc circl...</td>\n",
       "      <td>4</td>\n",
       "    </tr>\n",
       "    <tr>\n",
       "      <th>2</th>\n",
       "      <td>you need abl work out ris and fall temperatur ...</td>\n",
       "      <td>4</td>\n",
       "    </tr>\n",
       "    <tr>\n",
       "      <th>3</th>\n",
       "      <td>ion are electrically charged particl formed wh...</td>\n",
       "      <td>4</td>\n",
       "    </tr>\n",
       "    <tr>\n",
       "      <th>4</th>\n",
       "      <td>the poet arguing that this actually the way th...</td>\n",
       "      <td>4</td>\n",
       "    </tr>\n",
       "  </tbody>\n",
       "</table>\n",
       "</div>"
      ],
      "text/plain": [
       "                                                text  y\n",
       "0  very strict and 'old-fashioned'. would hit his...  4\n",
       "1  the formula for finding the circumferenc circl...  4\n",
       "2  you need abl work out ris and fall temperatur ...  4\n",
       "3  ion are electrically charged particl formed wh...  4\n",
       "4  the poet arguing that this actually the way th...  4"
      ]
     },
     "execution_count": 7,
     "metadata": {},
     "output_type": "execute_result"
    }
   ],
   "source": [
    "df['text'] = df['text'].map(lambda x: clean_text(x))\n",
    "df.head()"
   ]
  },
  {
   "cell_type": "code",
   "execution_count": 8,
   "metadata": {},
   "outputs": [
    {
     "name": "stdout",
     "output_type": "stream",
     "text": [
      "Found 26835 unique tokens.\n"
     ]
    }
   ],
   "source": [
    "# Because of the computational expenses, I am using the top 20000 unique words. \n",
    "# At first, the text is tokenized and then convert those into sequences. \n",
    "# I have kept 50 words to limit the number of words in each comment.\n",
    "vocabulary_size = 20000\n",
    "\n",
    "# Initializing Tokenizer from keras\n",
    "tokenizer = Tokenizer(num_words= vocabulary_size)\n",
    "# Fitting text on the tokenizer\n",
    "tokenizer.fit_on_texts(df['text'])\n",
    "# Converting text to sequence\n",
    "sequences = tokenizer.texts_to_sequences(df['text'])\n",
    "\n",
    "# Finding unique tokenizer\n",
    "word_index = tokenizer.word_index\n",
    "print('Found %s unique tokens.' % len(word_index))\n",
    "\n",
    "# Padding sequences to the length of MAX_SEQUENCE_LENGTH\n",
    "data = pad_sequences(sequences, maxlen=50)\n",
    "labels = df['y']"
   ]
  },
  {
   "cell_type": "markdown",
   "metadata": {},
   "source": [
    "# Visualizing data"
   ]
  },
  {
   "cell_type": "code",
   "execution_count": 9,
   "metadata": {},
   "outputs": [
    {
     "name": "stdout",
     "output_type": "stream",
     "text": [
      "class labels from the corpora: [4 2 1 0 3]\n"
     ]
    }
   ],
   "source": [
    "unique_class_labels = df['y'].unique()\n",
    "print(\"class labels from the corpora:\",unique_class_labels)"
   ]
  },
  {
   "cell_type": "code",
   "execution_count": 10,
   "metadata": {},
   "outputs": [],
   "source": [
    "# Used to modify elements of a dictionary\n",
    "class make_dict(dict):\n",
    "    def __getitem__(self, item):\n",
    "        try:\n",
    "            return dict.__getitem__(self, item)\n",
    "        except KeyError:\n",
    "            value = self[item] = type(self)()\n",
    "            return value"
   ]
  },
  {
   "cell_type": "code",
   "execution_count": 11,
   "metadata": {},
   "outputs": [
    {
     "name": "stdout",
     "output_type": "stream",
     "text": [
      "Total no of sentences in the Corpora is 3636\n",
      "No of sentences in class label 4 is 800\n",
      "No of sentences in class label 2 is 798\n",
      "No of sentences in class label 1 is 788\n",
      "No of sentences in class label 0 is 607\n",
      "No of sentences in class label 3 is 643\n"
     ]
    }
   ],
   "source": [
    "# Printing the total number of sentences in the corpora\n",
    "print(\"Total no of sentences in the Corpora is\",df.shape[0])\n",
    "# Getting count of sentences for every class\n",
    "count_list = []\n",
    "for class_label in df['y'].unique():\n",
    "    print(\"No of sentences in class label\",str(class_label) + \" is \" + str(df[df['y']==class_label].shape[0]))\n",
    "    count_list.append((str(class_label),int(df[df['y']==class_label].shape[0])))"
   ]
  },
  {
   "cell_type": "code",
   "execution_count": 12,
   "metadata": {},
   "outputs": [],
   "source": [
    "# Getting data into dictionary for plotting\n",
    "no_of_sentence = make_dict()\n",
    "for values in count_list:\n",
    "    no_of_sentence[values[0]] = values[1]"
   ]
  },
  {
   "cell_type": "code",
   "execution_count": 13,
   "metadata": {},
   "outputs": [
    {
     "data": {
      "image/png": "[encoded data removed]",
      "text/plain": [
       "<matplotlib.figure.Figure at 0x7f08cc0e10f0>"
      ]
     },
     "metadata": {},
     "output_type": "display_data"
    }
   ],
   "source": [
    "plt.bar(list(no_of_sentence.keys()), no_of_sentence.values(), color='g')\n",
    "plt.suptitle(no_of_sentence.keys(), fontsize=10)\n",
    "plt.xlabel('Class labels', fontsize=10)\n",
    "plt.ylabel('No of Sentences', fontsize=10)\n",
    "plt.show()"
   ]
  },
  {
   "cell_type": "markdown",
   "metadata": {},
   "source": [
    "# Splitting the training and testing data"
   ]
  },
  {
   "cell_type": "code",
   "execution_count": 14,
   "metadata": {},
   "outputs": [
    {
     "name": "stdout",
     "output_type": "stream",
     "text": [
      "Shape of data tensor: (3636, 50)\n",
      "Shape of label tensor: (3636, 5)\n"
     ]
    }
   ],
   "source": [
    "# Getting the labels and features data\n",
    "labels = to_categorical(np.asarray(labels))\n",
    "print('Shape of data tensor:', data.shape)\n",
    "print('Shape of label tensor:', labels.shape)"
   ]
  },
  {
   "cell_type": "code",
   "execution_count": 15,
   "metadata": {},
   "outputs": [],
   "source": [
    "# Getting the splitting index for training and testing data\n",
    "SPLIT_RATIO = 0.25\n",
    "indices = np.arange(data.shape[0])\n",
    "np.random.shuffle(indices)\n",
    "data = data[indices]\n",
    "labels = labels[indices]\n",
    "validation_samples = int(SPLIT_RATIO * data.shape[0])"
   ]
  },
  {
   "cell_type": "code",
   "execution_count": 16,
   "metadata": {},
   "outputs": [],
   "source": [
    "# Getting the testing and training dataset\n",
    "X_train = data[:-validation_samples]\n",
    "y_train = labels[:-validation_samples]\n",
    "X_test = data[-validation_samples:]\n",
    "y_test = labels[-validation_samples:]"
   ]
  },
  {
   "cell_type": "markdown",
   "metadata": {},
   "source": [
    "# Text Classification using Using Convolutional neural network with multiple filter sizes(Deutsche lernen accuracy = 98.16%,Weebit Corpus accuracy=72.39%,GEO Corpus accuracy=86.84%)\n",
    "# (https://www.cs.cmu.edu/~diyiy/docs/naacl16.pdf)"
   ]
  },
  {
   "cell_type": "markdown",
   "metadata": {},
   "source": [
    "The network starts with an embedding layer. The layer lets the system expand each token to a more massive vector, allowing the network to represent a word in a meaningful way. The layer takes 20000 as the first argument, which is the size of our vocabulary, and 100 as the second input parameter, which is the dimension of the embeddings. The third parameter is the input_length of 50, which is the length of each text sequence."
   ]
  },
  {
   "cell_type": "code",
   "execution_count": 17,
   "metadata": {},
   "outputs": [],
   "source": [
    "# defining the globals\n",
    "max_input_length = 50\n",
    "vocabulary_size = 20000\n",
    "embedding_dim = 100"
   ]
  },
  {
   "cell_type": "code",
   "execution_count": 18,
   "metadata": {},
   "outputs": [],
   "source": [
    "filter_sizes = (2,4,5,8)\n",
    "dropout_prob = [0.4,0.5]"
   ]
  },
  {
   "cell_type": "code",
   "execution_count": 19,
   "metadata": {},
   "outputs": [
    {
     "name": "stdout",
     "output_type": "stream",
     "text": [
      "WARNING:tensorflow:From /home/vageesh/anaconda3/lib/python3.6/site-packages/tensorflow/python/util/deprecation.py:497: calling conv1d (from tensorflow.python.ops.nn_ops) with data_format=NHWC is deprecated and will be removed in a future version.\n",
      "Instructions for updating:\n",
      "`NHWC` for data_format is deprecated, use `NWC` instead\n"
     ]
    }
   ],
   "source": [
    "# Setting the Convolution layer\n",
    "graph_in = Input(shape=(max_input_length, embedding_dim))\n",
    "convs = []\n",
    "avgs = []\n",
    "\n",
    "for fsz in filter_sizes:\n",
    "    conv = Conv1D(nb_filter=32,filter_length=fsz,border_mode='valid',activation='relu',subsample_length=1)(graph_in)\n",
    "    pool = MaxPooling1D(pool_length = max_input_length - fsz + 1)(conv)\n",
    "    flattenMax = Flatten()(pool)\n",
    "    convs.append(flattenMax)\n",
    "\n",
    "if len(filter_sizes)>1:\n",
    "    out = concatenate(convs,axis=-1)\n",
    "else:\n",
    "    out = convs[0]\n",
    "\n",
    "graph = Model(input=graph_in, output=out, name=\"graphModel\")"
   ]
  },
  {
   "cell_type": "code",
   "execution_count": 20,
   "metadata": {},
   "outputs": [
    {
     "name": "stdout",
     "output_type": "stream",
     "text": [
      "model fitting - CNN network\n",
      "_________________________________________________________________\n",
      "Layer (type)                 Output Shape              Param #   \n",
      "=================================================================\n",
      "embedding_1 (Embedding)      (None, 50, 100)           2000000   \n",
      "_________________________________________________________________\n",
      "dropout_1 (Dropout)          (None, 50, 100)           0         \n",
      "_________________________________________________________________\n",
      "graphModel (Model)           (None, 128)               60928     \n",
      "_________________________________________________________________\n",
      "dense_1 (Dense)              (None, 256)               33024     \n",
      "_________________________________________________________________\n",
      "dropout_2 (Dropout)          (None, 256)               0         \n",
      "_________________________________________________________________\n",
      "activation_1 (Activation)    (None, 256)               0         \n",
      "_________________________________________________________________\n",
      "dense_2 (Dense)              (None, 5)                 1285      \n",
      "_________________________________________________________________\n",
      "activation_2 (Activation)    (None, 5)                 0         \n",
      "=================================================================\n",
      "Total params: 2,095,237\n",
      "Trainable params: 2,095,237\n",
      "Non-trainable params: 0\n",
      "_________________________________________________________________\n",
      "Train on 2727 samples, validate on 909 samples\n",
      "Epoch 1/10\n",
      "2727/2727 [==============================] - 9s 3ms/step - loss: 1.4272 - acc: 0.3850 - val_loss: 1.0430 - val_acc: 0.5435\n",
      "Epoch 2/10\n",
      "2727/2727 [==============================] - 6s 2ms/step - loss: 0.8842 - acc: 0.5831 - val_loss: 0.7670 - val_acc: 0.6282\n",
      "Epoch 3/10\n",
      "2727/2727 [==============================] - 6s 2ms/step - loss: 0.7098 - acc: 0.6513 - val_loss: 0.6759 - val_acc: 0.6986\n",
      "Epoch 4/10\n",
      "2727/2727 [==============================] - 7s 2ms/step - loss: 0.5875 - acc: 0.7389 - val_loss: 0.6390 - val_acc: 0.7063\n",
      "Epoch 5/10\n",
      "2727/2727 [==============================] - 6s 2ms/step - loss: 0.4637 - acc: 0.8122 - val_loss: 0.6045 - val_acc: 0.7239\n",
      "Epoch 6/10\n",
      "2727/2727 [==============================] - 6s 2ms/step - loss: 0.3436 - acc: 0.8761 - val_loss: 0.6492 - val_acc: 0.7041\n",
      "Epoch 7/10\n",
      "2727/2727 [==============================] - 6s 2ms/step - loss: 0.2324 - acc: 0.9182 - val_loss: 0.6876 - val_acc: 0.7206\n",
      "Epoch 8/10\n",
      "2727/2727 [==============================] - 6s 2ms/step - loss: 0.1533 - acc: 0.9468 - val_loss: 0.7471 - val_acc: 0.7305\n",
      "Epoch 9/10\n",
      "2727/2727 [==============================] - 6s 2ms/step - loss: 0.1036 - acc: 0.9663 - val_loss: 0.7720 - val_acc: 0.7283\n",
      "Epoch 10/10\n",
      "2727/2727 [==============================] - 6s 2ms/step - loss: 0.0631 - acc: 0.9824 - val_loss: 0.9060 - val_acc: 0.7239\n"
     ]
    }
   ],
   "source": [
    "# Un-comment the below mentioned code to train your model\n",
    "\n",
    "# Configuring the neural network\n",
    "\"\"\"model_cnn = Sequential()\n",
    "model_cnn.add(Embedding(input_dim=vocabulary_size, output_dim = embedding_dim,input_length = max_input_length,trainable=True))\n",
    "model_cnn.add(Dropout(dropout_prob[0]))\n",
    "model_cnn.add(graph)\n",
    "model_cnn.add(Dense(256))\n",
    "model_cnn.add(Dropout(dropout_prob[1]))\n",
    "model_cnn.add(Activation('relu'))\n",
    "model_cnn.add(Dense(y_train.shape[1]))\n",
    "model_cnn.add(Activation('softmax'))\n",
    "model_cnn.compile(loss='categorical_crossentropy',optimizer='rmsprop',metrics=['accuracy'])\n",
    "print(\"model fitting - CNN network\")\n",
    "model_cnn.summary()\n",
    "# Training the model\n",
    "model_cnn.fit(X_train,y_train,validation_data=(X_test, y_test),epochs=10)\n",
    "# Saving the model\n",
    "model_cnn.save(\"simple_cnn.h5\")\"\"\""
   ]
  },
  {
   "cell_type": "code",
   "execution_count": 23,
   "metadata": {},
   "outputs": [],
   "source": [
    "# Loading the pre-trained model\n",
    "model_cnn = load_model(\"simple_cnn.h5\")"
   ]
  },
  {
   "cell_type": "code",
   "execution_count": 24,
   "metadata": {},
   "outputs": [
    {
     "name": "stdout",
     "output_type": "stream",
     "text": [
      "Accuracy: 72.39%\n"
     ]
    }
   ],
   "source": [
    "# Checking the accuracy\n",
    "accuracy_model_cnn = model_cnn.evaluate(X_test, y_test, verbose=0)\n",
    "print(\"Accuracy: %.2f%%\" % (accuracy_model_cnn[1]*100))"
   ]
  },
  {
   "cell_type": "code",
   "execution_count": 349,
   "metadata": {},
   "outputs": [],
   "source": [
    "# Making predictions in terms of probabilities for each class\n",
    "prediction_model_cnn = model_cnn.predict(X_test,batch_size=10,verbose=0)"
   ]
  },
  {
   "cell_type": "code",
   "execution_count": 350,
   "metadata": {},
   "outputs": [
    {
     "data": {
      "text/plain": [
       "array([[1.4460735e-05, 1.1109689e-07, 1.8177912e-05, 2.0418435e-01,\n",
       "        7.9578292e-01],\n",
       "       [1.9133670e-02, 2.2691553e-02, 9.3409693e-01, 8.6950065e-05,\n",
       "        2.3990940e-02],\n",
       "       [1.4460735e-05, 1.1109689e-07, 1.8177912e-05, 2.0418435e-01,\n",
       "        7.9578292e-01],\n",
       "       ...,\n",
       "       [1.4460763e-05, 1.1109698e-07, 1.8177894e-05, 2.0418443e-01,\n",
       "        7.9578286e-01],\n",
       "       [1.4460763e-05, 1.1109698e-07, 1.8177894e-05, 2.0418443e-01,\n",
       "        7.9578286e-01],\n",
       "       [1.4460763e-05, 1.1109698e-07, 1.8177896e-05, 2.0418443e-01,\n",
       "        7.9578286e-01]], dtype=float32)"
      ]
     },
     "execution_count": 350,
     "metadata": {},
     "output_type": "execute_result"
    }
   ],
   "source": [
    "prediction_model_cnn"
   ]
  },
  {
   "cell_type": "markdown",
   "metadata": {},
   "source": [
    "# Text Classification Using LSTM (Deutsche Lernen accuracy = 97.34%, Weebit Corpus accuracy = 72.83%,GEO Corpus accuracy=89.47%)\n",
    "# (https://arxiv.org/abs/1607.02501)"
   ]
  },
  {
   "cell_type": "code",
   "execution_count": 25,
   "metadata": {},
   "outputs": [
    {
     "name": "stdout",
     "output_type": "stream",
     "text": [
      "model fitting - LSTM network\n",
      "_________________________________________________________________\n",
      "Layer (type)                 Output Shape              Param #   \n",
      "=================================================================\n",
      "embedding_2 (Embedding)      (None, 50, 100)           2000000   \n",
      "_________________________________________________________________\n",
      "lstm_1 (LSTM)                (None, 100)               80400     \n",
      "_________________________________________________________________\n",
      "dense_3 (Dense)              (None, 5)                 505       \n",
      "=================================================================\n",
      "Total params: 2,080,905\n",
      "Trainable params: 2,080,905\n",
      "Non-trainable params: 0\n",
      "_________________________________________________________________\n",
      "Train on 2727 samples, validate on 909 samples\n",
      "Epoch 1/10\n",
      "2727/2727 [==============================] - 12s 4ms/step - loss: 1.1145 - acc: 0.4961 - val_loss: 0.8249 - val_acc: 0.5633\n",
      "Epoch 2/10\n",
      "2727/2727 [==============================] - 11s 4ms/step - loss: 0.7471 - acc: 0.6175 - val_loss: 0.8193 - val_acc: 0.5853\n",
      "Epoch 3/10\n",
      "2727/2727 [==============================] - 10s 3ms/step - loss: 0.6486 - acc: 0.7059 - val_loss: 0.7850 - val_acc: 0.6007\n",
      "Epoch 4/10\n",
      "2727/2727 [==============================] - 10s 4ms/step - loss: 0.5302 - acc: 0.7701 - val_loss: 0.6602 - val_acc: 0.7008\n",
      "Epoch 5/10\n",
      "2727/2727 [==============================] - 10s 4ms/step - loss: 0.3998 - acc: 0.8420 - val_loss: 0.7108 - val_acc: 0.6788\n",
      "Epoch 6/10\n",
      "2727/2727 [==============================] - 10s 4ms/step - loss: 0.3054 - acc: 0.8849 - val_loss: 0.8258 - val_acc: 0.6777\n",
      "Epoch 7/10\n",
      "2727/2727 [==============================] - 8s 3ms/step - loss: 0.2281 - acc: 0.9201 - val_loss: 0.7007 - val_acc: 0.7206\n",
      "Epoch 8/10\n",
      "2727/2727 [==============================] - 8s 3ms/step - loss: 0.1675 - acc: 0.9406 - val_loss: 0.7445 - val_acc: 0.7030\n",
      "Epoch 9/10\n",
      "2727/2727 [==============================] - 8s 3ms/step - loss: 0.1185 - acc: 0.9652 - val_loss: 1.2861 - val_acc: 0.6887\n",
      "Epoch 10/10\n",
      "2727/2727 [==============================] - 9s 3ms/step - loss: 0.0869 - acc: 0.9681 - val_loss: 0.8431 - val_acc: 0.7283\n"
     ]
    }
   ],
   "source": [
    "# Un-comment the below mentioned code to train your model\n",
    "\n",
    "\"\"\"# Configuring the neural network\n",
    "model_lstm  = Sequential()\n",
    "model_lstm.add(Embedding(vocabulary_size, 100, input_length=50))\n",
    "model_lstm.add(LSTM(100, dropout=0.2, recurrent_dropout=0.2))\n",
    "model_lstm.add(Dense(y_train.shape[1], activation='softmax'))\n",
    "model_lstm.compile(loss='categorical_crossentropy', optimizer='rmsprop', metrics=['accuracy'])\n",
    "print(\"model fitting - LSTM network\")\n",
    "model_lstm.summary()\n",
    "# Training the model\n",
    "model_lstm.fit(X_train,y_train,validation_data=(X_test, y_test),epochs=10)\n",
    "# Saving the model\n",
    "model_lstm.save(\"simple_lstm.h5\")\"\"\""
   ]
  },
  {
   "cell_type": "code",
   "execution_count": 26,
   "metadata": {},
   "outputs": [],
   "source": [
    "# Loading the pre-trained model\n",
    "model_lstm = load_model(\"simple_lstm.h5\")"
   ]
  },
  {
   "cell_type": "code",
   "execution_count": 27,
   "metadata": {},
   "outputs": [],
   "source": [
    "# getting model weights\n",
    "model_lstm_weights = model_lstm.get_weights()"
   ]
  },
  {
   "cell_type": "code",
   "execution_count": 28,
   "metadata": {},
   "outputs": [
    {
     "name": "stdout",
     "output_type": "stream",
     "text": [
      "Accuracy: 72.83%\n"
     ]
    }
   ],
   "source": [
    "# Checking the accuracy\n",
    "accuracy_model_lstm = model_lstm.evaluate(X_test, y_test, verbose=0)\n",
    "print(\"Accuracy: %.2f%%\" % (accuracy_model_lstm[1]*100))"
   ]
  },
  {
   "cell_type": "code",
   "execution_count": 29,
   "metadata": {},
   "outputs": [],
   "source": [
    "# Making predictions in terms of probabilities for each class\n",
    "prediction_simple_lstm = model_lstm.predict(X_test,batch_size=10,verbose=0)"
   ]
  },
  {
   "cell_type": "code",
   "execution_count": 30,
   "metadata": {},
   "outputs": [
    {
     "data": {
      "text/plain": [
       "array([[3.9091587e-06, 7.4576229e-07, 2.9338871e-06, 6.5963627e-06,\n",
       "        9.9998581e-01],\n",
       "       [3.5609847e-03, 3.6270227e-02, 9.5816475e-01, 6.5796595e-04,\n",
       "        1.3460962e-03],\n",
       "       [1.7649669e-03, 6.2734306e-01, 3.6965463e-01, 4.0003890e-04,\n",
       "        8.3731487e-04],\n",
       "       ...,\n",
       "       [9.9794513e-01, 2.0913327e-04, 3.2565265e-04, 2.5176944e-04,\n",
       "        1.2684127e-03],\n",
       "       [1.3937101e-02, 7.7337021e-01, 2.0892525e-01, 1.8109630e-03,\n",
       "        1.9564733e-03],\n",
       "       [8.7587781e-02, 4.4308495e-02, 8.4391236e-01, 7.6259230e-03,\n",
       "        1.6565368e-02]], dtype=float32)"
      ]
     },
     "execution_count": 30,
     "metadata": {},
     "output_type": "execute_result"
    }
   ],
   "source": [
    "prediction_simple_lstm"
   ]
  },
  {
   "cell_type": "markdown",
   "metadata": {},
   "source": [
    "# Text classification using convolutional layer on top of the LSTM layer(Deutsch lernen accuracy = 97.90%, Weebit Corpus accuracy =66.61%,GEO corpus accuracy=85.71%)\n",
    "# (https://arxiv.org/pdf/1511.08630.pdf)"
   ]
  },
  {
   "cell_type": "code",
   "execution_count": 31,
   "metadata": {},
   "outputs": [
    {
     "data": {
      "text/plain": [
       "'\\nAdding an one-dimensional CNN and max pooling layers after the Embedding layer which is then feed the \\nconsolidated features to the LSTM unit(to speed up the training proccess)\\n'"
      ]
     },
     "execution_count": 31,
     "metadata": {},
     "output_type": "execute_result"
    }
   ],
   "source": [
    "\"\"\"\n",
    "Adding an one-dimensional CNN and max pooling layers after the Embedding layer which is then feed the \n",
    "consolidated features to the LSTM unit(to speed up the training proccess)\n",
    "\"\"\""
   ]
  },
  {
   "cell_type": "code",
   "execution_count": 32,
   "metadata": {},
   "outputs": [
    {
     "name": "stdout",
     "output_type": "stream",
     "text": [
      "model fitting - CNN-LSTM convolutional neural network\n",
      "_________________________________________________________________\n",
      "Layer (type)                 Output Shape              Param #   \n",
      "=================================================================\n",
      "embedding_2 (Embedding)      (None, 50, 100)           2000000   \n",
      "_________________________________________________________________\n",
      "lstm_1 (LSTM)                (None, 100)               80400     \n",
      "_________________________________________________________________\n",
      "dense_3 (Dense)              (None, 5)                 505       \n",
      "=================================================================\n",
      "Total params: 2,080,905\n",
      "Trainable params: 2,080,905\n",
      "Non-trainable params: 0\n",
      "_________________________________________________________________\n",
      "Train on 2727 samples, validate on 909 samples\n",
      "Epoch 1/10\n",
      "2727/2727 [==============================] - 8s 3ms/step - loss: 1.2081 - acc: 0.4404 - val_loss: 0.7879 - val_acc: 0.5985\n",
      "Epoch 2/10\n",
      "2727/2727 [==============================] - 6s 2ms/step - loss: 0.6446 - acc: 0.6806 - val_loss: 0.7080 - val_acc: 0.6271\n",
      "Epoch 3/10\n",
      "2727/2727 [==============================] - 6s 2ms/step - loss: 0.3667 - acc: 0.8456 - val_loss: 0.7525 - val_acc: 0.6920\n",
      "Epoch 4/10\n",
      "2727/2727 [==============================] - 6s 2ms/step - loss: 0.1699 - acc: 0.9428 - val_loss: 0.8634 - val_acc: 0.7074\n",
      "Epoch 5/10\n",
      "2727/2727 [==============================] - 6s 2ms/step - loss: 0.0603 - acc: 0.9813 - val_loss: 1.2594 - val_acc: 0.6722\n",
      "Epoch 6/10\n",
      "2727/2727 [==============================] - 6s 2ms/step - loss: 0.0401 - acc: 0.9897 - val_loss: 1.2393 - val_acc: 0.6799\n",
      "Epoch 7/10\n",
      "2727/2727 [==============================] - 6s 2ms/step - loss: 0.0200 - acc: 0.9945 - val_loss: 1.4965 - val_acc: 0.6744\n",
      "Epoch 8/10\n",
      "2727/2727 [==============================] - 6s 2ms/step - loss: 0.0132 - acc: 0.9967 - val_loss: 1.4208 - val_acc: 0.6667\n",
      "Epoch 9/10\n",
      "2727/2727 [==============================] - 6s 2ms/step - loss: 0.0156 - acc: 0.9974 - val_loss: 1.7016 - val_acc: 0.6348\n",
      "Epoch 10/10\n",
      "2727/2727 [==============================] - 6s 2ms/step - loss: 0.0205 - acc: 0.9941 - val_loss: 1.4752 - val_acc: 0.6612\n"
     ]
    }
   ],
   "source": [
    "# Un-comment the below mentioned code to train your model\n",
    "\n",
    "# Configuring the neural network\n",
    "\"\"\"model_conv = Sequential()\n",
    "model_conv.add(Embedding(vocabulary_size, 100, input_length=50))\n",
    "model_conv.add(Dropout(0.2))\n",
    "model_conv.add(Conv1D(64, 5, activation='relu'))\n",
    "model_conv.add(MaxPooling1D(pool_size=4))\n",
    "model_conv.add(LSTM(100))\n",
    "model_conv.add(Dense(y_train.shape[1], activation='softmax'))\n",
    "model_conv.compile(loss='categorical_crossentropy', optimizer='adam', metrics=['accuracy'])\n",
    "print(\"model fitting - CNN-LSTM convolutional neural network\")\n",
    "model_lstm.summary()\n",
    "# Training the model\n",
    "model_conv.fit(X_train, y_train,validation_data=(X_test,y_test),epochs=10)\n",
    "# Saving the model\n",
    "model_conv.save(\"lstm_cnn.h5\")\"\"\""
   ]
  },
  {
   "cell_type": "code",
   "execution_count": 33,
   "metadata": {},
   "outputs": [],
   "source": [
    "# Loading the pre-trained model\n",
    "model_conv = load_model(\"lstm_cnn.h5\")"
   ]
  },
  {
   "cell_type": "code",
   "execution_count": 34,
   "metadata": {},
   "outputs": [
    {
     "name": "stdout",
     "output_type": "stream",
     "text": [
      "Accuracy: 66.12%\n"
     ]
    }
   ],
   "source": [
    "# Checking the accuracy\n",
    "accuracy_model_conv = model_conv.evaluate(X_test, y_test, verbose=0)\n",
    "print(\"Accuracy: %.2f%%\" % (accuracy_model_conv[1]*100))"
   ]
  },
  {
   "cell_type": "code",
   "execution_count": 360,
   "metadata": {},
   "outputs": [],
   "source": [
    "# Making predictions in terms of probabilities for each class\n",
    "prediction_model_conv = model_conv.predict(X_test,batch_size=10,verbose=0)"
   ]
  },
  {
   "cell_type": "code",
   "execution_count": 361,
   "metadata": {},
   "outputs": [
    {
     "data": {
      "text/plain": [
       "array([[1.2412836e-04, 1.2691332e-04, 1.0445202e-04, 1.3600774e-01,\n",
       "        8.6363673e-01],\n",
       "       [6.6256282e-05, 5.8721198e-05, 1.4250492e-03, 1.4416560e-03,\n",
       "        9.9700838e-01],\n",
       "       [1.2412836e-04, 1.2691332e-04, 1.0445202e-04, 1.3600774e-01,\n",
       "        8.6363673e-01],\n",
       "       ...,\n",
       "       [1.2412813e-04, 1.2691320e-04, 1.0445192e-04, 1.3600767e-01,\n",
       "        8.6363679e-01],\n",
       "       [1.2412813e-04, 1.2691320e-04, 1.0445192e-04, 1.3600767e-01,\n",
       "        8.6363679e-01],\n",
       "       [1.2412813e-04, 1.2691320e-04, 1.0445192e-04, 1.3600767e-01,\n",
       "        8.6363679e-01]], dtype=float32)"
      ]
     },
     "execution_count": 361,
     "metadata": {},
     "output_type": "execute_result"
    }
   ],
   "source": [
    "prediction_model_conv"
   ]
  },
  {
   "cell_type": "markdown",
   "metadata": {},
   "source": [
    "# Using pre-trained Glove word embeddings"
   ]
  },
  {
   "cell_type": "markdown",
   "metadata": {},
   "source": [
    "It was trained on a dataset of one billion tokens (words) with a vocabulary of 400 thousand words. The glove has embedding vector sizes, including 50, 100, 200 and 300 dimensions. I will be choosing the 100-dimensional version."
   ]
  },
  {
   "cell_type": "code",
   "execution_count": 35,
   "metadata": {},
   "outputs": [
    {
     "name": "stdout",
     "output_type": "stream",
     "text": [
      "Loaded 400000 word vectors.\n"
     ]
    }
   ],
   "source": [
    "# Get embeddings from Glove\n",
    "embeddings_index = dict()\n",
    "f = open('glove.6B/glove.6B.100d.txt')\n",
    "for line in f:\n",
    "    values = line.split()\n",
    "    word = values[0]\n",
    "    coefs = np.asarray(values[1:], dtype='float32')\n",
    "    embeddings_index[word] = coefs\n",
    "f.close()\n",
    "print('Loaded %s word vectors.' % len(embeddings_index))"
   ]
  },
  {
   "cell_type": "code",
   "execution_count": 36,
   "metadata": {},
   "outputs": [],
   "source": [
    "# create a weight matrix for words in training docs\n",
    "embedding_matrix = np.zeros((vocabulary_size, 100))\n",
    "for word, index in tokenizer.word_index.items():\n",
    "    if index > vocabulary_size - 1:\n",
    "        break\n",
    "    else:\n",
    "        embedding_vector = embeddings_index.get(word)\n",
    "        if embedding_vector is not None:\n",
    "            embedding_matrix[index] = embedding_vector"
   ]
  },
  {
   "cell_type": "code",
   "execution_count": 37,
   "metadata": {},
   "outputs": [
    {
     "data": {
      "text/plain": [
       "(20000, 100)"
      ]
     },
     "execution_count": 37,
     "metadata": {},
     "output_type": "execute_result"
    }
   ],
   "source": [
    "embedding_matrix.shape"
   ]
  },
  {
   "cell_type": "markdown",
   "metadata": {},
   "source": [
    "# Using architecture having convolutional layer on top of the LSTM layer along with the globe word embeddings(Accuracy = 67.81%)"
   ]
  },
  {
   "cell_type": "code",
   "execution_count": 38,
   "metadata": {},
   "outputs": [
    {
     "name": "stdout",
     "output_type": "stream",
     "text": [
      "model fitting - CNN-LSTM convolutional neural network with globe word embeddings\n",
      "_________________________________________________________________\n",
      "Layer (type)                 Output Shape              Param #   \n",
      "=================================================================\n",
      "embedding_4 (Embedding)      (None, 50, 100)           2000000   \n",
      "_________________________________________________________________\n",
      "dropout_4 (Dropout)          (None, 50, 100)           0         \n",
      "_________________________________________________________________\n",
      "conv1d_6 (Conv1D)            (None, 46, 64)            32064     \n",
      "_________________________________________________________________\n",
      "max_pooling1d_6 (MaxPooling1 (None, 11, 64)            0         \n",
      "_________________________________________________________________\n",
      "lstm_3 (LSTM)                (None, 100)               66000     \n",
      "_________________________________________________________________\n",
      "dense_5 (Dense)              (None, 5)                 505       \n",
      "=================================================================\n",
      "Total params: 2,098,569\n",
      "Trainable params: 98,569\n",
      "Non-trainable params: 2,000,000\n",
      "_________________________________________________________________\n",
      "Train on 2727 samples, validate on 909 samples\n",
      "Epoch 1/10\n",
      "2727/2727 [==============================] - 6s 2ms/step - loss: 1.2265 - acc: 0.4543 - val_loss: 0.8641 - val_acc: 0.6315\n",
      "Epoch 2/10\n",
      "2727/2727 [==============================] - 3s 1ms/step - loss: 0.7860 - acc: 0.6458 - val_loss: 0.7965 - val_acc: 0.6326\n",
      "Epoch 3/10\n",
      "2727/2727 [==============================] - 3s 1ms/step - loss: 0.6935 - acc: 0.6883 - val_loss: 0.7302 - val_acc: 0.6667\n",
      "Epoch 4/10\n",
      "2727/2727 [==============================] - 3s 1ms/step - loss: 0.6389 - acc: 0.7195 - val_loss: 0.7871 - val_acc: 0.6480\n",
      "Epoch 5/10\n",
      "2727/2727 [==============================] - 3s 1ms/step - loss: 0.5851 - acc: 0.7495 - val_loss: 0.7337 - val_acc: 0.6447\n",
      "Epoch 6/10\n",
      "2727/2727 [==============================] - 3s 1ms/step - loss: 0.5362 - acc: 0.7627 - val_loss: 0.6893 - val_acc: 0.6788\n",
      "Epoch 7/10\n",
      "2727/2727 [==============================] - 3s 1ms/step - loss: 0.4935 - acc: 0.7943 - val_loss: 0.7300 - val_acc: 0.6755\n",
      "Epoch 8/10\n",
      "2727/2727 [==============================] - 3s 1ms/step - loss: 0.4278 - acc: 0.8354 - val_loss: 0.7087 - val_acc: 0.6755\n",
      "Epoch 9/10\n",
      "2727/2727 [==============================] - 3s 1ms/step - loss: 0.3585 - acc: 0.8592 - val_loss: 0.7650 - val_acc: 0.6854\n",
      "Epoch 10/10\n",
      "2727/2727 [==============================] - 3s 1ms/step - loss: 0.2881 - acc: 0.8893 - val_loss: 0.8374 - val_acc: 0.6788\n"
     ]
    }
   ],
   "source": [
    "# Un-comment the below mentioned code to train your model\n",
    "\n",
    "# Configuring the neural network\n",
    "\"\"\"model_glove = Sequential()\n",
    "model_glove.add(Embedding(vocabulary_size, 100, input_length=50, weights=[embedding_matrix], trainable=False))\n",
    "model_glove.add(Dropout(0.2))\n",
    "model_glove.add(Conv1D(64, 5, activation='relu'))\n",
    "model_glove.add(MaxPooling1D(pool_size=4))\n",
    "model_glove.add(LSTM(100))\n",
    "model_glove.add(Dense(y_train.shape[1], activation='softmax'))\n",
    "model_glove.compile(loss='categorical_crossentropy', optimizer='adam', metrics=['accuracy'])\n",
    "print(\"model fitting - CNN-LSTM convolutional neural network with globe word embeddings\")\n",
    "model_glove.summary()\n",
    "# Training the model\n",
    "model_glove.fit(X_train, y_train,validation_data=(X_test,y_test),epochs=10)\n",
    "# Saving the model\n",
    "model_glove.save(\"lstm_cnn_globe.h5\")\"\"\""
   ]
  },
  {
   "cell_type": "code",
   "execution_count": 39,
   "metadata": {},
   "outputs": [],
   "source": [
    "# Loading the pre-trained model\n",
    "model_glove_lstm_cnn = load_model(\"lstm_cnn_globe.h5\")"
   ]
  },
  {
   "cell_type": "code",
   "execution_count": 40,
   "metadata": {},
   "outputs": [
    {
     "name": "stdout",
     "output_type": "stream",
     "text": [
      "Accuracy: 67.88%\n"
     ]
    }
   ],
   "source": [
    "# Checking the accuracy\n",
    "accuracy_model_glove_lstm_cnn = model_glove_lstm_cnn.evaluate(X_test, y_test, verbose=0)\n",
    "print(\"Accuracy: %.2f%%\" % (accuracy_model_glove_lstm_cnn[1]*100))"
   ]
  },
  {
   "cell_type": "code",
   "execution_count": 368,
   "metadata": {},
   "outputs": [],
   "source": [
    "# Making predictions in terms of probabilities for each class\n",
    "prediction_model_glove_lstm_cnn = model_glove_lstm_cnn.predict(X_test,batch_size=10,verbose=0)"
   ]
  },
  {
   "cell_type": "code",
   "execution_count": 369,
   "metadata": {},
   "outputs": [
    {
     "data": {
      "text/plain": [
       "array([[6.4526103e-05, 5.5318833e-05, 1.1670993e-04, 1.0535414e-01,\n",
       "        8.9440936e-01],\n",
       "       [4.2728370e-04, 4.6679538e-04, 2.5911184e-03, 3.9599203e-03,\n",
       "        9.9255484e-01],\n",
       "       [6.4526103e-05, 5.5318833e-05, 1.1670993e-04, 1.0535414e-01,\n",
       "        8.9440936e-01],\n",
       "       ...,\n",
       "       [6.4526044e-05, 5.5318833e-05, 1.1670993e-04, 1.0535414e-01,\n",
       "        8.9440936e-01],\n",
       "       [6.4526044e-05, 5.5318833e-05, 1.1670993e-04, 1.0535414e-01,\n",
       "        8.9440936e-01],\n",
       "       [6.4526044e-05, 5.5318833e-05, 1.1670993e-04, 1.0535414e-01,\n",
       "        8.9440936e-01]], dtype=float32)"
      ]
     },
     "execution_count": 369,
     "metadata": {},
     "output_type": "execute_result"
    }
   ],
   "source": [
    "prediction_model_glove_lstm_cnn"
   ]
  },
  {
   "cell_type": "markdown",
   "metadata": {},
   "source": [
    "# Word embedding visialization"
   ]
  },
  {
   "cell_type": "code",
   "execution_count": 41,
   "metadata": {},
   "outputs": [],
   "source": [
    "# Get embedding weights\n",
    "cnn_embds = model_cnn.layers[0].get_weights()[0]\n",
    "lstm_embds = model_lstm.layers[0].get_weights()[0]\n",
    "conv_embds = model_conv.layers[0].get_weights()[0]\n",
    "glove_emds = model_glove.layers[0].get_weights()[0]"
   ]
  },
  {
   "cell_type": "code",
   "execution_count": 42,
   "metadata": {},
   "outputs": [],
   "source": [
    "# Creating word list\n",
    "word_list = []\n",
    "for word, i in tokenizer.word_index.items():\n",
    "    word_list.append(word)"
   ]
  },
  {
   "cell_type": "code",
   "execution_count": 43,
   "metadata": {},
   "outputs": [],
   "source": [
    "# Scatter plot of first two components of TSNE(t-distributed stochastic neighbor embedding)\n",
    "def plot_words(data, start, stop, step):\n",
    "    trace = go.Scatter(\n",
    "        x = data[start:stop:step,0], \n",
    "        y = data[start:stop:step, 1],\n",
    "        mode = 'markers',\n",
    "        text= word_list[start:stop:step]\n",
    "    )\n",
    "    layout = dict(title= 't-SNE 1 vs t-SNE 2',\n",
    "                  yaxis = dict(title='t-SNE 2'),\n",
    "                  xaxis = dict(title='t-SNE 1'),\n",
    "                  hovermode= 'closest')\n",
    "    fig = dict(data = [trace], layout= layout)\n",
    "    py.iplot(fig)"
   ]
  },
  {
   "cell_type": "code",
   "execution_count": 44,
   "metadata": {},
   "outputs": [
    {
     "ename": "KeyboardInterrupt",
     "evalue": "",
     "output_type": "error",
     "traceback": [
      "\u001b[0;31m---------------------------------------------------------------------------\u001b[0m",
      "\u001b[0;31mKeyboardInterrupt\u001b[0m                         Traceback (most recent call last)",
      "\u001b[0;32m<ipython-input-44-3be0c75d3999>\u001b[0m in \u001b[0;36m<module>\u001b[0;34m()\u001b[0m\n\u001b[1;32m      1\u001b[0m \u001b[0;31m# CNN\u001b[0m\u001b[0;34m\u001b[0m\u001b[0;34m\u001b[0m\u001b[0m\n\u001b[0;32m----> 2\u001b[0;31m \u001b[0mcnn_tsne_embds\u001b[0m \u001b[0;34m=\u001b[0m \u001b[0mTSNE\u001b[0m\u001b[0;34m(\u001b[0m\u001b[0mn_components\u001b[0m\u001b[0;34m=\u001b[0m\u001b[0;36m2\u001b[0m\u001b[0;34m)\u001b[0m\u001b[0;34m.\u001b[0m\u001b[0mfit_transform\u001b[0m\u001b[0;34m(\u001b[0m\u001b[0mcnn_embds\u001b[0m\u001b[0;34m)\u001b[0m\u001b[0;34m\u001b[0m\u001b[0m\n\u001b[0m\u001b[1;32m      3\u001b[0m \u001b[0mplot_words\u001b[0m\u001b[0;34m(\u001b[0m\u001b[0mcnn_tsne_embds\u001b[0m\u001b[0;34m,\u001b[0m \u001b[0;36m0\u001b[0m\u001b[0;34m,\u001b[0m \u001b[0;36m2000\u001b[0m\u001b[0;34m,\u001b[0m \u001b[0;36m1\u001b[0m\u001b[0;34m)\u001b[0m\u001b[0;34m\u001b[0m\u001b[0m\n",
      "\u001b[0;32m~/anaconda3/lib/python3.6/site-packages/sklearn/manifold/t_sne.py\u001b[0m in \u001b[0;36mfit_transform\u001b[0;34m(self, X, y)\u001b[0m\n\u001b[1;32m    856\u001b[0m             \u001b[0mEmbedding\u001b[0m \u001b[0mof\u001b[0m \u001b[0mthe\u001b[0m \u001b[0mtraining\u001b[0m \u001b[0mdata\u001b[0m \u001b[0;32min\u001b[0m \u001b[0mlow\u001b[0m\u001b[0;34m-\u001b[0m\u001b[0mdimensional\u001b[0m \u001b[0mspace\u001b[0m\u001b[0;34m.\u001b[0m\u001b[0;34m\u001b[0m\u001b[0m\n\u001b[1;32m    857\u001b[0m         \"\"\"\n\u001b[0;32m--> 858\u001b[0;31m         \u001b[0membedding\u001b[0m \u001b[0;34m=\u001b[0m \u001b[0mself\u001b[0m\u001b[0;34m.\u001b[0m\u001b[0m_fit\u001b[0m\u001b[0;34m(\u001b[0m\u001b[0mX\u001b[0m\u001b[0;34m)\u001b[0m\u001b[0;34m\u001b[0m\u001b[0m\n\u001b[0m\u001b[1;32m    859\u001b[0m         \u001b[0mself\u001b[0m\u001b[0;34m.\u001b[0m\u001b[0membedding_\u001b[0m \u001b[0;34m=\u001b[0m \u001b[0membedding\u001b[0m\u001b[0;34m\u001b[0m\u001b[0m\n\u001b[1;32m    860\u001b[0m         \u001b[0;32mreturn\u001b[0m \u001b[0mself\u001b[0m\u001b[0;34m.\u001b[0m\u001b[0membedding_\u001b[0m\u001b[0;34m\u001b[0m\u001b[0m\n",
      "\u001b[0;32m~/anaconda3/lib/python3.6/site-packages/sklearn/manifold/t_sne.py\u001b[0m in \u001b[0;36m_fit\u001b[0;34m(self, X, skip_num_points)\u001b[0m\n\u001b[1;32m    768\u001b[0m                           \u001b[0mX_embedded\u001b[0m\u001b[0;34m=\u001b[0m\u001b[0mX_embedded\u001b[0m\u001b[0;34m,\u001b[0m\u001b[0;34m\u001b[0m\u001b[0m\n\u001b[1;32m    769\u001b[0m                           \u001b[0mneighbors\u001b[0m\u001b[0;34m=\u001b[0m\u001b[0mneighbors_nn\u001b[0m\u001b[0;34m,\u001b[0m\u001b[0;34m\u001b[0m\u001b[0m\n\u001b[0;32m--> 770\u001b[0;31m                           skip_num_points=skip_num_points)\n\u001b[0m\u001b[1;32m    771\u001b[0m \u001b[0;34m\u001b[0m\u001b[0m\n\u001b[1;32m    772\u001b[0m     \u001b[0;34m@\u001b[0m\u001b[0mproperty\u001b[0m\u001b[0;34m\u001b[0m\u001b[0m\n",
      "\u001b[0;32m~/anaconda3/lib/python3.6/site-packages/sklearn/manifold/t_sne.py\u001b[0m in \u001b[0;36m_tsne\u001b[0;34m(self, P, degrees_of_freedom, n_samples, X_embedded, neighbors, skip_num_points)\u001b[0m\n\u001b[1;32m    825\u001b[0m             \u001b[0mopt_args\u001b[0m\u001b[0;34m[\u001b[0m\u001b[0;34m'n_iter_without_progress'\u001b[0m\u001b[0;34m]\u001b[0m \u001b[0;34m=\u001b[0m \u001b[0mself\u001b[0m\u001b[0;34m.\u001b[0m\u001b[0mn_iter_without_progress\u001b[0m\u001b[0;34m\u001b[0m\u001b[0m\n\u001b[1;32m    826\u001b[0m             params, kl_divergence, it = _gradient_descent(obj_func, params,\n\u001b[0;32m--> 827\u001b[0;31m                                                           **opt_args)\n\u001b[0m\u001b[1;32m    828\u001b[0m \u001b[0;34m\u001b[0m\u001b[0m\n\u001b[1;32m    829\u001b[0m         \u001b[0;31m# Save the final number of iterations\u001b[0m\u001b[0;34m\u001b[0m\u001b[0;34m\u001b[0m\u001b[0m\n",
      "\u001b[0;32m~/anaconda3/lib/python3.6/site-packages/sklearn/manifold/t_sne.py\u001b[0m in \u001b[0;36m_gradient_descent\u001b[0;34m(objective, p0, it, n_iter, n_iter_check, n_iter_without_progress, momentum, learning_rate, min_gain, min_grad_norm, verbose, args, kwargs)\u001b[0m\n\u001b[1;32m    337\u001b[0m     \u001b[0mtic\u001b[0m \u001b[0;34m=\u001b[0m \u001b[0mtime\u001b[0m\u001b[0;34m(\u001b[0m\u001b[0;34m)\u001b[0m\u001b[0;34m\u001b[0m\u001b[0m\n\u001b[1;32m    338\u001b[0m     \u001b[0;32mfor\u001b[0m \u001b[0mi\u001b[0m \u001b[0;32min\u001b[0m \u001b[0mrange\u001b[0m\u001b[0;34m(\u001b[0m\u001b[0mit\u001b[0m\u001b[0;34m,\u001b[0m \u001b[0mn_iter\u001b[0m\u001b[0;34m)\u001b[0m\u001b[0;34m:\u001b[0m\u001b[0;34m\u001b[0m\u001b[0m\n\u001b[0;32m--> 339\u001b[0;31m         \u001b[0merror\u001b[0m\u001b[0;34m,\u001b[0m \u001b[0mgrad\u001b[0m \u001b[0;34m=\u001b[0m \u001b[0mobjective\u001b[0m\u001b[0;34m(\u001b[0m\u001b[0mp\u001b[0m\u001b[0;34m,\u001b[0m \u001b[0;34m*\u001b[0m\u001b[0margs\u001b[0m\u001b[0;34m,\u001b[0m \u001b[0;34m**\u001b[0m\u001b[0mkwargs\u001b[0m\u001b[0;34m)\u001b[0m\u001b[0;34m\u001b[0m\u001b[0m\n\u001b[0m\u001b[1;32m    340\u001b[0m         \u001b[0mgrad_norm\u001b[0m \u001b[0;34m=\u001b[0m \u001b[0mlinalg\u001b[0m\u001b[0;34m.\u001b[0m\u001b[0mnorm\u001b[0m\u001b[0;34m(\u001b[0m\u001b[0mgrad\u001b[0m\u001b[0;34m)\u001b[0m\u001b[0;34m\u001b[0m\u001b[0m\n\u001b[1;32m    341\u001b[0m \u001b[0;34m\u001b[0m\u001b[0m\n",
      "\u001b[0;32m~/anaconda3/lib/python3.6/site-packages/sklearn/manifold/t_sne.py\u001b[0m in \u001b[0;36m_kl_divergence_bh\u001b[0;34m(params, P, degrees_of_freedom, n_samples, n_components, angle, skip_num_points, verbose)\u001b[0m\n\u001b[1;32m    245\u001b[0m     error = _barnes_hut_tsne.gradient(val_P, X_embedded, neighbors, indptr,\n\u001b[1;32m    246\u001b[0m                                       \u001b[0mgrad\u001b[0m\u001b[0;34m,\u001b[0m \u001b[0mangle\u001b[0m\u001b[0;34m,\u001b[0m \u001b[0mn_components\u001b[0m\u001b[0;34m,\u001b[0m \u001b[0mverbose\u001b[0m\u001b[0;34m,\u001b[0m\u001b[0;34m\u001b[0m\u001b[0m\n\u001b[0;32m--> 247\u001b[0;31m                                       dof=degrees_of_freedom)\n\u001b[0m\u001b[1;32m    248\u001b[0m     \u001b[0mc\u001b[0m \u001b[0;34m=\u001b[0m \u001b[0;36m2.0\u001b[0m \u001b[0;34m*\u001b[0m \u001b[0;34m(\u001b[0m\u001b[0mdegrees_of_freedom\u001b[0m \u001b[0;34m+\u001b[0m \u001b[0;36m1.0\u001b[0m\u001b[0;34m)\u001b[0m \u001b[0;34m/\u001b[0m \u001b[0mdegrees_of_freedom\u001b[0m\u001b[0;34m\u001b[0m\u001b[0m\n\u001b[1;32m    249\u001b[0m     \u001b[0mgrad\u001b[0m \u001b[0;34m=\u001b[0m \u001b[0mgrad\u001b[0m\u001b[0;34m.\u001b[0m\u001b[0mravel\u001b[0m\u001b[0;34m(\u001b[0m\u001b[0;34m)\u001b[0m\u001b[0;34m\u001b[0m\u001b[0m\n",
      "\u001b[0;31mKeyboardInterrupt\u001b[0m: "
     ]
    }
   ],
   "source": [
    "# CNN\n",
    "cnn_tsne_embds = TSNE(n_components=2).fit_transform(cnn_embds)\n",
    "plot_words(cnn_tsne_embds, 0, 2000, 1)"
   ]
  },
  {
   "cell_type": "code",
   "execution_count": null,
   "metadata": {},
   "outputs": [],
   "source": [
    "# LSTM\n",
    "lstm_tsne_embds = TSNE(n_components=2).fit_transform(lstm_embds)\n",
    "plot_words(lstm_tsne_embds, 0, 2000, 1)"
   ]
  },
  {
   "cell_type": "code",
   "execution_count": null,
   "metadata": {},
   "outputs": [],
   "source": [
    "# CNN + LSTM\n",
    "conv_tsne_embds = TSNE(n_components=2).fit_transform(conv_embds)\n",
    "plot_words(conv_tsne_embds, 0, 2000, 1)"
   ]
  },
  {
   "cell_type": "code",
   "execution_count": null,
   "metadata": {},
   "outputs": [],
   "source": [
    "# CNN + LSTM + GLOVE\n",
    "glove_tsne_embds = TSNE(n_components=2).fit_transform(glove_emds)\n",
    "plot_words(glove_tsne_embds, 0, 2000, 1)"
   ]
  },
  {
   "cell_type": "markdown",
   "metadata": {},
   "source": [
    "# Training on geo data and predicting dw data using LSTM network(Accuracy = 55.52%)"
   ]
  },
  {
   "cell_type": "code",
   "execution_count": 63,
   "metadata": {},
   "outputs": [],
   "source": [
    "# Cleaning the text data\n",
    "def clean_text(text):\n",
    "    \"\"\"\n",
    "    Takes an input as a text in string format along and clean it.\n",
    "    \"\"\"\n",
    "    \n",
    "    ## Remove puncuation\n",
    "    text = text.translate(string.punctuation)\n",
    "    \n",
    "    ## Convert words to lower case and split them\n",
    "    text = text.lower().split()\n",
    "    \n",
    "    ## Remove stop words\n",
    "    stops = set(stopwords.words(\"german\"))\n",
    "    text = [w for w in text if not w in stops and len(w) >= 3]\n",
    "    text = \" \".join(text)\n",
    "\n",
    "    # Clean the text\n",
    "    text = re.sub(r\"[^A-Za-z0-9^,!.\\/'+-=]\", \" \", text)  \n",
    "    text = text.split()\n",
    "    stemmer = SnowballStemmer('german')\n",
    "    stemmed_words = [stemmer.stem(word) for word in text]\n",
    "    text = \" \".join(stemmed_words)\n",
    "\n",
    "    return text"
   ]
  },
  {
   "cell_type": "code",
   "execution_count": 64,
   "metadata": {},
   "outputs": [],
   "source": [
    "def preprocess_data(corpus):\n",
    "    \"\"\"\n",
    "    Takes an input as corpus name in string format along with its relative directory path.\n",
    "    \"\"\"\n",
    "    # Loading dataset\n",
    "    df = pd.read_hdf(corpus,\"text_df\")[['text','y']]\n",
    "    # Dropping null values\n",
    "    df.dropna(inplace=True)\n",
    "    # Converting class labels to int dtype\n",
    "    df['y'] = df['y'].astype(int)\n",
    "    print(\"Shape of the dataset:\",df.shape)\n",
    "    df['text'] = df['text'].map(lambda x: clean_text(x))\n",
    "    print(\"Dataset:\",df.head())\n",
    "    return df"
   ]
  },
  {
   "cell_type": "code",
   "execution_count": 65,
   "metadata": {},
   "outputs": [],
   "source": [
    "def tokenize_sequence(df,vocabulary_size = 20000):\n",
    "    \"\"\"\n",
    "    Takes the dataframe, and returns the tokenized-sequenced features and labels.\n",
    "    \"\"\"\n",
    "    # Because of the computational expenses, I am using the top 20000 unique words. \n",
    "    # At first, the text is tokenized and then convert those into sequences. \n",
    "    # I have kept 50 words to limit the number of words in each comment.\n",
    "\n",
    "    # Initializing Tokenizer from keras\n",
    "    tokenizer = Tokenizer(nb_words=vocabulary_size)\n",
    "    # Fitting text on the tokenizer\n",
    "    tokenizer.fit_on_texts(df['text'])\n",
    "    # Converting text to sequence\n",
    "    sequences = tokenizer.texts_to_sequences(df['text'])\n",
    "\n",
    "    # Finding unique tokenizer\n",
    "    word_index = tokenizer.word_index\n",
    "    print('Found %s unique tokens.' % len(word_index))\n",
    "\n",
    "    # Padding sequences to the length of MAX_SEQUENCE_LENGTH\n",
    "    data = pad_sequences(sequences, maxlen=50)\n",
    "    labels = df['y']\n",
    "    \n",
    "    #performing one hot encoding on the labels\n",
    "    labels = to_categorical(np.asarray(labels))\n",
    "\n",
    "    return data,labels"
   ]
  },
  {
   "cell_type": "code",
   "execution_count": 66,
   "metadata": {},
   "outputs": [],
   "source": [
    "def split_data(corpus1_data,corpus1_labels,corpus2_data,corpus2_labels):\n",
    "    \"\"\"\n",
    "    Takes the labels and data from both the corpuses and considers the first corpus as the training corpus and \n",
    "    the second one as the testing corpus.\n",
    "    \"\"\"\n",
    "    \n",
    "    # Getting the labels and features data\n",
    "    print('Shape of Corpus1 data tensor:', corpus1_data.shape)\n",
    "    print('Shape of Corpus1 label tensor:', corpus1_labels.shape)\n",
    "    \n",
    "    print('Shape of Corpus2 data tensor:', corpus2_data.shape)\n",
    "    print('Shape of Corpus2 label tensor:', corpus2_labels.shape)\n",
    "\n",
    "\n",
    "    X_train = corpus1_data\n",
    "    y_train = corpus1_labels\n",
    "    X_test = corpus2_data\n",
    "    y_test = corpus2_labels\n",
    "    \n",
    "    return X_train,y_train,X_test,y_test"
   ]
  },
  {
   "cell_type": "code",
   "execution_count": 67,
   "metadata": {},
   "outputs": [
    {
     "name": "stdout",
     "output_type": "stream",
     "text": [
      "Shape of the dataset: (2130, 2)\n",
      "Dataset:                                                 text  y\n",
      "0  kologie: dauerleck nordsee. seit jahr sprudelt...  1\n",
      "1  fischzug tiefe. herb vergang jahr brach polars...  1\n",
      "2  artikel 14.2.2004. landwirtschaft: geplatzt ge...  1\n",
      "3  artikel 28.8.2006. planet verschwind l sst ast...  1\n",
      "4  artikel 20.12.2010. verspielt seel wen igelf s...  1\n",
      "Found 77216 unique tokens.\n",
      "Shape of the dataset: (7814, 2)\n",
      "Dataset:                                                 text  y\n",
      "0  us-pr sident barack obama 250 zus tzlich solda...  1\n",
      "1  us-pr sident barack obama montag seit kanzleri...  1\n",
      "2  rechtspopulist fp bundespr sidentenwahl sterre...  1\n",
      "3  deutschland zahl fl chtling maghreb-staat alge...  1\n",
      "4  beid abgeschlag pr sidentschaftskandidat us-re...  1\n",
      "Found 49565 unique tokens.\n"
     ]
    }
   ],
   "source": [
    "# Loading and preprocessing data\n",
    "geo_df = preprocess_data(\"geo.h5\")\n",
    "geo_data,geo_labels = tokenize_sequence(geo_df)\n",
    "\n",
    "dw_df = preprocess_data(\"dw.hdf5\")\n",
    "dw_data,dw_labels = tokenize_sequence(dw_df)"
   ]
  },
  {
   "cell_type": "code",
   "execution_count": 50,
   "metadata": {},
   "outputs": [
    {
     "name": "stdout",
     "output_type": "stream",
     "text": [
      "Shape of Corpus1 data tensor: (2130, 50)\n",
      "Shape of Corpus1 label tensor: (2130, 2)\n",
      "Shape of Corpus2 data tensor: (7814, 50)\n",
      "Shape of Corpus2 label tensor: (7814, 2)\n"
     ]
    }
   ],
   "source": [
    "# Splitting dataset into train and test corpus\n",
    "X_train,y_train,X_test,y_test = split_data(geo_data,geo_labels,dw_data,dw_labels)"
   ]
  },
  {
   "cell_type": "code",
   "execution_count": 51,
   "metadata": {},
   "outputs": [
    {
     "name": "stdout",
     "output_type": "stream",
     "text": [
      "model fitting - LSTM network\n",
      "_________________________________________________________________\n",
      "Layer (type)                 Output Shape              Param #   \n",
      "=================================================================\n",
      "embedding_5 (Embedding)      (None, 50, 100)           2000000   \n",
      "_________________________________________________________________\n",
      "lstm_4 (LSTM)                (None, 100)               80400     \n",
      "_________________________________________________________________\n",
      "dense_6 (Dense)              (None, 2)                 202       \n",
      "=================================================================\n",
      "Total params: 2,080,602\n",
      "Trainable params: 2,080,602\n",
      "Non-trainable params: 0\n",
      "_________________________________________________________________\n",
      "Train on 2130 samples, validate on 7814 samples\n",
      "Epoch 1/10\n",
      "2130/2130 [==============================] - 16s 8ms/step - loss: 0.4606 - acc: 0.7991 - val_loss: 0.6780 - val_acc: 0.5997\n",
      "Epoch 2/10\n",
      "2130/2130 [==============================] - 14s 7ms/step - loss: 0.1615 - acc: 0.9488 - val_loss: 0.7728 - val_acc: 0.5930\n",
      "Epoch 3/10\n",
      "2130/2130 [==============================] - 12s 6ms/step - loss: 0.0579 - acc: 0.9831 - val_loss: 0.9430 - val_acc: 0.6097\n",
      "Epoch 4/10\n",
      "2130/2130 [==============================] - 13s 6ms/step - loss: 0.0335 - acc: 0.9934 - val_loss: 1.2056 - val_acc: 0.5854\n",
      "Epoch 5/10\n",
      "2130/2130 [==============================] - 13s 6ms/step - loss: 0.0133 - acc: 0.9967 - val_loss: 2.7487 - val_acc: 0.5136\n",
      "Epoch 6/10\n",
      "2130/2130 [==============================] - 14s 7ms/step - loss: 0.0125 - acc: 0.9972 - val_loss: 3.1279 - val_acc: 0.5110\n",
      "Epoch 7/10\n",
      "2130/2130 [==============================] - 14s 7ms/step - loss: 0.0129 - acc: 0.9977 - val_loss: 2.1539 - val_acc: 0.5312\n",
      "Epoch 8/10\n",
      "2130/2130 [==============================] - 14s 7ms/step - loss: 0.0061 - acc: 0.9991 - val_loss: 3.2454 - val_acc: 0.5660\n",
      "Epoch 9/10\n",
      "2130/2130 [==============================] - 14s 7ms/step - loss: 0.0094 - acc: 0.9991 - val_loss: 4.2136 - val_acc: 0.4950\n",
      "Epoch 10/10\n",
      "2130/2130 [==============================] - 16s 8ms/step - loss: 0.0121 - acc: 0.9977 - val_loss: 2.5514 - val_acc: 0.5572\n"
     ]
    }
   ],
   "source": [
    "# Un-comment the below mentioned code to train your model\n",
    "\n",
    "\"\"\"# Configuring the neural network\n",
    "model_lstm  = Sequential()\n",
    "model_lstm.add(Embedding(vocabulary_size, 100, input_length=50))\n",
    "model_lstm.add(LSTM(100, dropout=0.2, recurrent_dropout=0.2))\n",
    "model_lstm.add(Dense(y_train.shape[1], activation='softmax'))\n",
    "model_lstm.compile(loss='categorical_crossentropy', optimizer='rmsprop', metrics=['accuracy'])\n",
    "print(\"model fitting - LSTM network\")\n",
    "model_lstm.summary()\n",
    "# Training the model\n",
    "model_lstm.fit(X_train,y_train,validation_data=(X_test, y_test),epochs=10)\n",
    "# Saving the model\n",
    "model_lstm.save(\"split_simple_geo_dw_lstm.h5\")\"\"\""
   ]
  },
  {
   "cell_type": "code",
   "execution_count": 140,
   "metadata": {},
   "outputs": [],
   "source": [
    "# Loading the pre-trained model\n",
    "model_lstm = load_model(\"split_simple_geo_dw_lstm.h5\")"
   ]
  },
  {
   "cell_type": "code",
   "execution_count": 141,
   "metadata": {},
   "outputs": [
    {
     "name": "stdout",
     "output_type": "stream",
     "text": [
      "Accuracy: 50.44%\n"
     ]
    }
   ],
   "source": [
    "# Checking the accuracy\n",
    "accuracy_model_lstm = model_lstm.evaluate(X_test, y_test, verbose=0)\n",
    "print(\"Accuracy: %.2f%%\" % (accuracy_model_lstm[1]*100))"
   ]
  },
  {
   "cell_type": "code",
   "execution_count": 142,
   "metadata": {},
   "outputs": [
    {
     "name": "stdout",
     "output_type": "stream",
     "text": [
      "class labels from the corpora: [1 0]\n"
     ]
    }
   ],
   "source": [
    "# Making predictions in terms of probabilities for each class\n",
    "prediction_simple_lstm = model_lstm.predict(X_test,batch_size=10,verbose=0)\n",
    "unique_class_labels = geo_df['y'].unique()\n",
    "print(\"class labels from the corpora:\",unique_class_labels)"
   ]
  },
  {
   "cell_type": "code",
   "execution_count": 143,
   "metadata": {},
   "outputs": [
    {
     "data": {
      "text/plain": [
       "array([[1.4964282e-03, 9.9850357e-01],\n",
       "       [6.3805408e-03, 9.9361938e-01],\n",
       "       [8.3556676e-01, 1.6443324e-01],\n",
       "       ...,\n",
       "       [8.8704962e-01, 1.1295045e-01],\n",
       "       [8.9980429e-04, 9.9910021e-01],\n",
       "       [9.9916077e-01, 8.3924638e-04]], dtype=float32)"
      ]
     },
     "execution_count": 143,
     "metadata": {},
     "output_type": "execute_result"
    }
   ],
   "source": [
    "prediction_simple_lstm"
   ]
  },
  {
   "cell_type": "code",
   "execution_count": 144,
   "metadata": {},
   "outputs": [
    {
     "name": "stdout",
     "output_type": "stream",
     "text": [
      "Probability distribution LSTM predictions:\n"
     ]
    },
    {
     "data": {
      "image/png": "[encoded data removed]",
      "text/plain": [
       "<matplotlib.figure.Figure at 0x7f087d341198>"
      ]
     },
     "metadata": {},
     "output_type": "display_data"
    }
   ],
   "source": [
    "print(\"Probability distribution LSTM predictions:\")\n",
    "plot_histogram(prediction_simple_lstm)"
   ]
  },
  {
   "cell_type": "markdown",
   "metadata": {},
   "source": [
    "# Training on dw data and predicting geo data using LSTM network(Accuracy = 99.99%)"
   ]
  },
  {
   "cell_type": "code",
   "execution_count": 31,
   "metadata": {},
   "outputs": [
    {
     "name": "stdout",
     "output_type": "stream",
     "text": [
      "Shape of Corpus1 data tensor: (7814, 50)\n",
      "Shape of Corpus1 label tensor: (7814, 2)\n",
      "Shape of Corpus2 data tensor: (2130, 50)\n",
      "Shape of Corpus2 label tensor: (2130, 2)\n"
     ]
    }
   ],
   "source": [
    "# Splitting dataset into train and test corpus\n",
    "X_train,y_train,X_test,y_test = split_data(dw_data,dw_labels,geo_data,geo_labels)"
   ]
  },
  {
   "cell_type": "code",
   "execution_count": null,
   "metadata": {},
   "outputs": [],
   "source": [
    "# Un-comment the below mentioned code to train your model\n",
    "\n",
    "\"\"\"# Configuring the neural network\n",
    "model_lstm  = Sequential()\n",
    "model_lstm.add(Embedding(vocabulary_size, 100, input_length=50))\n",
    "model_lstm.add(LSTM(100, dropout=0.2, recurrent_dropout=0.2))\n",
    "model_lstm.add(Dense(y_train.shape[1], activation='softmax'))\n",
    "model_lstm.compile(loss='categorical_crossentropy', optimizer='rmsprop', metrics=['accuracy'])\n",
    "print(\"model fitting - LSTM network\")\n",
    "model_lstm.summary()\n",
    "# Training the model\n",
    "model_lstm.fit(X_train,y_train,validation_data=(X_test, y_test),epochs=10)\n",
    "# Saving the model\n",
    "model_lstm.save(\"split_simple_dw_geo_lstm.h5\")\"\"\""
   ]
  },
  {
   "cell_type": "code",
   "execution_count": 54,
   "metadata": {},
   "outputs": [
    {
     "name": "stdout",
     "output_type": "stream",
     "text": [
      "Accuracy: 99.99%\n"
     ]
    }
   ],
   "source": [
    "# Loading the pre-trained model\n",
    "model_lstm = load_model(\"split_simple_dw_geo_lstm.h5\")\n",
    "\n",
    "# Checking the accuracy\n",
    "accuracy_model_lstm = model_lstm.evaluate(X_test, y_test, verbose=0)\n",
    "print(\"Accuracy: %.2f%%\" % (accuracy_model_lstm[1]*100))\n",
    "\n",
    "# Making predictions in terms of probabilities for each class\n",
    "prediction_simple_lstm = model_lstm.predict(X_test,batch_size=10,verbose=0)# Getting class prbabilities for every text in the corpus\n",
    "\n",
    "class_0,class_1 = ([] for i in range(2))\n",
    "for index,arrays in enumerate(prediction_simple_lstm):\n",
    "    class_0.append(arrays[0])\n",
    "    class_1.append(arrays[1])"
   ]
  },
  {
   "cell_type": "code",
   "execution_count": 145,
   "metadata": {},
   "outputs": [],
   "source": [
    "def plot_histogram(data):\n",
    "    \n",
    "    class_label=dict()\n",
    "    class_label_0,class_label_1 = ([] for i in range(2))\n",
    "    \n",
    "    for arrays in data:\n",
    "        class_label_0.append(arrays[0])\n",
    "        class_label_1.append(arrays[1])\n",
    "    \n",
    "    class_label[0] = class_label_0\n",
    "    class_label[1] = class_label_1\n",
    "    \n",
    "    sns.set_context(\"paper\",font_scale=2)\n",
    "    sns.set_style(\"white\")\n",
    "    fig, ax = plt.subplots(figsize=(7,7),sharey=True)\n",
    "    sns.despine(left=True)\n",
    "    \n",
    "    labels=['class_label_0','class_label_1']\n",
    "    \n",
    "    for i in range(len(labels)):\n",
    "        ax = sns.distplot(class_label[i],kde=False,label=labels[i],bins=20)\n",
    "    \n",
    "    ax.set_xlabel('Texts')\n",
    "    ax.set_ylabel('Probabilities')\n",
    "    ax.get_yaxis().set_visible(False)\n",
    "    ax.legend()\n",
    "    plt.show()"
   ]
  },
  {
   "cell_type": "code",
   "execution_count": 146,
   "metadata": {},
   "outputs": [
    {
     "name": "stdout",
     "output_type": "stream",
     "text": [
      "Probability distribution LSTM predictions:\n"
     ]
    },
    {
     "data": {
      "image/png": "[encoded data removed]",
      "text/plain": [
       "<matplotlib.figure.Figure at 0x7f08666e4898>"
      ]
     },
     "metadata": {},
     "output_type": "display_data"
    }
   ],
   "source": [
    "print(\"Probability distribution LSTM predictions:\")\n",
    "plot_histogram(prediction_simple_lstm)"
   ]
  },
  {
   "cell_type": "markdown",
   "metadata": {},
   "source": [
    "# Performing Transfer learning on Weebit pre-trained Deutsche learnen Corpus(Using LSTM network(accuracy = 97.54%)"
   ]
  },
  {
   "cell_type": "code",
   "execution_count": 136,
   "metadata": {},
   "outputs": [
    {
     "name": "stdout",
     "output_type": "stream",
     "text": [
      "Shape of the dataset: (7814, 2)\n"
     ]
    },
    {
     "data": {
      "text/html": [
       "<div>\n",
       "<style scoped>\n",
       "    .dataframe tbody tr th:only-of-type {\n",
       "        vertical-align: middle;\n",
       "    }\n",
       "\n",
       "    .dataframe tbody tr th {\n",
       "        vertical-align: top;\n",
       "    }\n",
       "\n",
       "    .dataframe thead th {\n",
       "        text-align: right;\n",
       "    }\n",
       "</style>\n",
       "<table border=\"1\" class=\"dataframe\">\n",
       "  <thead>\n",
       "    <tr style=\"text-align: right;\">\n",
       "      <th></th>\n",
       "      <th>text</th>\n",
       "      <th>y</th>\n",
       "    </tr>\n",
       "  </thead>\n",
       "  <tbody>\n",
       "    <tr>\n",
       "      <th>0</th>\n",
       "      <td>US-Präsident Barack Obama will bis zu 250 zusä...</td>\n",
       "      <td>1</td>\n",
       "    </tr>\n",
       "    <tr>\n",
       "      <th>1</th>\n",
       "      <td>US-Präsident Barack Obama wird an diesem Monta...</td>\n",
       "      <td>1</td>\n",
       "    </tr>\n",
       "    <tr>\n",
       "      <th>2</th>\n",
       "      <td>Die rechtspopulistische FPÖ hat bei der Bundes...</td>\n",
       "      <td>1</td>\n",
       "    </tr>\n",
       "    <tr>\n",
       "      <th>3</th>\n",
       "      <td>In Deutschland ist die Zahl der Flüchtlinge au...</td>\n",
       "      <td>1</td>\n",
       "    </tr>\n",
       "    <tr>\n",
       "      <th>4</th>\n",
       "      <td>Die beiden abgeschlagenen Präsidentschaftskand...</td>\n",
       "      <td>1</td>\n",
       "    </tr>\n",
       "  </tbody>\n",
       "</table>\n",
       "</div>"
      ],
      "text/plain": [
       "                                                text  y\n",
       "0  US-Präsident Barack Obama will bis zu 250 zusä...  1\n",
       "1  US-Präsident Barack Obama wird an diesem Monta...  1\n",
       "2  Die rechtspopulistische FPÖ hat bei der Bundes...  1\n",
       "3  In Deutschland ist die Zahl der Flüchtlinge au...  1\n",
       "4  Die beiden abgeschlagenen Präsidentschaftskand...  1"
      ]
     },
     "execution_count": 136,
     "metadata": {},
     "output_type": "execute_result"
    }
   ],
   "source": [
    "# Loading necessary libraries\n",
    "dw_df = pd.read_hdf(\"dw.hdf5\",\"text_df\")[['text','y']]\n",
    "# Dropping null values\n",
    "dw_df.dropna(inplace=True)\n",
    "# Converting class labels to int dtype\n",
    "dw_df['y'] = dw_df['y'].astype(int)\n",
    "print(\"Shape of the dataset:\",dw_df.shape)\n",
    "dw_df.head()"
   ]
  },
  {
   "cell_type": "code",
   "execution_count": 137,
   "metadata": {},
   "outputs": [
    {
     "name": "stdout",
     "output_type": "stream",
     "text": [
      "Found 60833 unique tokens.\n"
     ]
    }
   ],
   "source": [
    "# Because of the computational expenses, I am using the top 20000 unique words. \n",
    "# At first, the text is tokenized and then convert those into sequences. \n",
    "# I have kept 50 words to limit the number of words in each comment.\n",
    "vocabulary_size = 20000\n",
    "\n",
    "# Initializing Tokenizer from keras\n",
    "tokenizer = Tokenizer(num_words= vocabulary_size)\n",
    "# Fitting text on the tokenizer\n",
    "tokenizer.fit_on_texts(dw_df['text'])\n",
    "# Converting text to sequence\n",
    "sequences = tokenizer.texts_to_sequences(dw_df['text'])\n",
    "\n",
    "# Finding unique tokenizer\n",
    "word_index = tokenizer.word_index\n",
    "print('Found %s unique tokens.' % len(word_index))\n",
    "\n",
    "# Padding sequences to the length of MAX_SEQUENCE_LENGTH\n",
    "data = pad_sequences(sequences, maxlen=50)\n",
    "labels = dw_df['y']"
   ]
  },
  {
   "cell_type": "markdown",
   "metadata": {},
   "source": [
    "Visualizing the data"
   ]
  },
  {
   "cell_type": "code",
   "execution_count": 138,
   "metadata": {},
   "outputs": [
    {
     "name": "stdout",
     "output_type": "stream",
     "text": [
      "class labels from the corpora: [1 0]\n",
      "Total no of sentences in the Corpora is 3636\n",
      "No of sentences in class label 1 is 6753\n",
      "No of sentences in class label 0 is 1061\n"
     ]
    },
    {
     "data": {
      "image/png": "[encoded data removed]",
      "text/plain": [
       "<matplotlib.figure.Figure at 0x7f087d30b518>"
      ]
     },
     "metadata": {},
     "output_type": "display_data"
    }
   ],
   "source": [
    "unique_class_labels = dw_df['y'].unique()\n",
    "print(\"class labels from the corpora:\",unique_class_labels)\n",
    "\n",
    "# Used to modify elements of a dictionary\n",
    "class make_dict(dict):\n",
    "    def __getitem__(self, item):\n",
    "        try:\n",
    "            return dict.__getitem__(self, item)\n",
    "        except KeyError:\n",
    "            value = self[item] = type(self)()\n",
    "            return value\n",
    "\n",
    "# Printing the total number of sentences in the corpora\n",
    "print(\"Total no of sentences in the Corpora is\",df.shape[0])\n",
    "# Getting count of sentences for every class\n",
    "count_list = []\n",
    "for class_label in dw_df['y'].unique():\n",
    "    print(\"No of sentences in class label\",str(class_label) + \" is \" + str(dw_df[dw_df['y']==class_label].shape[0]))\n",
    "    count_list.append((str(class_label),int(dw_df[dw_df['y']==class_label].shape[0])))\n",
    "\n",
    "# Getting data into dictionary for plotting\n",
    "no_of_sentence = make_dict()\n",
    "for values in count_list:\n",
    "    no_of_sentence[values[0]] = values[1]\n",
    "\n",
    "plt.bar(list(no_of_sentence.keys()), no_of_sentence.values(), color='g')\n",
    "plt.suptitle(no_of_sentence.keys(), fontsize=10)\n",
    "plt.xlabel('Class labels', fontsize=10)\n",
    "plt.ylabel('No of Sentences', fontsize=10)\n",
    "plt.show()"
   ]
  },
  {
   "cell_type": "markdown",
   "metadata": {},
   "source": [
    "Splitting the training and testing data"
   ]
  },
  {
   "cell_type": "code",
   "execution_count": 139,
   "metadata": {},
   "outputs": [
    {
     "name": "stdout",
     "output_type": "stream",
     "text": [
      "Shape of data tensor: (7814, 50)\n",
      "Shape of label tensor: (7814, 2)\n"
     ]
    }
   ],
   "source": [
    "# Getting the labels and features data\n",
    "labels = to_categorical(np.asarray(labels))\n",
    "print('Shape of data tensor:', data.shape)\n",
    "print('Shape of label tensor:', labels.shape)\n",
    "\n",
    "# Getting the splitting index for training and testing data\n",
    "SPLIT_RATIO = 0.25\n",
    "indices = np.arange(data.shape[0])\n",
    "np.random.shuffle(indices)\n",
    "data = data[indices]\n",
    "labels = labels[indices]\n",
    "validation_samples = int(SPLIT_RATIO * data.shape[0])\n",
    "\n",
    "# Getting the testing and training dataset\n",
    "X_train = data[:-validation_samples]\n",
    "y_train = labels[:-validation_samples]\n",
    "X_test = data[-validation_samples:]\n",
    "y_test = labels[-validation_samples:]"
   ]
  },
  {
   "cell_type": "markdown",
   "metadata": {},
   "source": [
    "Training LSTM model on Deutche lernen corpus"
   ]
  },
  {
   "cell_type": "code",
   "execution_count": 90,
   "metadata": {},
   "outputs": [
    {
     "name": "stdout",
     "output_type": "stream",
     "text": [
      "model fitting - CNN-LSTM convolutional neural network with globe word embeddings\n",
      "_________________________________________________________________\n",
      "Layer (type)                 Output Shape              Param #   \n",
      "=================================================================\n",
      "embedding_6 (Embedding)      (None, 50, 100)           2000000   \n",
      "_________________________________________________________________\n",
      "dropout_5 (Dropout)          (None, 50, 100)           0         \n",
      "_________________________________________________________________\n",
      "conv1d_7 (Conv1D)            (None, 46, 64)            32064     \n",
      "_________________________________________________________________\n",
      "max_pooling1d_7 (MaxPooling1 (None, 11, 64)            0         \n",
      "_________________________________________________________________\n",
      "lstm_5 (LSTM)                (None, 100)               66000     \n",
      "_________________________________________________________________\n",
      "dense_7 (Dense)              (None, 2)                 202       \n",
      "=================================================================\n",
      "Total params: 2,098,266\n",
      "Trainable params: 2,098,266\n",
      "Non-trainable params: 0\n",
      "_________________________________________________________________\n",
      "Train on 5861 samples, validate on 1953 samples\n",
      "Epoch 1/10\n",
      "5861/5861 [==============================] - 18s 3ms/step - loss: 0.2250 - acc: 0.9166 - val_loss: 0.0784 - val_acc: 0.9749\n",
      "Epoch 2/10\n",
      "5861/5861 [==============================] - 15s 2ms/step - loss: 0.0251 - acc: 0.9928 - val_loss: 0.0711 - val_acc: 0.9790\n",
      "Epoch 3/10\n",
      "5861/5861 [==============================] - 15s 3ms/step - loss: 0.0022 - acc: 0.9993 - val_loss: 0.0938 - val_acc: 0.9764\n",
      "Epoch 4/10\n",
      "5861/5861 [==============================] - 15s 3ms/step - loss: 3.3208e-04 - acc: 0.9998 - val_loss: 0.1060 - val_acc: 0.9780\n",
      "Epoch 5/10\n",
      "5861/5861 [==============================] - 15s 3ms/step - loss: 4.1926e-05 - acc: 1.0000 - val_loss: 0.1171 - val_acc: 0.9764\n",
      "Epoch 6/10\n",
      "5861/5861 [==============================] - 15s 2ms/step - loss: 1.8513e-05 - acc: 1.0000 - val_loss: 0.1233 - val_acc: 0.9754\n",
      "Epoch 7/10\n",
      "5861/5861 [==============================] - 15s 3ms/step - loss: 1.8397e-05 - acc: 1.0000 - val_loss: 0.1301 - val_acc: 0.9754\n",
      "Epoch 8/10\n",
      "5861/5861 [==============================] - 15s 2ms/step - loss: 9.3011e-06 - acc: 1.0000 - val_loss: 0.1348 - val_acc: 0.9764\n",
      "Epoch 9/10\n",
      "5861/5861 [==============================] - 15s 3ms/step - loss: 7.1774e-06 - acc: 1.0000 - val_loss: 0.1390 - val_acc: 0.9759\n",
      "Epoch 10/10\n",
      "5861/5861 [==============================] - 15s 3ms/step - loss: 5.8218e-06 - acc: 1.0000 - val_loss: 0.1430 - val_acc: 0.9754\n"
     ]
    }
   ],
   "source": [
    "vocabulary_size = 20000\n",
    "# Configuring the neural network\n",
    "\"\"\"model_transfer = Sequential()\n",
    "model_transfer.add(Embedding(vocabulary_size, 100, input_length=50, weights=[np.array(model_lstm_weights[0])], trainable=True))\n",
    "model_transfer.add(Dropout(0.2))\n",
    "model_transfer.add(Conv1D(64, 5, activation='relu'))\n",
    "model_transfer.add(MaxPooling1D(pool_size=4))\n",
    "model_transfer.add(LSTM(100))\n",
    "model_transfer.add(Dense(2, activation='softmax'))\n",
    "model_transfer.compile(loss='categorical_crossentropy', optimizer='adam', metrics=['accuracy'])\n",
    "print(\"model fitting - CNN-LSTM convolutional neural network with globe word embeddings\")\n",
    "model_transfer.summary()\n",
    "# Training the model\n",
    "model_transfer.fit(X_train, y_train,validation_data=(X_test,y_test),epochs=10)\n",
    "# Saving the model\n",
    "model_transfer.save(\"lstm_cnn_transfer.h5\")\"\"\""
   ]
  },
  {
   "cell_type": "code",
   "execution_count": 91,
   "metadata": {},
   "outputs": [],
   "source": [
    "# Loading the pre-trained model\n",
    "model_transfer = load_model(\"lstm_cnn_transfer.h5\")"
   ]
  },
  {
   "cell_type": "code",
   "execution_count": 92,
   "metadata": {},
   "outputs": [
    {
     "name": "stdout",
     "output_type": "stream",
     "text": [
      "Accuracy: 97.54%\n"
     ]
    }
   ],
   "source": [
    "# Checking the accuracy\n",
    "accuracy_transfer_lstm_cnn = model_transfer.evaluate(X_test, y_test, verbose=0)\n",
    "print(\"Accuracy: %.2f%%\" % (accuracy_transfer_lstm_cnn[1]*100))"
   ]
  },
  {
   "cell_type": "code",
   "execution_count": 93,
   "metadata": {},
   "outputs": [],
   "source": [
    "# Making predictions in terms of probabilities for each class\n",
    "prediction_model_transfer = model_transfer.predict(X_test,batch_size=10,verbose=0)"
   ]
  },
  {
   "cell_type": "code",
   "execution_count": 94,
   "metadata": {},
   "outputs": [
    {
     "data": {
      "text/plain": [
       "array([[1.9359268e-06, 9.9999809e-01],\n",
       "       [2.0006737e-06, 9.9999797e-01],\n",
       "       [1.2755812e-06, 9.9999869e-01],\n",
       "       ...,\n",
       "       [8.3632258e-06, 9.9999166e-01],\n",
       "       [9.9999321e-01, 6.8041945e-06],\n",
       "       [1.1049656e-06, 9.9999893e-01]], dtype=float32)"
      ]
     },
     "execution_count": 94,
     "metadata": {},
     "output_type": "execute_result"
    }
   ],
   "source": [
    "prediction_model_transfer"
   ]
  }
 ],
 "metadata": {
  "kernelspec": {
   "display_name": "Python 3",
   "language": "python",
   "name": "python3"
  },
  "language_info": {
   "codemirror_mode": {
    "name": "ipython",
    "version": 3
   },
   "file_extension": ".py",
   "mimetype": "text/x-python",
   "name": "python",
   "nbconvert_exporter": "python",
   "pygments_lexer": "ipython3",
   "version": "3.6.4"
  }
 },
 "nbformat": 4,
 "nbformat_minor": 2
}
