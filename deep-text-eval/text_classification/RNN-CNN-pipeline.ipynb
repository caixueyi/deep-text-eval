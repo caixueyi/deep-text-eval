{
 "cells": [
  {
   "cell_type": "code",
   "execution_count": 1,
   "metadata": {},
   "outputs": [
    {
     "data": {
      "text/plain": [
       "'\\n! pip install numpy\\n! pip install pandas\\n! pip install nltk\\n! pip install keras\\n! pip install matplotlib\\n! pip install sklearn\\n! pip install plotly\\n! pip install gensim\\n'"
      ]
     },
     "execution_count": 1,
     "metadata": {},
     "output_type": "execute_result"
    }
   ],
   "source": [
    "# Installing dependencies\n",
    "\"\"\"\n",
    "! pip install numpy\n",
    "! pip install pandas\n",
    "! pip install nltk\n",
    "! pip install keras\n",
    "! pip install matplotlib\n",
    "! pip install sklearn\n",
    "! pip install plotly\n",
    "! pip install gensim\n",
    "\"\"\""
   ]
  },
  {
   "cell_type": "code",
   "execution_count": 14,
   "metadata": {},
   "outputs": [
    {
     "data": {
      "text/html": [
       "<script>requirejs.config({paths: { 'plotly': ['https://cdn.plot.ly/plotly-latest.min']},});if(!window.Plotly) {{require(['plotly'],function(plotly) {window.Plotly=plotly;});}}</script>"
      ],
      "text/vnd.plotly.v1+html": [
       "<script>requirejs.config({paths: { 'plotly': ['https://cdn.plot.ly/plotly-latest.min']},});if(!window.Plotly) {{require(['plotly'],function(plotly) {window.Plotly=plotly;});}}</script>"
      ]
     },
     "metadata": {},
     "output_type": "display_data"
    },
    {
     "name": "stdout",
     "output_type": "stream",
     "text": [
      "[nltk_data] Downloading package punkt to /home/vageesh/nltk_data...\n",
      "[nltk_data]   Package punkt is already up-to-date!\n"
     ]
    }
   ],
   "source": [
    "# Importing libraries\n",
    "import re\n",
    "import string\n",
    "import numpy as np\n",
    "import pandas as pd\n",
    "from sklearn.manifold import TSNE\n",
    "\n",
    "import nltk\n",
    "from nltk.corpus import stopwords\n",
    "from nltk.stem import SnowballStemmer\n",
    "\n",
    "import plotly.offline as py\n",
    "import plotly.graph_objs as go\n",
    "py.init_notebook_mode(connected=True)\n",
    "import matplotlib.pyplot as plt\n",
    "from matplotlib import pyplot\n",
    "%matplotlib inline \n",
    "\n",
    "from scipy import stats\n",
    "\n",
    "from keras.preprocessing.text import Tokenizer\n",
    "from keras.preprocessing.sequence import pad_sequences\n",
    "from keras.models import Sequential\n",
    "from keras.layers import Dense, Flatten, LSTM, Conv1D, MaxPooling1D, Dropout, Activation, Input, merge, concatenate\n",
    "from keras.layers.embeddings import Embedding\n",
    "from keras.utils.np_utils import to_categorical\n",
    "from keras.models import Model,load_model\n",
    "\n",
    "from scipy.stats.kde import gaussian_kde\n",
    "from numpy import linspace\n",
    "import inspect\n",
    "\n",
    "from gensim.models import Word2Vec\n",
    "import nltk\n",
    "nltk.download('punkt')\n",
    "\n",
    "import warnings\n",
    "warnings.filterwarnings(\"ignore\")"
   ]
  },
  {
   "cell_type": "markdown",
   "metadata": {},
   "source": [
    "# Pre-processing of data"
   ]
  },
  {
   "cell_type": "code",
   "execution_count": 15,
   "metadata": {},
   "outputs": [
    {
     "name": "stdout",
     "output_type": "stream",
     "text": [
      "Shape of the dataset: (7349, 2)\n"
     ]
    }
   ],
   "source": [
    "# Loading dataset\n",
    "df = pd.read_hdf(\"weebit.h5\",\"text_df\")[['text','y']]\n",
    "# Dropping null values\n",
    "df.dropna(inplace=True)\n",
    "# Converting class labels to int dtype\n",
    "df['y'] = df['y'].astype(int)\n",
    "print(\"Shape of the dataset:\",df.shape)"
   ]
  },
  {
   "cell_type": "code",
   "execution_count": 16,
   "metadata": {},
   "outputs": [],
   "source": [
    "# Cleaning the text data\n",
    "def clean_text(text):\n",
    "    \n",
    "    ## Remove puncuation\n",
    "    text = text.translate(string.punctuation)\n",
    "    \n",
    "    ## Convert words to lower case and split them\n",
    "    text = text.lower().split()\n",
    "    \n",
    "    ## Remove stop words\n",
    "    stops = set(stopwords.words(\"german\"))\n",
    "    text = [w for w in text if not w in stops and len(w) >= 3]\n",
    "    text = \" \".join(text)\n",
    "\n",
    "    # Clean the text\n",
    "    text = re.sub(r\"[^A-Za-z0-9^,!.\\/'+-=]\", \" \", text)  \n",
    "    text = text.split()\n",
    "    stemmer = SnowballStemmer('german')\n",
    "    stemmed_words = [stemmer.stem(word) for word in text]\n",
    "    text = \" \".join(stemmed_words)\n",
    "\n",
    "    return text"
   ]
  },
  {
   "cell_type": "code",
   "execution_count": 17,
   "metadata": {},
   "outputs": [
    {
     "data": {
      "text/html": [
       "<div>\n",
       "<style scoped>\n",
       "    .dataframe tbody tr th:only-of-type {\n",
       "        vertical-align: middle;\n",
       "    }\n",
       "\n",
       "    .dataframe tbody tr th {\n",
       "        vertical-align: top;\n",
       "    }\n",
       "\n",
       "    .dataframe thead th {\n",
       "        text-align: right;\n",
       "    }\n",
       "</style>\n",
       "<table border=\"1\" class=\"dataframe\">\n",
       "  <thead>\n",
       "    <tr style=\"text-align: right;\">\n",
       "      <th></th>\n",
       "      <th>text</th>\n",
       "      <th>y</th>\n",
       "    </tr>\n",
       "  </thead>\n",
       "  <tbody>\n",
       "    <tr>\n",
       "      <th>0</th>\n",
       "      <td>your web brows does not hav javascript switche...</td>\n",
       "      <td>4</td>\n",
       "    </tr>\n",
       "    <tr>\n",
       "      <th>2</th>\n",
       "      <td>the most radical chang styl for women's clothi...</td>\n",
       "      <td>4</td>\n",
       "    </tr>\n",
       "    <tr>\n",
       "      <th>5</th>\n",
       "      <td>'i'v mad out will; i'v left myself'+'i'v mad o...</td>\n",
       "      <td>4</td>\n",
       "    </tr>\n",
       "    <tr>\n",
       "      <th>6</th>\n",
       "      <td>kennedy announc naval blockad cuba. b52 nuclea...</td>\n",
       "      <td>4</td>\n",
       "    </tr>\n",
       "    <tr>\n",
       "      <th>7</th>\n",
       "      <td>compar what jennif and michael said this rol p...</td>\n",
       "      <td>4</td>\n",
       "    </tr>\n",
       "  </tbody>\n",
       "</table>\n",
       "</div>"
      ],
      "text/plain": [
       "                                                text  y\n",
       "0  your web brows does not hav javascript switche...  4\n",
       "2  the most radical chang styl for women's clothi...  4\n",
       "5  'i'v mad out will; i'v left myself'+'i'v mad o...  4\n",
       "6  kennedy announc naval blockad cuba. b52 nuclea...  4\n",
       "7  compar what jennif and michael said this rol p...  4"
      ]
     },
     "execution_count": 17,
     "metadata": {},
     "output_type": "execute_result"
    }
   ],
   "source": [
    "df['text'] = df['text'].map(lambda x: clean_text(x))\n",
    "df.head()"
   ]
  },
  {
   "cell_type": "code",
   "execution_count": 18,
   "metadata": {},
   "outputs": [
    {
     "name": "stdout",
     "output_type": "stream",
     "text": [
      "Found 37271 unique tokens.\n"
     ]
    }
   ],
   "source": [
    "# Because of the computational expenses, I am using the top 20000 unique words. \n",
    "# At first, the text is tokenized and then convert those into sequences. \n",
    "# I have kept 50 words to limit the number of words in each comment.\n",
    "vocabulary_size = 20000\n",
    "\n",
    "# Initializing Tokenizer from keras\n",
    "tokenizer = Tokenizer(num_words= vocabulary_size)\n",
    "# Fitting text on the tokenizer\n",
    "tokenizer.fit_on_texts(df['text'])\n",
    "# Converting text to sequence\n",
    "sequences = tokenizer.texts_to_sequences(df['text'])\n",
    "\n",
    "# Finding unique tokenizer\n",
    "word_index = tokenizer.word_index\n",
    "print('Found %s unique tokens.' % len(word_index))\n",
    "\n",
    "# Padding sequences to the length of MAX_SEQUENCE_LENGTH\n",
    "data = pad_sequences(sequences, maxlen=50)\n",
    "labels = df['y']"
   ]
  },
  {
   "cell_type": "markdown",
   "metadata": {},
   "source": [
    "# Visualizing data"
   ]
  },
  {
   "cell_type": "code",
   "execution_count": 19,
   "metadata": {},
   "outputs": [
    {
     "name": "stdout",
     "output_type": "stream",
     "text": [
      "class labels from the corpora: [4 2 1 0 3]\n"
     ]
    }
   ],
   "source": [
    "unique_class_labels = df['y'].unique()\n",
    "print(\"class labels from the corpora:\",unique_class_labels)"
   ]
  },
  {
   "cell_type": "code",
   "execution_count": 20,
   "metadata": {},
   "outputs": [],
   "source": [
    "# Used to modify elements of a dictionary\n",
    "class make_dict(dict):\n",
    "    def __getitem__(self, item):\n",
    "        try:\n",
    "            return dict.__getitem__(self, item)\n",
    "        except KeyError:\n",
    "            value = self[item] = type(self)()\n",
    "            return value"
   ]
  },
  {
   "cell_type": "code",
   "execution_count": 21,
   "metadata": {},
   "outputs": [
    {
     "name": "stdout",
     "output_type": "stream",
     "text": [
      "Total no of sentences in the Corpora is 7349\n",
      "No of sentences in class label 4 is 4525\n",
      "No of sentences in class label 2 is 798\n",
      "No of sentences in class label 1 is 788\n",
      "No of sentences in class label 0 is 607\n",
      "No of sentences in class label 3 is 631\n"
     ]
    }
   ],
   "source": [
    "# Printing the total number of sentences in the corpora\n",
    "print(\"Total no of sentences in the Corpora is\",df.shape[0])\n",
    "# Getting count of sentences for every class\n",
    "count_list = []\n",
    "for class_label in df['y'].unique():\n",
    "    print(\"No of sentences in class label\",str(class_label) + \" is \" + str(df[df['y']==class_label].shape[0]))\n",
    "    count_list.append((str(class_label),int(df[df['y']==class_label].shape[0])))"
   ]
  },
  {
   "cell_type": "code",
   "execution_count": 22,
   "metadata": {},
   "outputs": [],
   "source": [
    "# Getting data into dictionary for plotting\n",
    "no_of_sentence = make_dict()\n",
    "for values in count_list:\n",
    "    no_of_sentence[values[0]] = values[1]"
   ]
  },
  {
   "cell_type": "code",
   "execution_count": 23,
   "metadata": {},
   "outputs": [
    {
     "data": {
      "image/png": "[encoded data removed]",
      "text/plain": [
       "<matplotlib.figure.Figure at 0x7f7e2d684f60>"
      ]
     },
     "metadata": {},
     "output_type": "display_data"
    }
   ],
   "source": [
    "plt.bar(list(no_of_sentence.keys()), no_of_sentence.values(), color='g')\n",
    "plt.suptitle(no_of_sentence.keys(), fontsize=10)\n",
    "plt.xlabel('Class labels', fontsize=10)\n",
    "plt.ylabel('No of Sentences', fontsize=10)\n",
    "plt.show()"
   ]
  },
  {
   "cell_type": "markdown",
   "metadata": {},
   "source": [
    "# Splitting the training and testing data"
   ]
  },
  {
   "cell_type": "code",
   "execution_count": 24,
   "metadata": {},
   "outputs": [
    {
     "name": "stdout",
     "output_type": "stream",
     "text": [
      "Shape of data tensor: (7349, 50)\n",
      "Shape of label tensor: (7349, 5)\n"
     ]
    }
   ],
   "source": [
    "# Getting the labels and features data\n",
    "labels = to_categorical(np.asarray(labels))\n",
    "print('Shape of data tensor:', data.shape)\n",
    "print('Shape of label tensor:', labels.shape)"
   ]
  },
  {
   "cell_type": "code",
   "execution_count": 25,
   "metadata": {},
   "outputs": [],
   "source": [
    "# Getting the splitting index for training and testing data\n",
    "SPLIT_RATIO = 0.25\n",
    "indices = np.arange(data.shape[0])\n",
    "np.random.shuffle(indices)\n",
    "data = data[indices]\n",
    "labels = labels[indices]\n",
    "validation_samples = int(SPLIT_RATIO * data.shape[0])"
   ]
  },
  {
   "cell_type": "code",
   "execution_count": 26,
   "metadata": {},
   "outputs": [],
   "source": [
    "# Getting the testing and training dataset\n",
    "X_train = data[:-validation_samples]\n",
    "y_train = labels[:-validation_samples]\n",
    "X_test = data[-validation_samples:]\n",
    "y_test = labels[-validation_samples:]"
   ]
  },
  {
   "cell_type": "markdown",
   "metadata": {},
   "source": [
    "# Text Classification using Using Convolutional neural network with multiple filter sizes(Deutsche lernen accuracy = 98.16%,Weebit Corpus accuracy=58.02-77.35%,GEO Corpus accuracy=86.84%)\n",
    "# (https://www.cs.cmu.edu/~diyiy/docs/naacl16.pdf)"
   ]
  },
  {
   "cell_type": "markdown",
   "metadata": {},
   "source": [
    "The network starts with an embedding layer. The layer lets the system expand each token to a more massive vector, allowing the network to represent a word in a meaningful way. The layer takes 20000 as the first argument, which is the size of our vocabulary, and 100 as the second input parameter, which is the dimension of the embeddings. The third parameter is the input_length of 50, which is the length of each text sequence."
   ]
  },
  {
   "cell_type": "code",
   "execution_count": 343,
   "metadata": {},
   "outputs": [],
   "source": [
    "# defining the globals\n",
    "max_input_length = 50\n",
    "vocabulary_size = 20000\n",
    "embedding_dim = 100"
   ]
  },
  {
   "cell_type": "code",
   "execution_count": 344,
   "metadata": {},
   "outputs": [],
   "source": [
    "filter_sizes = (2,4,5,8)\n",
    "dropout_prob = [0.4,0.5]"
   ]
  },
  {
   "cell_type": "code",
   "execution_count": 345,
   "metadata": {},
   "outputs": [],
   "source": [
    "# Setting the Convolution layer\n",
    "graph_in = Input(shape=(max_input_length, embedding_dim))\n",
    "convs = []\n",
    "avgs = []\n",
    "\n",
    "for fsz in filter_sizes:\n",
    "    conv = Conv1D(nb_filter=32,filter_length=fsz,border_mode='valid',activation='relu',subsample_length=1)(graph_in)\n",
    "    pool = MaxPooling1D(pool_length = max_input_length - fsz + 1)(conv)\n",
    "    flattenMax = Flatten()(pool)\n",
    "    convs.append(flattenMax)\n",
    "\n",
    "if len(filter_sizes)>1:\n",
    "    out = concatenate(convs,axis=-1)\n",
    "else:\n",
    "    out = convs[0]\n",
    "\n",
    "graph = Model(input=graph_in, output=out, name=\"graphModel\")"
   ]
  },
  {
   "cell_type": "code",
   "execution_count": 379,
   "metadata": {},
   "outputs": [
    {
     "data": {
      "text/plain": [
       "'model_cnn = Sequential()\\nmodel_cnn.add(Embedding(input_dim=vocabulary_size, output_dim = embedding_dim,input_length = max_input_length,trainable=True))\\nmodel_cnn.add(Dropout(dropout_prob[0]))\\nmodel_cnn.add(graph)\\nmodel_cnn.add(Dense(256))\\nmodel_cnn.add(Dropout(dropout_prob[1]))\\nmodel_cnn.add(Activation(\\'relu\\'))\\nmodel_cnn.add(Dense(y_train.shape[1]))\\nmodel_cnn.add(Activation(\\'softmax\\'))\\nmodel_cnn.compile(loss=\\'categorical_crossentropy\\',optimizer=\\'rmsprop\\',metrics=[\\'accuracy\\'])\\nprint(\"model fitting - CNN network\")\\nmodel_cnn.summary()\\n# Training the model\\nmodel_cnn.fit(X_train,y_train,validation_data=(X_test, y_test),epochs=10)\\n# Saving the model\\nmodel_cnn.save(\"simple_cnn.h5\")'"
      ]
     },
     "execution_count": 379,
     "metadata": {},
     "output_type": "execute_result"
    }
   ],
   "source": [
    "# Un-comment the below mentioned code to train your model\n",
    "\n",
    "# Configuring the neural network\n",
    "\"\"\"model_cnn = Sequential()\n",
    "model_cnn.add(Embedding(input_dim=vocabulary_size, output_dim = embedding_dim,input_length = max_input_length,trainable=True))\n",
    "model_cnn.add(Dropout(dropout_prob[0]))\n",
    "model_cnn.add(graph)\n",
    "model_cnn.add(Dense(256))\n",
    "model_cnn.add(Dropout(dropout_prob[1]))\n",
    "model_cnn.add(Activation('relu'))\n",
    "model_cnn.add(Dense(y_train.shape[1]))\n",
    "model_cnn.add(Activation('softmax'))\n",
    "model_cnn.compile(loss='categorical_crossentropy',optimizer='rmsprop',metrics=['accuracy'])\n",
    "print(\"model fitting - CNN network\")\n",
    "model_cnn.summary()\n",
    "# Training the model\n",
    "model_cnn.fit(X_train,y_train,validation_data=(X_test, y_test),epochs=10)\n",
    "# Saving the model\n",
    "model_cnn.save(\"simple_cnn.h5\")\"\"\""
   ]
  },
  {
   "cell_type": "code",
   "execution_count": 347,
   "metadata": {},
   "outputs": [],
   "source": [
    "# Loading the pre-trained model\n",
    "model_cnn = load_model(\"simple_cnn.h5\")"
   ]
  },
  {
   "cell_type": "code",
   "execution_count": 348,
   "metadata": {},
   "outputs": [
    {
     "name": "stdout",
     "output_type": "stream",
     "text": [
      "Accuracy: 77.35%\n"
     ]
    }
   ],
   "source": [
    "# Checking the accuracy\n",
    "accuracy_model_cnn = model_cnn.evaluate(X_test, y_test, verbose=0)\n",
    "print(\"Accuracy: %.2f%%\" % (accuracy_model_cnn[1]*100))"
   ]
  },
  {
   "cell_type": "code",
   "execution_count": 349,
   "metadata": {},
   "outputs": [],
   "source": [
    "# Making predictions in terms of probabilities for each class\n",
    "prediction_model_cnn = model_cnn.predict(X_test,batch_size=10,verbose=0)"
   ]
  },
  {
   "cell_type": "code",
   "execution_count": 350,
   "metadata": {},
   "outputs": [
    {
     "data": {
      "text/plain": [
       "array([[1.4460735e-05, 1.1109689e-07, 1.8177912e-05, 2.0418435e-01,\n",
       "        7.9578292e-01],\n",
       "       [1.9133670e-02, 2.2691553e-02, 9.3409693e-01, 8.6950065e-05,\n",
       "        2.3990940e-02],\n",
       "       [1.4460735e-05, 1.1109689e-07, 1.8177912e-05, 2.0418435e-01,\n",
       "        7.9578292e-01],\n",
       "       ...,\n",
       "       [1.4460763e-05, 1.1109698e-07, 1.8177894e-05, 2.0418443e-01,\n",
       "        7.9578286e-01],\n",
       "       [1.4460763e-05, 1.1109698e-07, 1.8177894e-05, 2.0418443e-01,\n",
       "        7.9578286e-01],\n",
       "       [1.4460763e-05, 1.1109698e-07, 1.8177896e-05, 2.0418443e-01,\n",
       "        7.9578286e-01]], dtype=float32)"
      ]
     },
     "execution_count": 350,
     "metadata": {},
     "output_type": "execute_result"
    }
   ],
   "source": [
    "prediction_model_cnn"
   ]
  },
  {
   "cell_type": "markdown",
   "metadata": {},
   "source": [
    "# Text Classification Using LSTM (Deutsche Lernen accuracy = 97.34%, Weebit Corpus accuracy = 52.61-78.21%,GEO Corpus accuracy=89.47%)\n",
    "# (https://arxiv.org/abs/1607.02501)"
   ]
  },
  {
   "cell_type": "code",
   "execution_count": 27,
   "metadata": {},
   "outputs": [
    {
     "data": {
      "text/plain": [
       "'model_lstm  = Sequential()\\nmodel_lstm.add(Embedding(vocabulary_size, 100, input_length=50))\\nmodel_lstm.add(LSTM(100, dropout=0.2, recurrent_dropout=0.2))\\nmodel_lstm.add(Dense(y_train.shape[1], activation=\\'softmax\\'))\\nmodel_lstm.compile(loss=\\'categorical_crossentropy\\', optimizer=\\'rmsprop\\', metrics=[\\'accuracy\\'])\\nprint(\"model fitting - LSTM network\")\\nmodel_lstm.summary()\\n# Training the model\\nmodel_lstm.fit(X_train,y_train,validation_data=(X_test, y_test),epochs=10)\\n# Saving the model\\nmodel_lstm.save(\"simple_lstm.h5\")'"
      ]
     },
     "execution_count": 27,
     "metadata": {},
     "output_type": "execute_result"
    }
   ],
   "source": [
    "# Un-comment the below mentioned code to train your model\n",
    "\n",
    "# Configuring the neural network\n",
    "\"\"\"model_lstm  = Sequential()\n",
    "model_lstm.add(Embedding(vocabulary_size, 100, input_length=50))\n",
    "model_lstm.add(LSTM(100, dropout=0.2, recurrent_dropout=0.2))\n",
    "model_lstm.add(Dense(y_train.shape[1], activation='softmax'))\n",
    "model_lstm.compile(loss='categorical_crossentropy', optimizer='rmsprop', metrics=['accuracy'])\n",
    "print(\"model fitting - LSTM network\")\n",
    "model_lstm.summary()\n",
    "# Training the model\n",
    "model_lstm.fit(X_train,y_train,validation_data=(X_test, y_test),epochs=10)\n",
    "# Saving the model\n",
    "model_lstm.save(\"simple_lstm.h5\")\"\"\""
   ]
  },
  {
   "cell_type": "code",
   "execution_count": 37,
   "metadata": {},
   "outputs": [],
   "source": [
    "# Loading the pre-trained model\n",
    "model_lstm = load_model(\"simple_lstm.h5\")"
   ]
  },
  {
   "cell_type": "code",
   "execution_count": 44,
   "metadata": {},
   "outputs": [],
   "source": [
    "# getting model weights\n",
    "model_lstm_weights = model_lstm.get_weights()"
   ]
  },
  {
   "cell_type": "code",
   "execution_count": 33,
   "metadata": {},
   "outputs": [
    {
     "name": "stdout",
     "output_type": "stream",
     "text": [
      "Accuracy: 88.57%\n"
     ]
    }
   ],
   "source": [
    "# Checking the accuracy\n",
    "accuracy_model_lstm = model_lstm.evaluate(X_test, y_test, verbose=0)\n",
    "print(\"Accuracy: %.2f%%\" % (accuracy_model_lstm[1]*100))"
   ]
  },
  {
   "cell_type": "code",
   "execution_count": 34,
   "metadata": {},
   "outputs": [],
   "source": [
    "# Making predictions in terms of probabilities for each class\n",
    "prediction_simple_lstm = model_lstm.predict(X_test,batch_size=10,verbose=0)"
   ]
  },
  {
   "cell_type": "code",
   "execution_count": 35,
   "metadata": {},
   "outputs": [
    {
     "data": {
      "text/plain": [
       "array([[1.2080207e-05, 1.2093676e-04, 6.9205234e-05, 2.2278649e-01,\n",
       "        7.7701133e-01],\n",
       "       [1.2080207e-05, 1.2093676e-04, 6.9205234e-05, 2.2278649e-01,\n",
       "        7.7701133e-01],\n",
       "       [1.2080207e-05, 1.2093676e-04, 6.9205234e-05, 2.2278649e-01,\n",
       "        7.7701133e-01],\n",
       "       ...,\n",
       "       [9.2771306e-04, 5.6008477e-02, 9.3685877e-01, 2.3495192e-03,\n",
       "        3.8555253e-03],\n",
       "       [3.0782206e-03, 8.6286885e-01, 1.3114475e-01, 1.3641972e-03,\n",
       "        1.5440936e-03],\n",
       "       [1.1046651e-03, 1.2696024e-02, 9.8238772e-01, 1.4486011e-03,\n",
       "        2.3629030e-03]], dtype=float32)"
      ]
     },
     "execution_count": 35,
     "metadata": {},
     "output_type": "execute_result"
    }
   ],
   "source": [
    "prediction_simple_lstm"
   ]
  },
  {
   "cell_type": "markdown",
   "metadata": {},
   "source": [
    "# Text classification using convolutional layer on top of the LSTM layer(Deutsch lernen accuracy = 97.90%, Weebit Corpus accuracy =53.15-75.99%,GEO corpus accuracy=85.71%)\n",
    "# (https://arxiv.org/pdf/1511.08630.pdf)"
   ]
  },
  {
   "cell_type": "code",
   "execution_count": 356,
   "metadata": {},
   "outputs": [
    {
     "data": {
      "text/plain": [
       "'\\nAdding an one-dimensional CNN and max pooling layers after the Embedding layer which is then feed the \\nconsolidated features to the LSTM unit(to speed up the training proccess)\\n'"
      ]
     },
     "execution_count": 356,
     "metadata": {},
     "output_type": "execute_result"
    }
   ],
   "source": [
    "\"\"\"\n",
    "Adding an one-dimensional CNN and max pooling layers after the Embedding layer which is then feed the \n",
    "consolidated features to the LSTM unit(to speed up the training proccess)\n",
    "\"\"\""
   ]
  },
  {
   "cell_type": "code",
   "execution_count": 375,
   "metadata": {},
   "outputs": [
    {
     "data": {
      "text/plain": [
       "'model_conv = Sequential()\\nmodel_conv.add(Embedding(vocabulary_size, 100, input_length=50))\\nmodel_conv.add(Dropout(0.2))\\nmodel_conv.add(Conv1D(64, 5, activation=\\'relu\\'))\\nmodel_conv.add(MaxPooling1D(pool_size=4))\\nmodel_conv.add(LSTM(100))\\nmodel_conv.add(Dense(y_train.shape[1], activation=\\'softmax\\'))\\nmodel_conv.compile(loss=\\'categorical_crossentropy\\', optimizer=\\'adam\\', metrics=[\\'accuracy\\'])\\nprint(\"model fitting - CNN-LSTM convolutional neural network\")\\nmodel_lstm.summary()\\n# Training the model\\nmodel_conv.fit(X_train, y_train,validation_data=(X_test,y_test),epochs=10)\\n# Saving the model\\nmodel_conv.save(\"lstm_cnn.h5\")'"
      ]
     },
     "execution_count": 375,
     "metadata": {},
     "output_type": "execute_result"
    }
   ],
   "source": [
    "# Un-comment the below mentioned code to train your model\n",
    "\n",
    "# Configuring the neural network\n",
    "\"\"\"model_conv = Sequential()\n",
    "model_conv.add(Embedding(vocabulary_size, 100, input_length=50))\n",
    "model_conv.add(Dropout(0.2))\n",
    "model_conv.add(Conv1D(64, 5, activation='relu'))\n",
    "model_conv.add(MaxPooling1D(pool_size=4))\n",
    "model_conv.add(LSTM(100))\n",
    "model_conv.add(Dense(y_train.shape[1], activation='softmax'))\n",
    "model_conv.compile(loss='categorical_crossentropy', optimizer='adam', metrics=['accuracy'])\n",
    "print(\"model fitting - CNN-LSTM convolutional neural network\")\n",
    "model_lstm.summary()\n",
    "# Training the model\n",
    "model_conv.fit(X_train, y_train,validation_data=(X_test,y_test),epochs=10)\n",
    "# Saving the model\n",
    "model_conv.save(\"lstm_cnn.h5\")\"\"\""
   ]
  },
  {
   "cell_type": "code",
   "execution_count": 358,
   "metadata": {},
   "outputs": [],
   "source": [
    "# Loading the pre-trained model\n",
    "model_conv = load_model(\"lstm_cnn.h5\")"
   ]
  },
  {
   "cell_type": "code",
   "execution_count": 359,
   "metadata": {},
   "outputs": [
    {
     "name": "stdout",
     "output_type": "stream",
     "text": [
      "Accuracy: 75.99%\n"
     ]
    }
   ],
   "source": [
    "# Checking the accuracy\n",
    "accuracy_model_conv = model_conv.evaluate(X_test, y_test, verbose=0)\n",
    "print(\"Accuracy: %.2f%%\" % (accuracy_model_conv[1]*100))"
   ]
  },
  {
   "cell_type": "code",
   "execution_count": 360,
   "metadata": {},
   "outputs": [],
   "source": [
    "# Making predictions in terms of probabilities for each class\n",
    "prediction_model_conv = model_conv.predict(X_test,batch_size=10,verbose=0)"
   ]
  },
  {
   "cell_type": "code",
   "execution_count": 361,
   "metadata": {},
   "outputs": [
    {
     "data": {
      "text/plain": [
       "array([[1.2412836e-04, 1.2691332e-04, 1.0445202e-04, 1.3600774e-01,\n",
       "        8.6363673e-01],\n",
       "       [6.6256282e-05, 5.8721198e-05, 1.4250492e-03, 1.4416560e-03,\n",
       "        9.9700838e-01],\n",
       "       [1.2412836e-04, 1.2691332e-04, 1.0445202e-04, 1.3600774e-01,\n",
       "        8.6363673e-01],\n",
       "       ...,\n",
       "       [1.2412813e-04, 1.2691320e-04, 1.0445192e-04, 1.3600767e-01,\n",
       "        8.6363679e-01],\n",
       "       [1.2412813e-04, 1.2691320e-04, 1.0445192e-04, 1.3600767e-01,\n",
       "        8.6363679e-01],\n",
       "       [1.2412813e-04, 1.2691320e-04, 1.0445192e-04, 1.3600767e-01,\n",
       "        8.6363679e-01]], dtype=float32)"
      ]
     },
     "execution_count": 361,
     "metadata": {},
     "output_type": "execute_result"
    }
   ],
   "source": [
    "prediction_model_conv"
   ]
  },
  {
   "cell_type": "markdown",
   "metadata": {},
   "source": [
    "# Using pre-trained Glove word embeddings"
   ]
  },
  {
   "cell_type": "raw",
   "metadata": {},
   "source": [
    "It was trained on a dataset of one billion tokens (words) with a vocabulary of 400 thousand words. The glove has embedding vector sizes, including 50, 100, 200 and 300 dimensions. I will be choosing the 100-dimensional version."
   ]
  },
  {
   "cell_type": "code",
   "execution_count": 57,
   "metadata": {},
   "outputs": [
    {
     "name": "stdout",
     "output_type": "stream",
     "text": [
      "Loaded 400000 word vectors.\n"
     ]
    }
   ],
   "source": [
    "# Get embeddings from Glove\n",
    "embeddings_index = dict()\n",
    "f = open('glove.6B/glove.6B.100d.txt')\n",
    "for line in f:\n",
    "    values = line.split()\n",
    "    word = values[0]\n",
    "    coefs = np.asarray(values[1:], dtype='float32')\n",
    "    embeddings_index[word] = coefs\n",
    "f.close()\n",
    "print('Loaded %s word vectors.' % len(embeddings_index))"
   ]
  },
  {
   "cell_type": "code",
   "execution_count": 58,
   "metadata": {},
   "outputs": [],
   "source": [
    "# create a weight matrix for words in training docs\n",
    "embedding_matrix = np.zeros((vocabulary_size, 100))\n",
    "for word, index in tokenizer.word_index.items():\n",
    "    if index > vocabulary_size - 1:\n",
    "        break\n",
    "    else:\n",
    "        embedding_vector = embeddings_index.get(word)\n",
    "        if embedding_vector is not None:\n",
    "            embedding_matrix[index] = embedding_vector"
   ]
  },
  {
   "cell_type": "code",
   "execution_count": 60,
   "metadata": {},
   "outputs": [
    {
     "data": {
      "text/plain": [
       "(20000, 100)"
      ]
     },
     "execution_count": 60,
     "metadata": {},
     "output_type": "execute_result"
    }
   ],
   "source": [
    "embedding_matrix.shape"
   ]
  },
  {
   "cell_type": "markdown",
   "metadata": {},
   "source": [
    "# Using architecture having convolutional layer on top of the LSTM layer along with the globe word embeddings(Accuracy = 75.12%)"
   ]
  },
  {
   "cell_type": "code",
   "execution_count": 376,
   "metadata": {},
   "outputs": [
    {
     "data": {
      "text/plain": [
       "'model_glove = Sequential()\\nmodel_glove.add(Embedding(vocabulary_size, 100, input_length=50, weights=[embedding_matrix], trainable=False))\\nmodel_glove.add(Dropout(0.2))\\nmodel_glove.add(Conv1D(64, 5, activation=\\'relu\\'))\\nmodel_glove.add(MaxPooling1D(pool_size=4))\\nmodel_glove.add(LSTM(100))\\nmodel_glove.add(Dense(y_train.shape[1], activation=\\'softmax\\'))\\nmodel_glove.compile(loss=\\'categorical_crossentropy\\', optimizer=\\'adam\\', metrics=[\\'accuracy\\'])\\nprint(\"model fitting - CNN-LSTM convolutional neural network with globe word embeddings\")\\nmodel_glove.summary()\\n# Training the model\\nmodel_glove.fit(X_train, y_train,validation_data=(X_test,y_test),epochs=10)\\n# Saving the model\\nmodel_glove.save(\"lstm_cnn_globe.h5\")'"
      ]
     },
     "execution_count": 376,
     "metadata": {},
     "output_type": "execute_result"
    }
   ],
   "source": [
    "# Un-comment the below mentioned code to train your model\n",
    "\n",
    "# Configuring the neural network\n",
    "\"\"\"model_glove = Sequential()\n",
    "model_glove.add(Embedding(vocabulary_size, 100, input_length=50, weights=[embedding_matrix], trainable=False))\n",
    "model_glove.add(Dropout(0.2))\n",
    "model_glove.add(Conv1D(64, 5, activation='relu'))\n",
    "model_glove.add(MaxPooling1D(pool_size=4))\n",
    "model_glove.add(LSTM(100))\n",
    "model_glove.add(Dense(y_train.shape[1], activation='softmax'))\n",
    "model_glove.compile(loss='categorical_crossentropy', optimizer='adam', metrics=['accuracy'])\n",
    "print(\"model fitting - CNN-LSTM convolutional neural network with globe word embeddings\")\n",
    "model_glove.summary()\n",
    "# Training the model\n",
    "model_glove.fit(X_train, y_train,validation_data=(X_test,y_test),epochs=10)\n",
    "# Saving the model\n",
    "model_glove.save(\"lstm_cnn_globe.h5\")\"\"\""
   ]
  },
  {
   "cell_type": "code",
   "execution_count": 366,
   "metadata": {},
   "outputs": [],
   "source": [
    "# Loading the pre-trained model\n",
    "model_glove_lstm_cnn = load_model(\"lstm_cnn_globe.h5\")"
   ]
  },
  {
   "cell_type": "code",
   "execution_count": 367,
   "metadata": {},
   "outputs": [
    {
     "name": "stdout",
     "output_type": "stream",
     "text": [
      "Accuracy: 75.12%\n"
     ]
    }
   ],
   "source": [
    "# Checking the accuracy\n",
    "accuracy_model_glove_lstm_cnn = model_glove_lstm_cnn.evaluate(X_test, y_test, verbose=0)\n",
    "print(\"Accuracy: %.2f%%\" % (accuracy_model_glove_lstm_cnn[1]*100))"
   ]
  },
  {
   "cell_type": "code",
   "execution_count": 368,
   "metadata": {},
   "outputs": [],
   "source": [
    "# Making predictions in terms of probabilities for each class\n",
    "prediction_model_glove_lstm_cnn = model_glove_lstm_cnn.predict(X_test,batch_size=10,verbose=0)"
   ]
  },
  {
   "cell_type": "code",
   "execution_count": 369,
   "metadata": {},
   "outputs": [
    {
     "data": {
      "text/plain": [
       "array([[6.4526103e-05, 5.5318833e-05, 1.1670993e-04, 1.0535414e-01,\n",
       "        8.9440936e-01],\n",
       "       [4.2728370e-04, 4.6679538e-04, 2.5911184e-03, 3.9599203e-03,\n",
       "        9.9255484e-01],\n",
       "       [6.4526103e-05, 5.5318833e-05, 1.1670993e-04, 1.0535414e-01,\n",
       "        8.9440936e-01],\n",
       "       ...,\n",
       "       [6.4526044e-05, 5.5318833e-05, 1.1670993e-04, 1.0535414e-01,\n",
       "        8.9440936e-01],\n",
       "       [6.4526044e-05, 5.5318833e-05, 1.1670993e-04, 1.0535414e-01,\n",
       "        8.9440936e-01],\n",
       "       [6.4526044e-05, 5.5318833e-05, 1.1670993e-04, 1.0535414e-01,\n",
       "        8.9440936e-01]], dtype=float32)"
      ]
     },
     "execution_count": 369,
     "metadata": {},
     "output_type": "execute_result"
    }
   ],
   "source": [
    "prediction_model_glove_lstm_cnn"
   ]
  },
  {
   "cell_type": "markdown",
   "metadata": {},
   "source": [
    "# Word embedding visialization"
   ]
  },
  {
   "cell_type": "code",
   "execution_count": null,
   "metadata": {},
   "outputs": [],
   "source": [
    "# Get embedding weights\n",
    "cnn_embds = model_cnn.layers[0].get_weights()[0]\n",
    "lstm_embds = model_lstm.layers[0].get_weights()[0]\n",
    "conv_embds = model_conv.layers[0].get_weights()[0]\n",
    "glove_emds = model_glove.layers[0].get_weights()[0]"
   ]
  },
  {
   "cell_type": "code",
   "execution_count": null,
   "metadata": {},
   "outputs": [],
   "source": [
    "# Creating word list\n",
    "word_list = []\n",
    "for word, i in tokenizer.word_index.items():\n",
    "    word_list.append(word)"
   ]
  },
  {
   "cell_type": "code",
   "execution_count": null,
   "metadata": {},
   "outputs": [],
   "source": [
    "# Scatter plot of first two components of TSNE(t-distributed stochastic neighbor embedding)\n",
    "def plot_words(data, start, stop, step):\n",
    "    trace = go.Scatter(\n",
    "        x = data[start:stop:step,0], \n",
    "        y = data[start:stop:step, 1],\n",
    "        mode = 'markers',\n",
    "        text= word_list[start:stop:step]\n",
    "    )\n",
    "    layout = dict(title= 't-SNE 1 vs t-SNE 2',\n",
    "                  yaxis = dict(title='t-SNE 2'),\n",
    "                  xaxis = dict(title='t-SNE 1'),\n",
    "                  hovermode= 'closest')\n",
    "    fig = dict(data = [trace], layout= layout)\n",
    "    py.iplot(fig)"
   ]
  },
  {
   "cell_type": "code",
   "execution_count": null,
   "metadata": {},
   "outputs": [],
   "source": [
    "# CNN\n",
    "cnn_tsne_embds = TSNE(n_components=2).fit_transform(cnn_embds)\n",
    "plot_words(cnn_tsne_embds, 0, 2000, 1)"
   ]
  },
  {
   "cell_type": "code",
   "execution_count": null,
   "metadata": {},
   "outputs": [],
   "source": [
    "# LSTM\n",
    "lstm_tsne_embds = TSNE(n_components=2).fit_transform(lstm_embds)\n",
    "plot_words(lstm_tsne_embds, 0, 2000, 1)"
   ]
  },
  {
   "cell_type": "code",
   "execution_count": null,
   "metadata": {},
   "outputs": [],
   "source": [
    "# CNN + LSTM\n",
    "conv_tsne_embds = TSNE(n_components=2).fit_transform(conv_embds)\n",
    "plot_words(conv_tsne_embds, 0, 2000, 1)"
   ]
  },
  {
   "cell_type": "code",
   "execution_count": null,
   "metadata": {},
   "outputs": [],
   "source": [
    "# CNN + LSTM + GLOVE\n",
    "glove_tsne_embds = TSNE(n_components=2).fit_transform(glove_emds)\n",
    "plot_words(glove_tsne_embds, 0, 2000, 1)"
   ]
  },
  {
   "cell_type": "markdown",
   "metadata": {},
   "source": [
    "# Training on geo data and predicting dw data using LSTM network(Accuracy = 99.97%)"
   ]
  },
  {
   "cell_type": "code",
   "execution_count": 4,
   "metadata": {},
   "outputs": [],
   "source": [
    "# Cleaning the text data\n",
    "def clean_text(text):\n",
    "    \"\"\"\n",
    "    Takes an input as a text in string format along and clean it.\n",
    "    \"\"\"\n",
    "    \n",
    "    ## Remove puncuation\n",
    "    text = text.translate(string.punctuation)\n",
    "    \n",
    "    ## Convert words to lower case and split them\n",
    "    text = text.lower().split()\n",
    "    \n",
    "    ## Remove stop words\n",
    "    stops = set(stopwords.words(\"german\"))\n",
    "    text = [w for w in text if not w in stops and len(w) >= 3]\n",
    "    text = \" \".join(text)\n",
    "\n",
    "    # Clean the text\n",
    "    text = re.sub(r\"[^A-Za-z0-9^,!.\\/'+-=]\", \" \", text)  \n",
    "    text = text.split()\n",
    "    stemmer = SnowballStemmer('german')\n",
    "    stemmed_words = [stemmer.stem(word) for word in text]\n",
    "    text = \" \".join(stemmed_words)\n",
    "\n",
    "    return text"
   ]
  },
  {
   "cell_type": "code",
   "execution_count": 5,
   "metadata": {},
   "outputs": [],
   "source": [
    "def preprocess_data(corpus):\n",
    "    \"\"\"\n",
    "    Takes an input as corpus name in string format along with its relative directory path.\n",
    "    \"\"\"\n",
    "    # Loading dataset\n",
    "    df = pd.read_hdf(corpus,\"text_df\")[['text','y']]\n",
    "    # Dropping null values\n",
    "    df.dropna(inplace=True)\n",
    "    # Converting class labels to int dtype\n",
    "    df['y'] = df['y'].astype(int)\n",
    "    print(\"Shape of the dataset:\",df.shape)\n",
    "    df['text'] = df['text'].map(lambda x: clean_text(x))\n",
    "    print(\"Dataset:\",df.head())\n",
    "    return df"
   ]
  },
  {
   "cell_type": "code",
   "execution_count": 6,
   "metadata": {},
   "outputs": [],
   "source": [
    "def tokenize_sequence(df,vocabulary_size = 20000):\n",
    "    \"\"\"\n",
    "    Takes the dataframe, and returns the tokenized-sequenced features and labels.\n",
    "    \"\"\"\n",
    "    # Because of the computational expenses, I am using the top 20000 unique words. \n",
    "    # At first, the text is tokenized and then convert those into sequences. \n",
    "    # I have kept 50 words to limit the number of words in each comment.\n",
    "\n",
    "    # Initializing Tokenizer from keras\n",
    "    tokenizer = Tokenizer(nb_words=vocabulary_size)\n",
    "    # Fitting text on the tokenizer\n",
    "    tokenizer.fit_on_texts(df['text'])\n",
    "    # Converting text to sequence\n",
    "    sequences = tokenizer.texts_to_sequences(df['text'])\n",
    "\n",
    "    # Finding unique tokenizer\n",
    "    word_index = tokenizer.word_index\n",
    "    print('Found %s unique tokens.' % len(word_index))\n",
    "\n",
    "    # Padding sequences to the length of MAX_SEQUENCE_LENGTH\n",
    "    data = pad_sequences(sequences, maxlen=50)\n",
    "    labels = df['y']\n",
    "    \n",
    "    #performing one hot encoding on the labels\n",
    "    labels = to_categorical(np.asarray(labels))\n",
    "\n",
    "    return data,labels"
   ]
  },
  {
   "cell_type": "code",
   "execution_count": 7,
   "metadata": {},
   "outputs": [],
   "source": [
    "def split_data(corpus1_data,corpus1_labels,corpus2_data,corpus2_labels):\n",
    "    \"\"\"\n",
    "    Takes the labels and data from both the corpuses and considers the first corpus as the training corpus and \n",
    "    the second one as the testing corpus.\n",
    "    \"\"\"\n",
    "    \n",
    "    # Getting the labels and features data\n",
    "    print('Shape of Corpus1 data tensor:', corpus1_data.shape)\n",
    "    print('Shape of Corpus1 label tensor:', corpus1_labels.shape)\n",
    "    \n",
    "    print('Shape of Corpus2 data tensor:', corpus2_data.shape)\n",
    "    print('Shape of Corpus2 label tensor:', corpus2_labels.shape)\n",
    "\n",
    "\n",
    "    X_train = corpus1_data\n",
    "    y_train = corpus1_labels\n",
    "    X_test = corpus2_data\n",
    "    y_test = corpus2_labels\n",
    "    \n",
    "    return X_train,y_train,X_test,y_test"
   ]
  },
  {
   "cell_type": "code",
   "execution_count": 8,
   "metadata": {},
   "outputs": [
    {
     "name": "stdout",
     "output_type": "stream",
     "text": [
      "Shape of the dataset: (2130, 2)\n",
      "Dataset:                                                 text  y\n",
      "0  kologie: dauerleck nordsee. seit jahr sprudelt...  1\n",
      "1  fischzug tiefe. herb vergang jahr brach polars...  1\n",
      "2  artikel 14.2.2004. landwirtschaft: geplatzt ge...  1\n",
      "3  artikel 28.8.2006. planet verschwind l sst ast...  1\n",
      "4  artikel 20.12.2010. verspielt seel wen igelf s...  1\n",
      "Found 77216 unique tokens.\n",
      "Shape of the dataset: (7814, 2)\n",
      "Dataset:                                                 text  y\n",
      "0  us-pr sident barack obama 250 zus tzlich solda...  1\n",
      "1  us-pr sident barack obama montag seit kanzleri...  1\n",
      "2  rechtspopulist fp bundespr sidentenwahl sterre...  1\n",
      "3  deutschland zahl fl chtling maghreb-staat alge...  1\n",
      "4  beid abgeschlag pr sidentschaftskandidat us-re...  1\n",
      "Found 49565 unique tokens.\n"
     ]
    }
   ],
   "source": [
    "# Loading and preprocessing data\n",
    "geo_df = preprocess_data(\"geo.h5\")\n",
    "geo_data,geo_labels = tokenize_sequence(geo_df)\n",
    "\n",
    "dw_df = preprocess_data(\"dw.hdf5\")\n",
    "dw_data,dw_labels = tokenize_sequence(dw_df)"
   ]
  },
  {
   "cell_type": "code",
   "execution_count": 9,
   "metadata": {},
   "outputs": [
    {
     "name": "stdout",
     "output_type": "stream",
     "text": [
      "Shape of Corpus1 data tensor: (2130, 50)\n",
      "Shape of Corpus1 label tensor: (2130, 2)\n",
      "Shape of Corpus2 data tensor: (7814, 50)\n",
      "Shape of Corpus2 label tensor: (7814, 2)\n"
     ]
    }
   ],
   "source": [
    "# Splitting dataset into train and test corpus\n",
    "X_train,y_train,X_test,y_test = split_data(geo_data,geo_labels,dw_data,dw_labels)"
   ]
  },
  {
   "cell_type": "code",
   "execution_count": 377,
   "metadata": {},
   "outputs": [
    {
     "data": {
      "text/plain": [
       "'model_lstm  = Sequential()\\nmodel_lstm.add(Embedding(vocabulary_size, 100, input_length=50))\\nmodel_lstm.add(LSTM(100, dropout=0.2, recurrent_dropout=0.2))\\nmodel_lstm.add(Dense(y_train.shape[1], activation=\\'softmax\\'))\\nmodel_lstm.compile(loss=\\'categorical_crossentropy\\', optimizer=\\'rmsprop\\', metrics=[\\'accuracy\\'])\\nprint(\"model fitting - LSTM network\")\\nmodel_lstm.summary()\\n# Training the model\\nmodel_lstm.fit(X_train,y_train,validation_data=(X_test, y_test),epochs=10)\\n# Saving the model\\nmodel_lstm.save(\"split_simple_geo_dw_lstm.h5\")'"
      ]
     },
     "execution_count": 377,
     "metadata": {},
     "output_type": "execute_result"
    }
   ],
   "source": [
    "# Un-comment the below mentioned code to train your model\n",
    "\n",
    "# Configuring the neural network\n",
    "\"\"\"model_lstm  = Sequential()\n",
    "model_lstm.add(Embedding(vocabulary_size, 100, input_length=50))\n",
    "model_lstm.add(LSTM(100, dropout=0.2, recurrent_dropout=0.2))\n",
    "model_lstm.add(Dense(y_train.shape[1], activation='softmax'))\n",
    "model_lstm.compile(loss='categorical_crossentropy', optimizer='rmsprop', metrics=['accuracy'])\n",
    "print(\"model fitting - LSTM network\")\n",
    "model_lstm.summary()\n",
    "# Training the model\n",
    "model_lstm.fit(X_train,y_train,validation_data=(X_test, y_test),epochs=10)\n",
    "# Saving the model\n",
    "model_lstm.save(\"split_simple_geo_dw_lstm.h5\")\"\"\""
   ]
  },
  {
   "cell_type": "code",
   "execution_count": 283,
   "metadata": {},
   "outputs": [],
   "source": [
    "# Loading the pre-trained model\n",
    "model_lstm = load_model(\"split_simple_geo_dw_lstm.h5\")"
   ]
  },
  {
   "cell_type": "code",
   "execution_count": 284,
   "metadata": {},
   "outputs": [
    {
     "name": "stdout",
     "output_type": "stream",
     "text": [
      "Accuracy: 87.22%\n"
     ]
    }
   ],
   "source": [
    "# Checking the accuracy\n",
    "accuracy_model_lstm = model_lstm.evaluate(X_test, y_test, verbose=0)\n",
    "print(\"Accuracy: %.2f%%\" % (accuracy_model_lstm[1]*100))"
   ]
  },
  {
   "cell_type": "code",
   "execution_count": 285,
   "metadata": {},
   "outputs": [],
   "source": [
    "# Making predictions in terms of probabilities for each class\n",
    "prediction_simple_lstm = model_lstm.predict(X_test,batch_size=10,verbose=0)"
   ]
  },
  {
   "cell_type": "code",
   "execution_count": 330,
   "metadata": {},
   "outputs": [],
   "source": [
    "# Plots the data in form a histogram\n",
    "def plot_histogram(data,labels):\n",
    "    \"\"\"\n",
    "    Takes the probabilities in  the form a list and class labels as unique labels with values belonging to each of the \n",
    "    classes and plots a histogram over it.\n",
    "    \"\"\"\n",
    "    # Getting class prbabilities for every text in the corpus\n",
    "    class_labels = []\n",
    "    colors = [\"blue\",\"yellow\",\"red\",\"green\",\"black\"]\n",
    "    color_labels = [\"Class label 0\",\"Class label 1\",\"Class label 2\",\"Class label 3\",\"Class label 4\"]\n",
    "\n",
    "    for arrays in data:\n",
    "        for index,classes in enumerate(labels):\n",
    "            class_labels.append(arrays[index])\n",
    "        \n",
    "    # on the same Axis\n",
    "    colors = colors[:len(labels)]\n",
    "    color_labels = color_labels[:len(labels)]\n",
    "    for index,classes in enumerate(class_labels):\n",
    "        sns.distplot(classes , color=colors[index], label=color_labels[index],kde=False)\n",
    "        plt.savefig(\"pred_prob_curve.jpg\")\n",
    "        plt.legend()"
   ]
  },
  {
   "cell_type": "code",
   "execution_count": 291,
   "metadata": {},
   "outputs": [
    {
     "name": "stdout",
     "output_type": "stream",
     "text": [
      "Probability distribution LSTM predictions:\n"
     ]
    },
    {
     "data": {
      "image/png": "[encoded data removed]",
      "text/plain": [
       "<matplotlib.figure.Figure at 0x7f7d75615160>"
      ]
     },
     "metadata": {},
     "output_type": "display_data"
    }
   ],
   "source": [
    "print(\"Probability distribution LSTM predictions:\")\n",
    "plot_histogram(prediction_simple_lstm)"
   ]
  },
  {
   "cell_type": "markdown",
   "metadata": {},
   "source": [
    "# Training on dw data and predicting geo data using LSTM network(Accuracy = 50.47%)"
   ]
  },
  {
   "cell_type": "code",
   "execution_count": 31,
   "metadata": {},
   "outputs": [
    {
     "name": "stdout",
     "output_type": "stream",
     "text": [
      "Shape of Corpus1 data tensor: (7814, 50)\n",
      "Shape of Corpus1 label tensor: (7814, 2)\n",
      "Shape of Corpus2 data tensor: (2130, 50)\n",
      "Shape of Corpus2 label tensor: (2130, 2)\n"
     ]
    }
   ],
   "source": [
    "# Splitting dataset into train and test corpus\n",
    "X_train,y_train,X_test,y_test = split_data(dw_data,dw_labels,geo_data,geo_labels)"
   ]
  },
  {
   "cell_type": "code",
   "execution_count": null,
   "metadata": {},
   "outputs": [],
   "source": [
    "# Un-comment the below mentioned code to train your model\n",
    "\n",
    "\"\"\"# Configuring the neural network\n",
    "model_lstm  = Sequential()\n",
    "model_lstm.add(Embedding(vocabulary_size, 100, input_length=50))\n",
    "model_lstm.add(LSTM(100, dropout=0.2, recurrent_dropout=0.2))\n",
    "model_lstm.add(Dense(y_train.shape[1], activation='softmax'))\n",
    "model_lstm.compile(loss='categorical_crossentropy', optimizer='rmsprop', metrics=['accuracy'])\n",
    "print(\"model fitting - LSTM network\")\n",
    "model_lstm.summary()\n",
    "# Training the model\n",
    "model_lstm.fit(X_train,y_train,validation_data=(X_test, y_test),epochs=10)\n",
    "# Saving the model\n",
    "model_lstm.save(\"split_simple_dw_geo_lstm.h5\")\"\"\""
   ]
  },
  {
   "cell_type": "code",
   "execution_count": 32,
   "metadata": {},
   "outputs": [
    {
     "name": "stdout",
     "output_type": "stream",
     "text": [
      "Accuracy: 50.47%\n"
     ]
    }
   ],
   "source": [
    "# Loading the pre-trained model\n",
    "model_lstm = load_model(\"split_simple_dw_geo_lstm.h5\")\n",
    "\n",
    "# Checking the accuracy\n",
    "accuracy_model_lstm = model_lstm.evaluate(X_test, y_test, verbose=0)\n",
    "print(\"Accuracy: %.2f%%\" % (accuracy_model_lstm[1]*100))\n",
    "\n",
    "# Making predictions in terms of probabilities for each class\n",
    "prediction_simple_lstm = model_lstm.predict(X_test,batch_size=10,verbose=0)# Getting class prbabilities for every text in the corpus\n",
    "\n",
    "class_0,class_1 = ([] for i in range(2))\n",
    "for index,arrays in enumerate(prediction_simple_lstm):\n",
    "    class_0.append(arrays[0])\n",
    "    class_1.append(arrays[1])"
   ]
  },
  {
   "cell_type": "code",
   "execution_count": null,
   "metadata": {},
   "outputs": [],
   "source": [
    "print(\"Probability distribution LSTM predictions:\")\n",
    "plot_histogram(prediction_simple_lstm)"
   ]
  },
  {
   "cell_type": "markdown",
   "metadata": {},
   "source": [
    "# Performing Transfer learning on Weebit pre-trained Deutsche learnen Corpus(Using LSTM network)"
   ]
  },
  {
   "cell_type": "code",
   "execution_count": 51,
   "metadata": {},
   "outputs": [
    {
     "name": "stdout",
     "output_type": "stream",
     "text": [
      "Shape of the dataset: (7814, 2)\n"
     ]
    },
    {
     "data": {
      "text/html": [
       "<div>\n",
       "<style scoped>\n",
       "    .dataframe tbody tr th:only-of-type {\n",
       "        vertical-align: middle;\n",
       "    }\n",
       "\n",
       "    .dataframe tbody tr th {\n",
       "        vertical-align: top;\n",
       "    }\n",
       "\n",
       "    .dataframe thead th {\n",
       "        text-align: right;\n",
       "    }\n",
       "</style>\n",
       "<table border=\"1\" class=\"dataframe\">\n",
       "  <thead>\n",
       "    <tr style=\"text-align: right;\">\n",
       "      <th></th>\n",
       "      <th>text</th>\n",
       "      <th>y</th>\n",
       "    </tr>\n",
       "  </thead>\n",
       "  <tbody>\n",
       "    <tr>\n",
       "      <th>0</th>\n",
       "      <td>US-Präsident Barack Obama will bis zu 250 zusä...</td>\n",
       "      <td>1</td>\n",
       "    </tr>\n",
       "    <tr>\n",
       "      <th>1</th>\n",
       "      <td>US-Präsident Barack Obama wird an diesem Monta...</td>\n",
       "      <td>1</td>\n",
       "    </tr>\n",
       "    <tr>\n",
       "      <th>2</th>\n",
       "      <td>Die rechtspopulistische FPÖ hat bei der Bundes...</td>\n",
       "      <td>1</td>\n",
       "    </tr>\n",
       "    <tr>\n",
       "      <th>3</th>\n",
       "      <td>In Deutschland ist die Zahl der Flüchtlinge au...</td>\n",
       "      <td>1</td>\n",
       "    </tr>\n",
       "    <tr>\n",
       "      <th>4</th>\n",
       "      <td>Die beiden abgeschlagenen Präsidentschaftskand...</td>\n",
       "      <td>1</td>\n",
       "    </tr>\n",
       "  </tbody>\n",
       "</table>\n",
       "</div>"
      ],
      "text/plain": [
       "                                                text  y\n",
       "0  US-Präsident Barack Obama will bis zu 250 zusä...  1\n",
       "1  US-Präsident Barack Obama wird an diesem Monta...  1\n",
       "2  Die rechtspopulistische FPÖ hat bei der Bundes...  1\n",
       "3  In Deutschland ist die Zahl der Flüchtlinge au...  1\n",
       "4  Die beiden abgeschlagenen Präsidentschaftskand...  1"
      ]
     },
     "execution_count": 51,
     "metadata": {},
     "output_type": "execute_result"
    }
   ],
   "source": [
    "# Loading necessary libraries\n",
    "dw_df = pd.read_hdf(\"dw.hdf5\",\"text_df\")[['text','y']]\n",
    "# Dropping null values\n",
    "dw_df.dropna(inplace=True)\n",
    "# Converting class labels to int dtype\n",
    "dw_df['y'] = dw_df['y'].astype(int)\n",
    "print(\"Shape of the dataset:\",dw_df.shape)\n",
    "dw_df.head()"
   ]
  },
  {
   "cell_type": "code",
   "execution_count": 52,
   "metadata": {},
   "outputs": [
    {
     "name": "stdout",
     "output_type": "stream",
     "text": [
      "Found 60833 unique tokens.\n"
     ]
    }
   ],
   "source": [
    "# Because of the computational expenses, I am using the top 20000 unique words. \n",
    "# At first, the text is tokenized and then convert those into sequences. \n",
    "# I have kept 50 words to limit the number of words in each comment.\n",
    "vocabulary_size = 20000\n",
    "\n",
    "# Initializing Tokenizer from keras\n",
    "tokenizer = Tokenizer(num_words= vocabulary_size)\n",
    "# Fitting text on the tokenizer\n",
    "tokenizer.fit_on_texts(dw_df['text'])\n",
    "# Converting text to sequence\n",
    "sequences = tokenizer.texts_to_sequences(dw_df['text'])\n",
    "\n",
    "# Finding unique tokenizer\n",
    "word_index = tokenizer.word_index\n",
    "print('Found %s unique tokens.' % len(word_index))\n",
    "\n",
    "# Padding sequences to the length of MAX_SEQUENCE_LENGTH\n",
    "data = pad_sequences(sequences, maxlen=50)\n",
    "labels = dw_df['y']"
   ]
  },
  {
   "cell_type": "markdown",
   "metadata": {},
   "source": [
    "Visualizing the data"
   ]
  },
  {
   "cell_type": "code",
   "execution_count": 53,
   "metadata": {},
   "outputs": [
    {
     "name": "stdout",
     "output_type": "stream",
     "text": [
      "class labels from the corpora: [1 0]\n",
      "Total no of sentences in the Corpora is 7349\n",
      "No of sentences in class label 1 is 6753\n",
      "No of sentences in class label 0 is 1061\n"
     ]
    },
    {
     "data": {
      "image/png": "[encoded data removed]",
      "text/plain": [
       "<matplotlib.figure.Figure at 0x7f7e2d1be1d0>"
      ]
     },
     "metadata": {},
     "output_type": "display_data"
    }
   ],
   "source": [
    "unique_class_labels = dw_df['y'].unique()\n",
    "print(\"class labels from the corpora:\",unique_class_labels)\n",
    "\n",
    "# Used to modify elements of a dictionary\n",
    "class make_dict(dict):\n",
    "    def __getitem__(self, item):\n",
    "        try:\n",
    "            return dict.__getitem__(self, item)\n",
    "        except KeyError:\n",
    "            value = self[item] = type(self)()\n",
    "            return value\n",
    "\n",
    "# Printing the total number of sentences in the corpora\n",
    "print(\"Total no of sentences in the Corpora is\",df.shape[0])\n",
    "# Getting count of sentences for every class\n",
    "count_list = []\n",
    "for class_label in dw_df['y'].unique():\n",
    "    print(\"No of sentences in class label\",str(class_label) + \" is \" + str(dw_df[dw_df['y']==class_label].shape[0]))\n",
    "    count_list.append((str(class_label),int(dw_df[dw_df['y']==class_label].shape[0])))\n",
    "\n",
    "# Getting data into dictionary for plotting\n",
    "no_of_sentence = make_dict()\n",
    "for values in count_list:\n",
    "    no_of_sentence[values[0]] = values[1]\n",
    "\n",
    "plt.bar(list(no_of_sentence.keys()), no_of_sentence.values(), color='g')\n",
    "plt.suptitle(no_of_sentence.keys(), fontsize=10)\n",
    "plt.xlabel('Class labels', fontsize=10)\n",
    "plt.ylabel('No of Sentences', fontsize=10)\n",
    "plt.show()"
   ]
  },
  {
   "cell_type": "markdown",
   "metadata": {},
   "source": [
    "Splitting the training and testing data"
   ]
  },
  {
   "cell_type": "code",
   "execution_count": 54,
   "metadata": {},
   "outputs": [
    {
     "name": "stdout",
     "output_type": "stream",
     "text": [
      "Shape of data tensor: (7814, 50)\n",
      "Shape of label tensor: (7814, 2)\n"
     ]
    }
   ],
   "source": [
    "# Getting the labels and features data\n",
    "labels = to_categorical(np.asarray(labels))\n",
    "print('Shape of data tensor:', data.shape)\n",
    "print('Shape of label tensor:', labels.shape)\n",
    "\n",
    "# Getting the splitting index for training and testing data\n",
    "SPLIT_RATIO = 0.25\n",
    "indices = np.arange(data.shape[0])\n",
    "np.random.shuffle(indices)\n",
    "data = data[indices]\n",
    "labels = labels[indices]\n",
    "validation_samples = int(SPLIT_RATIO * data.shape[0])\n",
    "\n",
    "# Getting the testing and training dataset\n",
    "X_train = data[:-validation_samples]\n",
    "y_train = labels[:-validation_samples]\n",
    "X_test = data[-validation_samples:]\n",
    "y_test = labels[-validation_samples:]"
   ]
  },
  {
   "cell_type": "markdown",
   "metadata": {},
   "source": [
    "Training LSTM model on Deutche lernen corpus"
   ]
  },
  {
   "cell_type": "code",
   "execution_count": 106,
   "metadata": {},
   "outputs": [
    {
     "name": "stdout",
     "output_type": "stream",
     "text": [
      "model fitting - CNN-LSTM convolutional neural network with globe word embeddings\n",
      "_________________________________________________________________\n",
      "Layer (type)                 Output Shape              Param #   \n",
      "=================================================================\n",
      "embedding_19 (Embedding)     (None, 50, 100)           2000000   \n",
      "_________________________________________________________________\n",
      "dropout_7 (Dropout)          (None, 50, 100)           0         \n",
      "_________________________________________________________________\n",
      "conv1d_7 (Conv1D)            (None, 46, 64)            32064     \n",
      "_________________________________________________________________\n",
      "max_pooling1d_7 (MaxPooling1 (None, 11, 64)            0         \n",
      "_________________________________________________________________\n",
      "lstm_8 (LSTM)                (None, 100)               66000     \n",
      "_________________________________________________________________\n",
      "dense_8 (Dense)              (None, 2)                 202       \n",
      "=================================================================\n",
      "Total params: 2,098,266\n",
      "Trainable params: 2,098,266\n",
      "Non-trainable params: 0\n",
      "_________________________________________________________________\n",
      "Train on 5861 samples, validate on 1953 samples\n",
      "Epoch 1/10\n",
      "5861/5861 [==============================] - 15s 3ms/step - loss: 0.2275 - acc: 0.9133 - val_loss: 0.0780 - val_acc: 0.9734\n",
      "Epoch 2/10\n",
      "5861/5861 [==============================] - 13s 2ms/step - loss: 0.0270 - acc: 0.9915 - val_loss: 0.1019 - val_acc: 0.9703\n",
      "Epoch 3/10\n",
      "5861/5861 [==============================] - 13s 2ms/step - loss: 0.0016 - acc: 0.9998 - val_loss: 0.1117 - val_acc: 0.9698\n",
      "Epoch 4/10\n",
      "5861/5861 [==============================] - 13s 2ms/step - loss: 8.8293e-05 - acc: 1.0000 - val_loss: 0.1261 - val_acc: 0.9683\n",
      "Epoch 5/10\n",
      "5861/5861 [==============================] - 13s 2ms/step - loss: 4.0265e-05 - acc: 1.0000 - val_loss: 0.1394 - val_acc: 0.9683\n",
      "Epoch 6/10\n",
      "5861/5861 [==============================] - 13s 2ms/step - loss: 2.1478e-05 - acc: 1.0000 - val_loss: 0.1489 - val_acc: 0.9677\n",
      "Epoch 7/10\n",
      "5861/5861 [==============================] - 13s 2ms/step - loss: 1.4337e-05 - acc: 1.0000 - val_loss: 0.1561 - val_acc: 0.9667\n",
      "Epoch 8/10\n",
      "5861/5861 [==============================] - 13s 2ms/step - loss: 9.9806e-06 - acc: 1.0000 - val_loss: 0.1631 - val_acc: 0.9667\n",
      "Epoch 9/10\n",
      "5861/5861 [==============================] - 13s 2ms/step - loss: 8.8224e-06 - acc: 1.0000 - val_loss: 0.1687 - val_acc: 0.9667\n",
      "Epoch 10/10\n",
      "5861/5861 [==============================] - 13s 2ms/step - loss: 7.0232e-06 - acc: 1.0000 - val_loss: 0.1745 - val_acc: 0.9667\n"
     ]
    }
   ],
   "source": [
    "vocabulary_size = 20000\n",
    "# Configuring the neural network\n",
    "model_transfer = Sequential()\n",
    "model_transfer.add(Embedding(vocabulary_size, 100, input_length=50, weights=[np.array(model_lstm_weights[0])], trainable=True))\n",
    "model_transfer.add(Dropout(0.2))\n",
    "model_transfer.add(Conv1D(64, 5, activation='relu'))\n",
    "model_transfer.add(MaxPooling1D(pool_size=4))\n",
    "model_transfer.add(LSTM(100))\n",
    "model_transfer.add(Dense(2, activation='softmax'))\n",
    "model_transfer.compile(loss='categorical_crossentropy', optimizer='adam', metrics=['accuracy'])\n",
    "print(\"model fitting - CNN-LSTM convolutional neural network with globe word embeddings\")\n",
    "model_transfer.summary()\n",
    "# Training the model\n",
    "model_transfer.fit(X_train, y_train,validation_data=(X_test,y_test),epochs=10)\n",
    "# Saving the model\n",
    "model_transfer.save(\"lstm_cnn_transfer.h5\")"
   ]
  },
  {
   "cell_type": "code",
   "execution_count": 107,
   "metadata": {},
   "outputs": [],
   "source": [
    "# Loading the pre-trained model\n",
    "model_transfer = load_model(\"lstm_cnn_transfer.h5\")"
   ]
  },
  {
   "cell_type": "code",
   "execution_count": 108,
   "metadata": {},
   "outputs": [
    {
     "name": "stdout",
     "output_type": "stream",
     "text": [
      "Accuracy: 96.67%\n"
     ]
    }
   ],
   "source": [
    "# Checking the accuracy\n",
    "accuracy_transfer_lstm_cnn = model_transfer.evaluate(X_test, y_test, verbose=0)\n",
    "print(\"Accuracy: %.2f%%\" % (accuracy_transfer_lstm_cnn[1]*100))"
   ]
  },
  {
   "cell_type": "code",
   "execution_count": 109,
   "metadata": {},
   "outputs": [],
   "source": [
    "# Making predictions in terms of probabilities for each class\n",
    "prediction_model_transfer = model_transfer.predict(X_test,batch_size=10,verbose=0)"
   ]
  },
  {
   "cell_type": "code",
   "execution_count": 110,
   "metadata": {},
   "outputs": [
    {
     "data": {
      "text/plain": [
       "array([[1.0169004e-04, 9.9989831e-01],\n",
       "       [2.8252684e-02, 9.7174734e-01],\n",
       "       [8.2518528e-07, 9.9999917e-01],\n",
       "       ...,\n",
       "       [1.1015429e-06, 9.9999893e-01],\n",
       "       [4.7569301e-06, 9.9999523e-01],\n",
       "       [3.0246863e-06, 9.9999702e-01]], dtype=float32)"
      ]
     },
     "execution_count": 110,
     "metadata": {},
     "output_type": "execute_result"
    }
   ],
   "source": [
    "prediction_model_transfer"
   ]
  },
  {
   "cell_type": "code",
   "execution_count": null,
   "metadata": {},
   "outputs": [],
   "source": []
  }
 ],
 "metadata": {
  "kernelspec": {
   "display_name": "Python 3",
   "language": "python",
   "name": "python3"
  },
  "language_info": {
   "codemirror_mode": {
    "name": "ipython",
    "version": 3
   },
   "file_extension": ".py",
   "mimetype": "text/x-python",
   "name": "python",
   "nbconvert_exporter": "python",
   "pygments_lexer": "ipython3",
   "version": "3.6.4"
  }
 },
 "nbformat": 4,
 "nbformat_minor": 2
}
