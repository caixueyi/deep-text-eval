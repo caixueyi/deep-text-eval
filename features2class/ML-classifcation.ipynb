{
 "cells": [
  {
   "cell_type": "markdown",
   "metadata": {},
   "source": [
    "## Data Preperation"
   ]
  },
  {
   "cell_type": "code",
   "execution_count": 40,
   "metadata": {},
   "outputs": [],
   "source": [
    "import pandas as pd\n",
    "from sklearn.preprocessing import scale\n",
    "from keras.utils import to_categorical\n",
    "\n",
    "text_features_df = pd.read_hdf('../data/weebit/weebit.h5', 'text_features_df')\n",
    "train_features_df = pd.read_hdf('../data/weebit/weebit.h5', 'train_features_df')\n",
    "test_features_df = pd.read_hdf('../data/weebit/weebit.h5', 'test_features_df')\n",
    "\n",
    "features_mask = text_features_df.columns.str.startswith('feature_')\n",
    "y_mask = text_features_df.columns == 'y'\n",
    "features_y_mask = features_mask | y_mask\n",
    "\n",
    "X_all = text_features_df.loc[:, features_mask]\n",
    "y_all = text_features_df['y']\n",
    "y_all_onehot = to_categorical(y_all)\n",
    "\n",
    "X_train = train_features_df.loc[:, features_mask]\n",
    "y_train = train_features_df['y']\n",
    "y_train_onehot = to_categorical(y_train)\n",
    "\n",
    "X_test = test_features_df.loc[:, features_mask]\n",
    "y_test = test_features_df['y']\n",
    "y_test_onehot = to_categorical(y_test)\n",
    "\n",
    "X_all = scale(X_all)\n",
    "X_train = scale(X_train)\n",
    "X_test = scale(X_test)"
   ]
  },
  {
   "cell_type": "code",
   "execution_count": 70,
   "metadata": {},
   "outputs": [],
   "source": [
    "from sklearn.metrics import confusion_matrix\n",
    "import seaborn as sns"
   ]
  },
  {
   "cell_type": "markdown",
   "metadata": {},
   "source": [
    "## Logistic Regression"
   ]
  },
  {
   "cell_type": "code",
   "execution_count": 72,
   "metadata": {},
   "outputs": [
    {
     "name": "stdout",
     "output_type": "stream",
     "text": [
      "Acc 0.669 0.657\n"
     ]
    }
   ],
   "source": [
    "from sklearn.linear_model import LogisticRegressionCV\n",
    "\n",
    "log_reg = LogisticRegressionCV(random_state=42)\n",
    "log_reg.fit(X_train, y_train)\n",
    "print('Acc {:0.3f} {:0.3f}'.format(log_reg.score(X_train, y_train) , log_reg.score(X_test, y_test)))"
   ]
  },
  {
   "cell_type": "markdown",
   "metadata": {},
   "source": [
    "## SVM"
   ]
  },
  {
   "cell_type": "code",
   "execution_count": 5,
   "metadata": {},
   "outputs": [],
   "source": [
    "from sklearn.model_selection import GridSearchCV\n",
    "Cs = log_reg.Cs_"
   ]
  },
  {
   "cell_type": "code",
   "execution_count": 14,
   "metadata": {},
   "outputs": [
    {
     "name": "stdout",
     "output_type": "stream",
     "text": [
      "C 0.046\n",
      "Acc 0.662 0.658\n"
     ]
    }
   ],
   "source": [
    "from sklearn.svm import LinearSVC\n",
    "\n",
    "linear_svm = GridSearchCV(LinearSVC(random_state=42), {'C': Cs})\n",
    "linear_svm.fit(X_train, y_train)\n",
    "print('C {:0.3f}'.format(linear_svm.best_params_['C']))\n",
    "print('Acc {:0.3f} {:0.3f}'.format(linear_svm.score(X_train, y_train) , linear_svm.score(X_test, y_test)))"
   ]
  },
  {
   "cell_type": "code",
   "execution_count": 19,
   "metadata": {},
   "outputs": [
    {
     "name": "stdout",
     "output_type": "stream",
     "text": [
      "C 2.783\n",
      "Acc 0.886 0.687\n"
     ]
    }
   ],
   "source": [
    "from sklearn.svm import SVC\n",
    "\n",
    "rbf_svm = GridSearchCV(SVC(random_state=42), {'C': Cs})\n",
    "rbf_svm.fit(X_train, y_train)\n",
    "print('C {:0.3f}'.format(rbf_svm.best_params_['C']))\n",
    "print('Acc {:0.3f} {:0.3f}'.format(rbf_svm.score(X_train, y_train) , rbf_svm.score(X_test, y_test)))"
   ]
  },
  {
   "cell_type": "code",
   "execution_count": 20,
   "metadata": {},
   "outputs": [
    {
     "name": "stdout",
     "output_type": "stream",
     "text": [
      "C 2.783\n",
      "Acc 0.886 0.687\n"
     ]
    }
   ],
   "source": [
    "poly_svm = GridSearchCV(SVC(random_state=42), {'C': Cs})\n",
    "poly_svm.fit(X_train, y_train)\n",
    "print('C {:0.3f}'.format(poly_svm.best_params_['C']))\n",
    "print('Acc {:0.3f} {:0.3f}'.format(poly_svm.score(X_train, y_train) , poly_svm.score(X_test, y_test)))"
   ]
  },
  {
   "cell_type": "code",
   "execution_count": 21,
   "metadata": {},
   "outputs": [
    {
     "name": "stdout",
     "output_type": "stream",
     "text": [
      "C 2.783\n",
      "Acc 0.886 0.687\n"
     ]
    }
   ],
   "source": [
    "sigmoid_svm = GridSearchCV(SVC(random_state=42), {'C': Cs})\n",
    "sigmoid_svm.fit(X_train, y_train)\n",
    "print('C {:0.3f}'.format(sigmoid_svm.best_params_['C']))\n",
    "print('Acc {:0.3f} {:0.3f}'.format(sigmoid_svm.score(X_train, y_train) , sigmoid_svm.score(X_test, y_test)))"
   ]
  },
  {
   "cell_type": "markdown",
   "metadata": {},
   "source": [
    "## Trees"
   ]
  },
  {
   "cell_type": "code",
   "execution_count": 28,
   "metadata": {},
   "outputs": [],
   "source": [
    "from sklearn.ensemble import RandomForestClassifier, GradientBoostingClassifier"
   ]
  },
  {
   "cell_type": "code",
   "execution_count": 31,
   "metadata": {},
   "outputs": [
    {
     "name": "stdout",
     "output_type": "stream",
     "text": [
      "Acc 0.989 0.606\n"
     ]
    }
   ],
   "source": [
    "random_forest = RandomForestClassifier(random_state=42)\n",
    "random_forest.fit(X_train, y_train)\n",
    "#print('C {:0.3f}'.format(sigmoid_svm.best_params_['C']))\n",
    "print('Acc {:0.3f} {:0.3f}'.format(random_forest.score(X_train, y_train) , random_forest.score(X_test, y_test)))"
   ]
  },
  {
   "cell_type": "code",
   "execution_count": 30,
   "metadata": {},
   "outputs": [
    {
     "name": "stdout",
     "output_type": "stream",
     "text": [
      "Acc 0.882 0.679\n"
     ]
    }
   ],
   "source": [
    "gb = GradientBoostingClassifier(random_state=42)\n",
    "gb.fit(X_train, y_train)\n",
    "#print('C {:0.3f}'.format(sigmoid_svm.best_params_['C']))\n",
    "print('Acc {:0.3f} {:0.3f}'.format(gb.score(X_train, y_train) , gb.score(X_test, y_test)))"
   ]
  },
  {
   "cell_type": "markdown",
   "metadata": {},
   "source": [
    "## MLP"
   ]
  },
  {
   "cell_type": "code",
   "execution_count": 89,
   "metadata": {},
   "outputs": [
    {
     "name": "stdout",
     "output_type": "stream",
     "text": [
      "_________________________________________________________________\n",
      "Layer (type)                 Output Shape              Param #   \n",
      "=================================================================\n",
      "dense_35 (Dense)             (None, 128)               4224      \n",
      "_________________________________________________________________\n",
      "dense_36 (Dense)             (None, 128)               16512     \n",
      "_________________________________________________________________\n",
      "dense_37 (Dense)             (None, 128)               16512     \n",
      "_________________________________________________________________\n",
      "dense_38 (Dense)             (None, 5)                 645       \n",
      "=================================================================\n",
      "Total params: 37,893\n",
      "Trainable params: 37,893\n",
      "Non-trainable params: 0\n",
      "_________________________________________________________________\n",
      "None\n",
      "Train on 2617 samples, validate on 291 samples\n",
      "Epoch 1/30\n",
      "2617/2617 [==============================] - 1s 369us/step - loss: 3.3053 - acc: 0.4471 - val_loss: 2.2238 - val_acc: 0.5876\n",
      "Epoch 2/30\n",
      "2617/2617 [==============================] - 0s 165us/step - loss: 1.8428 - acc: 0.5911 - val_loss: 1.5708 - val_acc: 0.6186\n",
      "Epoch 3/30\n",
      "2617/2617 [==============================] - 0s 170us/step - loss: 1.4509 - acc: 0.6305 - val_loss: 1.3623 - val_acc: 0.6495\n",
      "Epoch 4/30\n",
      "2617/2617 [==============================] - 0s 172us/step - loss: 1.3110 - acc: 0.6530 - val_loss: 1.2822 - val_acc: 0.6495\n",
      "Epoch 5/30\n",
      "2617/2617 [==============================] - 0s 166us/step - loss: 1.2418 - acc: 0.6523 - val_loss: 1.2308 - val_acc: 0.6564\n",
      "Epoch 6/30\n",
      "2617/2617 [==============================] - 0s 159us/step - loss: 1.2055 - acc: 0.6660 - val_loss: 1.2118 - val_acc: 0.6426\n",
      "Epoch 7/30\n",
      "2617/2617 [==============================] - 0s 179us/step - loss: 1.1757 - acc: 0.6718 - val_loss: 1.2043 - val_acc: 0.6460\n",
      "Epoch 8/30\n",
      "2617/2617 [==============================] - 0s 175us/step - loss: 1.1608 - acc: 0.6714 - val_loss: 1.1655 - val_acc: 0.6770\n",
      "Epoch 9/30\n",
      "2617/2617 [==============================] - 0s 167us/step - loss: 1.1414 - acc: 0.6813 - val_loss: 1.1825 - val_acc: 0.6426\n",
      "Epoch 10/30\n",
      "2617/2617 [==============================] - 0s 158us/step - loss: 1.1330 - acc: 0.6859 - val_loss: 1.1755 - val_acc: 0.6529\n",
      "Epoch 11/30\n",
      "2617/2617 [==============================] - 0s 166us/step - loss: 1.1297 - acc: 0.6752 - val_loss: 1.1611 - val_acc: 0.6804\n",
      "Epoch 12/30\n",
      "2617/2617 [==============================] - 0s 178us/step - loss: 1.1211 - acc: 0.6848 - val_loss: 1.1555 - val_acc: 0.6701\n",
      "Epoch 13/30\n",
      "2617/2617 [==============================] - 0s 176us/step - loss: 1.1168 - acc: 0.6836 - val_loss: 1.1407 - val_acc: 0.6804\n",
      "Epoch 14/30\n",
      "2617/2617 [==============================] - 0s 174us/step - loss: 1.1080 - acc: 0.6851 - val_loss: 1.1605 - val_acc: 0.6838\n",
      "Epoch 15/30\n",
      "2617/2617 [==============================] - 0s 161us/step - loss: 1.1062 - acc: 0.6878 - val_loss: 1.1494 - val_acc: 0.6735\n",
      "Epoch 16/30\n",
      "2617/2617 [==============================] - 0s 178us/step - loss: 1.1020 - acc: 0.6947 - val_loss: 1.1489 - val_acc: 0.6838\n",
      "Epoch 17/30\n",
      "2617/2617 [==============================] - 0s 181us/step - loss: 1.1025 - acc: 0.6912 - val_loss: 1.1338 - val_acc: 0.6838\n",
      "Epoch 18/30\n",
      "2617/2617 [==============================] - 0s 166us/step - loss: 1.0963 - acc: 0.6825 - val_loss: 1.1361 - val_acc: 0.6838\n",
      "Epoch 19/30\n",
      "2617/2617 [==============================] - 0s 175us/step - loss: 1.0897 - acc: 0.6970 - val_loss: 1.1556 - val_acc: 0.6701\n",
      "Epoch 20/30\n",
      "2617/2617 [==============================] - 0s 171us/step - loss: 1.0832 - acc: 0.6962 - val_loss: 1.1378 - val_acc: 0.6598\n",
      "Epoch 21/30\n",
      "2617/2617 [==============================] - 0s 177us/step - loss: 1.0897 - acc: 0.6905 - val_loss: 1.1306 - val_acc: 0.6873\n",
      "Epoch 22/30\n",
      "2617/2617 [==============================] - 0s 160us/step - loss: 1.0891 - acc: 0.6947 - val_loss: 1.1478 - val_acc: 0.6598\n",
      "Epoch 23/30\n",
      "2617/2617 [==============================] - 0s 170us/step - loss: 1.0946 - acc: 0.6939 - val_loss: 1.1128 - val_acc: 0.6598\n",
      "Epoch 24/30\n",
      "2617/2617 [==============================] - 0s 181us/step - loss: 1.0819 - acc: 0.6951 - val_loss: 1.1414 - val_acc: 0.6667\n",
      "Epoch 25/30\n",
      "2617/2617 [==============================] - 0s 176us/step - loss: 1.0788 - acc: 0.6939 - val_loss: 1.1293 - val_acc: 0.6735\n",
      "Epoch 26/30\n",
      "2617/2617 [==============================] - 0s 175us/step - loss: 1.0785 - acc: 0.6943 - val_loss: 1.1733 - val_acc: 0.6735\n",
      "Epoch 27/30\n",
      "2617/2617 [==============================] - 0s 166us/step - loss: 1.0844 - acc: 0.6859 - val_loss: 1.1514 - val_acc: 0.6804\n",
      "Epoch 28/30\n",
      "2617/2617 [==============================] - 0s 168us/step - loss: 1.0778 - acc: 0.6932 - val_loss: 1.1331 - val_acc: 0.6701\n",
      "Epoch 29/30\n",
      "2617/2617 [==============================] - 0s 178us/step - loss: 1.0835 - acc: 0.6886 - val_loss: 1.1487 - val_acc: 0.6667\n",
      "Epoch 30/30\n",
      "2617/2617 [==============================] - 0s 177us/step - loss: 1.0767 - acc: 0.6912 - val_loss: 1.1529 - val_acc: 0.6598\n",
      "<keras.callbacks.History object at 0x7f114f81c4a8>\n"
     ]
    }
   ],
   "source": [
    "from keras.models import Sequential\n",
    "from keras.layers import Dense\n",
    "from keras import regularizers\n",
    "\n",
    "n_features = X_train.shape[1]\n",
    "\n",
    "model = Sequential()\n",
    "model.add(Dense(128, input_shape=(n_features,), activation='relu', kernel_regularizer=regularizers.l2(0.01)))\n",
    "model.add(Dense(128, activation='relu', kernel_regularizer=regularizers.l2(0.01)))\n",
    "model.add(Dense(128, activation='relu', kernel_regularizer=regularizers.l2(0.01)))\n",
    "model.add(Dense(5, activation='sigmoid', kernel_regularizer=regularizers.l2(0.01)))\n",
    "\n",
    "model.compile(optimizer='adam', loss='categorical_crossentropy', metrics=['accuracy'])\n",
    "\n",
    "print(model.summary())\n",
    "\n",
    "print(model.fit(X_train, y_train_onehot, epochs=30, validation_split=0.1))"
   ]
  },
  {
   "cell_type": "code",
   "execution_count": 90,
   "metadata": {},
   "outputs": [
    {
     "data": {
      "text/plain": [
       "0.6456043956043956"
      ]
     },
     "execution_count": 90,
     "metadata": {},
     "output_type": "execute_result"
    }
   ],
   "source": [
    "sum(model.predict_classes(X_test) == y_test) / len(y_test)"
   ]
  }
 ],
 "metadata": {
  "kernelspec": {
   "display_name": "Python 3",
   "language": "python",
   "name": "python3"
  },
  "language_info": {
   "codemirror_mode": {
    "name": "ipython",
    "version": 3
   },
   "file_extension": ".py",
   "mimetype": "text/x-python",
   "name": "python",
   "nbconvert_exporter": "python",
   "pygments_lexer": "ipython3",
   "version": "3.5.2"
  }
 },
 "nbformat": 4,
 "nbformat_minor": 2
}
